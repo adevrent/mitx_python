{
 "cells": [
  {
   "cell_type": "code",
   "execution_count": 76,
   "metadata": {},
   "outputs": [],
   "source": [
    "# define Node, Edge, WeightedEdge classes\n",
    "\n",
    "class Node(object):\n",
    "    def __init__(self, name) -> None:\n",
    "        \"\"\"Assumes name is a string\"\"\"\n",
    "        self.name = name\n",
    "    def getName(self):\n",
    "        return self.name\n",
    "    def __str__(self) -> str:\n",
    "        return self.name\n",
    "\n",
    "class Edge(object):\n",
    "    def __init__(self, src, dest) -> None:\n",
    "        \"\"\"Assumes src and dest are nodes\"\"\"\n",
    "        self.src = src\n",
    "        self.dest = dest\n",
    "    def getSource(self):\n",
    "        return self.src\n",
    "    def getDestination(self):\n",
    "        return self.dest\n",
    "    def __str__(self) -> str:\n",
    "        return self.src.getName() + \"->\" + self.dest.getName()\n",
    "    \n",
    "class WeightedEdge(Edge):\n",
    "    def __init__(self, src, dest, weight = 1.0) -> None:\n",
    "        \"\"\"Assumes src and dest are nodes, weight a number\"\"\"\n",
    "        self.src = src\n",
    "        self.dest = dest\n",
    "        self.weight = weight\n",
    "    def getWeight(self):\n",
    "        return self.weight\n",
    "    def __str__(self) -> str:\n",
    "        return self.src.getName() + \"->(\" + str(self.weight) + \")\" + self.dest.getName()        "
   ]
  },
  {
   "cell_type": "code",
   "execution_count": 77,
   "metadata": {},
   "outputs": [],
   "source": [
    "# define Graph classes\n",
    "\n",
    "class Digraph(object):\n",
    "    # nodes is a list of the nodes in the graph\n",
    "    # edges is a dict mapping each node to a list of its children\n",
    "    def __init__(self):\n",
    "        self.nodes = []\n",
    "        self.edges = {}  # consists of source:destinations pairs where key is a single node but value is a list of nodes\n",
    "    def addNode(self, node):\n",
    "        if node in self.nodes:\n",
    "            raise ValueError(\"Duplicate Node\")\n",
    "        else:\n",
    "            self.nodes.append(node)\n",
    "            self.edges[node] = []  # create an empty list as children of the new node\n",
    "    def addEdge(self, edge):\n",
    "        src = edge.getSource()\n",
    "        dest = edge.getDestination()\n",
    "        if not (src in self.nodes and dest in self.nodes):\n",
    "            raise ValueError(\"Node not in graph\")\n",
    "        self.edges[src].append(dest)\n",
    "    def childrenOf(self, node):\n",
    "        return self.edges[node]\n",
    "    def hasNode(self, node):\n",
    "        return node in self.nodes\n",
    "    def __str__(self):\n",
    "        result = \"\"\n",
    "        for src in self.nodes:\n",
    "            for dest in self.edges[src]:\n",
    "                result = result + src.getName() + \"->\" + dest.getName() + \"\\n\"\n",
    "        return result[:-1]  # omit final newline\n",
    "                \n",
    "class Graph(Digraph):\n",
    "    def addEdge(self, edge):\n",
    "        Digraph.addEdge(self, edge)\n",
    "        rev = Edge(edge.getDestination(), edge.getSource())\n",
    "        Digraph.addEdge(self, rev)"
   ]
  },
  {
   "cell_type": "code",
   "execution_count": 78,
   "metadata": {},
   "outputs": [
    {
     "name": "stdout",
     "output_type": "stream",
     "text": [
      "ABC\n",
      "ACB\n",
      "BAC\n",
      "BCA\n",
      "CAB\n",
      "CBA\n"
     ]
    }
   ],
   "source": [
    "nodes = []\n",
    "nodes.append(Node(\"ABC\")) # nodes[0]\n",
    "nodes.append(Node(\"ACB\")) # nodes[1]\n",
    "nodes.append(Node(\"BAC\")) # nodes[2]\n",
    "nodes.append(Node(\"BCA\")) # nodes[3]\n",
    "nodes.append(Node(\"CAB\")) # nodes[4]\n",
    "nodes.append(Node(\"CBA\")) # nodes[5]\n",
    "\n",
    "g = Graph()\n",
    "for n in nodes:\n",
    "    g.addNode(n)\n",
    "    \n",
    "for n in g.nodes:\n",
    "    print(n.getName())"
   ]
  },
  {
   "cell_type": "code",
   "execution_count": 79,
   "metadata": {},
   "outputs": [
    {
     "name": "stdout",
     "output_type": "stream",
     "text": [
      "ABC->ACB\n",
      "ABC->BAC\n",
      "ACB->ABC\n",
      "ACB->CAB\n",
      "BAC->ABC\n",
      "BAC->BCA\n",
      "BCA->BAC\n",
      "BCA->CBA\n",
      "CAB->ACB\n",
      "CAB->CBA\n",
      "CBA->BCA\n",
      "CBA->CAB\n"
     ]
    }
   ],
   "source": [
    "# Generate and add edges\n",
    "for n in nodes:\n",
    "    name = n.getName()\n",
    "    name1 = name[0] + name[2] + name[1]\n",
    "    name2 = name[1] + name[0] + name[2]\n",
    "    for n_dest in nodes:\n",
    "        if n_dest.getName() == name1:\n",
    "            g.edges[n].append(n_dest)\n",
    "        if n_dest.getName() == name2:\n",
    "            g.edges[n].append(n_dest)\n",
    "\n",
    "print(g)"
   ]
  },
  {
   "cell_type": "code",
   "execution_count": null,
   "metadata": {},
   "outputs": [],
   "source": []
  }
 ],
 "metadata": {
  "kernelspec": {
   "display_name": ".env",
   "language": "python",
   "name": ".env"
  },
  "language_info": {
   "codemirror_mode": {
    "name": "ipython",
    "version": 3
   },
   "file_extension": ".py",
   "mimetype": "text/x-python",
   "name": "python",
   "nbconvert_exporter": "python",
   "pygments_lexer": "ipython3",
   "version": "3.10.5"
  }
 },
 "nbformat": 4,
 "nbformat_minor": 2
}
