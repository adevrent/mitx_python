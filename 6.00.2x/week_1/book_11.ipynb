{
 "cells": [
  {
   "cell_type": "markdown",
   "metadata": {},
   "source": [
    "# Knapsack Problems"
   ]
  },
  {
   "cell_type": "code",
   "execution_count": 17,
   "metadata": {},
   "outputs": [],
   "source": [
    "class Item(object):\n",
    "    def __init__(self, n, v, w) -> None:\n",
    "        self.name = n\n",
    "        self.value = v\n",
    "        self.weight = w\n",
    "    \n",
    "    def getName(self):\n",
    "        return self.name\n",
    "    \n",
    "    def getValue(self):\n",
    "        return self.value\n",
    "    \n",
    "    def getWeight(self):\n",
    "        return self.weight\n",
    "    \n",
    "    def __str__(self) -> str:\n",
    "        result = \"<\" + self.name + \", \" + str(self.value) + \", \" + str(self.weight) + \">\"\n",
    "        return result\n",
    "\n",
    "def value(item):\n",
    "    return item.getValue()\n",
    "\n",
    "def weightInverse(item):\n",
    "    return 1.0/item.getWeight()\n",
    "\n",
    "def density(item):  # we are going to use this as keyFunction\n",
    "    return item.getValue()/item.getWeight()\n",
    "\n",
    "# Greedy Algorithm for a Knapsack Problem\n",
    "def greedy(items, maxWeight, keyFunction):\n",
    "    \"\"\"Assumes items a list, maxWeight >= 0, keyFunction maps elements of items to numbers\n",
    "\n",
    "    Args:\n",
    "        items (list): list of Items class instances\n",
    "        maxWeight (float): maximum carrying capacity of the burglar\n",
    "        keyFunction (function): defines an ordering on the elements in items. (in the first example we are going to use density function).\n",
    "    \"\"\"\n",
    "    itemsCopy = sorted(items, key=keyFunction, reverse=True)  # use keyFunction as the sorting function (keyFunction is going to be density), reverse=True because we want highest density first.\n",
    "    result = []\n",
    "    totalValue, totalWeight = 0.0, 0.0\n",
    "    for i in range(len(itemsCopy)):\n",
    "        if (totalWeight + itemsCopy[i].getWeight()) <= maxWeight:\n",
    "            result.append(itemsCopy[i])\n",
    "            totalWeight += itemsCopy[i].getWeight()\n",
    "            totalValue += itemsCopy[i].getValue()\n",
    "    return (result, totalValue)"
   ]
  },
  {
   "cell_type": "code",
   "execution_count": 18,
   "metadata": {},
   "outputs": [
    {
     "name": "stdout",
     "output_type": "stream",
     "text": [
      "<clock, 175, 10>\n"
     ]
    }
   ],
   "source": [
    "# Take a quick look at the Item class.\n",
    "clock = Item(\"clock\", 175, 10)\n",
    "print(clock)"
   ]
  },
  {
   "cell_type": "markdown",
   "metadata": {},
   "source": [
    "## Solving a **0/1 Knapsack Problem** subject to max weight constraint"
   ]
  },
  {
   "cell_type": "markdown",
   "metadata": {},
   "source": [
    "### Solving by exhaustive enumeration (brute-force)"
   ]
  },
  {
   "cell_type": "code",
   "execution_count": null,
   "metadata": {},
   "outputs": [],
   "source": [
    "def get_all_subsets(some_list):\n",
    "    \"\"\"Returns all subsets of size 0 - len(some_list) for some_list\"\"\"\n",
    "    if len(some_list) == 0:\n",
    "        # If the list is empty, return the empty list\n",
    "        return [[]]\n",
    "    subsets = []\n",
    "    first_elt = some_list[0]\n",
    "    rest_list = some_list[1:]\n",
    "    # Strategy: Get all the subsets of rest_list; for each\n",
    "    # of those subsets, a full subset list will contain both\n",
    "    # the original subset as well as a version of the subset\n",
    "    # that contains first_elt\n",
    "    for partial_subset in get_all_subsets(rest_list):\n",
    "        subsets.append(partial_subset)\n",
    "        next_subset = partial_subset[:] + [first_elt]\n",
    "        subsets.append(next_subset)\n",
    "    return subsets"
   ]
  }
 ],
 "metadata": {
  "kernelspec": {
   "display_name": "Python 3",
   "language": "python",
   "name": "python3"
  },
  "language_info": {
   "codemirror_mode": {
    "name": "ipython",
    "version": 3
   },
   "file_extension": ".py",
   "mimetype": "text/x-python",
   "name": "python",
   "nbconvert_exporter": "python",
   "pygments_lexer": "ipython3",
   "version": "3.10.5"
  }
 },
 "nbformat": 4,
 "nbformat_minor": 2
}
