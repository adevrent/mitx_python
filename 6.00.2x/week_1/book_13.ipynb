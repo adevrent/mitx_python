{
 "cells": [
  {
   "cell_type": "markdown",
   "metadata": {},
   "source": [
    "# Dynamic Programming"
   ]
  },
  {
   "cell_type": "code",
   "execution_count": 14,
   "metadata": {},
   "outputs": [],
   "source": [
    "# Recursive Fibonacci revisited\n",
    "def fib(n):\n",
    "    \"\"\"returns the n'th Fibonacci number (index starts at 0, 0'th fibonacci number is 1)\n",
    "\n",
    "    Args:\n",
    "        n (int): number of the Fibonacci number\n",
    "    \"\"\"\n",
    "    if n == 0 or n == 1:\n",
    "        return 1\n",
    "    else:\n",
    "        return fib(n - 2) + fib(n - 1)"
   ]
  },
  {
   "cell_type": "code",
   "execution_count": 15,
   "metadata": {},
   "outputs": [
    {
     "data": {
      "text/plain": [
       "13"
      ]
     },
     "execution_count": 15,
     "metadata": {},
     "output_type": "execute_result"
    }
   ],
   "source": [
    "fib(6)"
   ]
  },
  {
   "cell_type": "markdown",
   "metadata": {},
   "source": [
    "## Fibonacci with **memoization**"
   ]
  },
  {
   "cell_type": "code",
   "execution_count": 48,
   "metadata": {},
   "outputs": [],
   "source": [
    "# Fib with memoization results in lower complexity.\n",
    "def fastFib(n, fibdict={0:1, 1:1}):\n",
    "    if n in fibdict:\n",
    "        return fibdict[n]\n",
    "    else:\n",
    "        result = fastFib(n - 2, fibdict) + fastFib(n - 1, fibdict)\n",
    "        fibdict[n] = result\n",
    "        print(\"New fibdict =\", fibdict)\n",
    "        print(\"New Fibonacci sequence =\", list(fibdict.values()))\n",
    "        return result"
   ]
  },
  {
   "cell_type": "code",
   "execution_count": 49,
   "metadata": {},
   "outputs": [
    {
     "name": "stdout",
     "output_type": "stream",
     "text": [
      "New fibdict = {0: 1, 1: 1, 2: 2}\n",
      "New Fibonacci sequence = [1, 1, 2]\n",
      "New fibdict = {0: 1, 1: 1, 2: 2, 3: 3}\n",
      "New Fibonacci sequence = [1, 1, 2, 3]\n",
      "New fibdict = {0: 1, 1: 1, 2: 2, 3: 3, 4: 5}\n",
      "New Fibonacci sequence = [1, 1, 2, 3, 5]\n",
      "New fibdict = {0: 1, 1: 1, 2: 2, 3: 3, 4: 5, 5: 8}\n",
      "New Fibonacci sequence = [1, 1, 2, 3, 5, 8]\n",
      "New fibdict = {0: 1, 1: 1, 2: 2, 3: 3, 4: 5, 5: 8, 6: 13}\n",
      "New Fibonacci sequence = [1, 1, 2, 3, 5, 8, 13]\n"
     ]
    },
    {
     "data": {
      "text/plain": [
       "13"
      ]
     },
     "execution_count": 49,
     "metadata": {},
     "output_type": "execute_result"
    }
   ],
   "source": [
    "fastFib(6)"
   ]
  }
 ],
 "metadata": {
  "kernelspec": {
   "display_name": "Python 3",
   "language": "python",
   "name": "python3"
  },
  "language_info": {
   "codemirror_mode": {
    "name": "ipython",
    "version": 3
   },
   "file_extension": ".py",
   "mimetype": "text/x-python",
   "name": "python",
   "nbconvert_exporter": "python",
   "pygments_lexer": "ipython3",
   "version": "3.10.5"
  }
 },
 "nbformat": 4,
 "nbformat_minor": 2
}
