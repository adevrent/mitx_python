{
 "cells": [
  {
   "cell_type": "markdown",
   "metadata": {},
   "source": [
    "# Search Tree"
   ]
  },
  {
   "cell_type": "code",
   "execution_count": 11,
   "metadata": {},
   "outputs": [],
   "source": [
    "def maxVal(toConsider, avail):\n",
    "    \"\"\"Assumes toConsider a list of items, avail a weight.\n",
    "       Returns a tuple of the total value of a solution to a 1/0 Knapsack problem and the items of that solution.\n",
    "        *Note: This function will be called recursively!\n",
    "\n",
    "    Args:\n",
    "        toConsider (list): remaining items to consider\n",
    "        avail (float): available amount of space left\n",
    "    \"\"\"\n",
    "    if toConsider == [] or avail == 0:\n",
    "        result = (0, ())\n",
    "    elif toConsider[0].getCost() > avail:\n",
    "        # Explore right branch only\n",
    "        result = maxVal(toConsider[1:], avail)\n",
    "    else:\n",
    "        nextItem = toConsider[0]\n",
    "        # Explore left branch\n",
    "        withVal, withToTake = maxVal(toConsider[1:], avail - nextItem.getCost())\n",
    "        withVal += nextItem.getValue()\n",
    "        # Explore right branch\n",
    "        withoutVal, withoutToTake = maxVal(toConsider[1:], avail)\n",
    "        # Choose better branch\n",
    "        if withVal > withoutVal:\n",
    "            result = (withVal, withToTake + (nextItem,))\n",
    "        else:\n",
    "            result = (withoutVal, withoutToTake)\n",
    "    return result"
   ]
  },
  {
   "cell_type": "code",
   "execution_count": 12,
   "metadata": {},
   "outputs": [
    {
     "name": "stdout",
     "output_type": "stream",
     "text": [
      "<generator object genFib at 0x7fb99caefed0>\n",
      "1\n",
      "2\n",
      "3\n",
      "5\n"
     ]
    }
   ],
   "source": [
    "# Reminder on generator functions\n",
    "def genFib():\n",
    "    fibn_1 = 1\n",
    "    fibn_2 = 0\n",
    "    while True:\n",
    "        next = fibn_1 + fibn_2\n",
    "        yield next\n",
    "        fibn_2 = fibn_1\n",
    "        fibn_1 = next\n",
    "\n",
    "fibgenerator = genFib()\n",
    "\n",
    "# This is a generator object\n",
    "print(fibgenerator)\n",
    "\n",
    "# First four fibonacci numbers are printed\n",
    "print(fibgenerator.__next__())\n",
    "print(fibgenerator.__next__())\n",
    "print(fibgenerator.__next__())\n",
    "print(fibgenerator.__next__())"
   ]
  },
  {
   "cell_type": "markdown",
   "metadata": {},
   "source": [
    "## Bitwise Operations in Python\n",
    "### **<<, >>, &, |, ~, ^**\n",
    "They operate on numbers (normally), but instead of treating that number as if it were a single value, they treat it as if it were a **string** of bits, written in twos-complement binary."
   ]
  },
  {
   "cell_type": "markdown",
   "metadata": {},
   "source": [
    "### The Operators:\n",
    "**x << y**\n",
    "* Returns x with the bits shifted to the left by y places (and new bits on the right-hand-side are zeros). This is the same as multiplying x by 2**y.\n",
    "\n",
    "**x >> y**\n",
    "* Returns x with the bits shifted to the right by y places. This is the same as //'ing x by 2**y.\n",
    "\n",
    "**x & y**\n",
    "* Does a \"bitwise and\". Each bit of the output is 1 if the corresponding bit of x AND of y is 1, otherwise it's 0.\n",
    "\n",
    "**x | y**\n",
    "* Does a \"bitwise or\". Each bit of the output is 0 if the corresponding bit of x AND of y is 0, otherwise it's 1.\n",
    "\n",
    "**~ x**\n",
    "* Returns the complement of x - the number you get by switching each 1 for a 0 and each 0 for a 1. This is the same as -x - 1.\n",
    "\n",
    "**x ^ y**\n",
    "* Does a \"bitwise exclusive or\". Each bit of the output is the same as the corresponding bit in x if that bit in y is 0, and it's the complement of the bit in x if that bit in y is 1."
   ]
  },
  {
   "cell_type": "code",
   "execution_count": 13,
   "metadata": {},
   "outputs": [
    {
     "name": "stdout",
     "output_type": "stream",
     "text": [
      "0b1111\n",
      "0b11\n",
      "0b1001\n",
      "0b0\n"
     ]
    }
   ],
   "source": [
    "# x >> y example\n",
    "\n",
    "x = 15  # equal to \"1111\"\n",
    "y = 3   # equal to \"11\"\n",
    "z = 9 # equal to \"1001\"\n",
    "t = 0 # equal to \"0\"\n",
    "\n",
    "# convert from int to binary\n",
    "print(bin(x))\n",
    "print(bin(y))\n",
    "print(bin(z))\n",
    "print(bin(t))"
   ]
  },
  {
   "cell_type": "code",
   "execution_count": 14,
   "metadata": {},
   "outputs": [
    {
     "name": "stdout",
     "output_type": "stream",
     "text": [
      "1111\n",
      "11\n",
      "1001\n",
      "0\n"
     ]
    }
   ],
   "source": [
    "# proper binary form:\n",
    "print(bin(x)[2:])\n",
    "print(bin(y)[2:])\n",
    "print(bin(z)[2:])\n",
    "print(bin(t)[2:])"
   ]
  },
  {
   "cell_type": "code",
   "execution_count": 15,
   "metadata": {},
   "outputs": [
    {
     "name": "stdout",
     "output_type": "stream",
     "text": [
      "1\n"
     ]
    }
   ],
   "source": [
    "# x // 2**y in base 10\n",
    "print(x >> y)  # equal to int(\"1.111\") == 1"
   ]
  },
  {
   "cell_type": "markdown",
   "metadata": {},
   "source": [
    "## Power set generator"
   ]
  },
  {
   "cell_type": "code",
   "execution_count": 67,
   "metadata": {},
   "outputs": [],
   "source": [
    "# Instructor's function:\n",
    "\n",
    "# generate all combinations of N items\n",
    "def powerSet(items):\n",
    "    N = len(items)\n",
    "    # enumerate the 2**N possible combinations\n",
    "    for i in range(2**N):\n",
    "        combo = []\n",
    "        print(\"binary i =\", bin(i)[2:])\n",
    "        for j in range(N):\n",
    "            print(\"i =\", i, \",\", \"j =\", j)\n",
    "            print(\"i >> j =\", i >> j)\n",
    "            # test bit jth of integer i\n",
    "            if (i >> j) % 2 == 1:\n",
    "                combo.append(items[j])\n",
    "                print(\"combo =\", combo)\n",
    "            print(\" \")\n",
    "        print(\"Iteration i =\", i, \"complete. combo =\", combo)\n",
    "        print(\"-\" * 50)\n",
    "        yield combo"
   ]
  },
  {
   "cell_type": "code",
   "execution_count": 68,
   "metadata": {},
   "outputs": [
    {
     "name": "stdout",
     "output_type": "stream",
     "text": [
      "binary i = 0\n",
      "i = 0 , j = 0\n",
      "i >> j = 0\n",
      " \n",
      "i = 0 , j = 1\n",
      "i >> j = 0\n",
      " \n",
      "Iteration i = 0 complete. combo = []\n",
      "--------------------------------------------------\n",
      "binary i = 1\n",
      "i = 1 , j = 0\n",
      "i >> j = 1\n",
      "combo = ['apple']\n",
      " \n",
      "i = 1 , j = 1\n",
      "i >> j = 0\n",
      " \n",
      "Iteration i = 1 complete. combo = ['apple']\n",
      "--------------------------------------------------\n",
      "binary i = 10\n",
      "i = 2 , j = 0\n",
      "i >> j = 2\n",
      " \n",
      "i = 2 , j = 1\n",
      "i >> j = 1\n",
      "combo = ['orange']\n",
      " \n",
      "Iteration i = 2 complete. combo = ['orange']\n",
      "--------------------------------------------------\n",
      "binary i = 11\n",
      "i = 3 , j = 0\n",
      "i >> j = 3\n",
      "combo = ['apple']\n",
      " \n",
      "i = 3 , j = 1\n",
      "i >> j = 1\n",
      "combo = ['apple', 'orange']\n",
      " \n",
      "Iteration i = 3 complete. combo = ['apple', 'orange']\n",
      "--------------------------------------------------\n"
     ]
    }
   ],
   "source": [
    "items = [\"apple\", \"orange\"]\n",
    "\n",
    "for i in powerSet(items):\n",
    "    i"
   ]
  },
  {
   "cell_type": "code",
   "execution_count": 87,
   "metadata": {},
   "outputs": [],
   "source": [
    "def yieldAllCombos(items):\n",
    "    \"\"\"\n",
    "      Generates all combinations of N items into two bags, whereby each \n",
    "      item is in one or zero bags.\n",
    "\n",
    "      Yields a tuple, (bag1, bag2), where each bag is represented as \n",
    "      a list of which item(s) are in each bag.\n",
    "    \"\"\"\n",
    "    N = len(items)\n",
    "    # enumerate the 3**N possible combinations\n",
    "    for i in range(3**N):\n",
    "        bag1 = []\n",
    "        bag2 = []\n",
    "        for j in range(N):\n",
    "            if (i // 3**j) % 3 == 1:\n",
    "                bag1.append(items[j])\n",
    "            elif (i // 3**j) % 3 == 2:\n",
    "                bag2.append(items[j])\n",
    "        yield (bag1, bag2)"
   ]
  },
  {
   "cell_type": "code",
   "execution_count": 88,
   "metadata": {},
   "outputs": [
    {
     "name": "stdout",
     "output_type": "stream",
     "text": [
      "([], [])\n",
      "(['apple'], [])\n",
      "([], ['apple'])\n",
      "(['orange'], [])\n",
      "(['apple', 'orange'], [])\n",
      "(['orange'], ['apple'])\n",
      "([], ['orange'])\n",
      "(['apple'], ['orange'])\n",
      "([], ['apple', 'orange'])\n",
      "(['kiwi'], [])\n",
      "(['apple', 'kiwi'], [])\n",
      "(['kiwi'], ['apple'])\n",
      "(['orange', 'kiwi'], [])\n",
      "(['apple', 'orange', 'kiwi'], [])\n",
      "(['orange', 'kiwi'], ['apple'])\n",
      "(['kiwi'], ['orange'])\n",
      "(['apple', 'kiwi'], ['orange'])\n",
      "(['kiwi'], ['apple', 'orange'])\n",
      "([], ['kiwi'])\n",
      "(['apple'], ['kiwi'])\n",
      "([], ['apple', 'kiwi'])\n",
      "(['orange'], ['kiwi'])\n",
      "(['apple', 'orange'], ['kiwi'])\n",
      "(['orange'], ['apple', 'kiwi'])\n",
      "([], ['orange', 'kiwi'])\n",
      "(['apple'], ['orange', 'kiwi'])\n",
      "([], ['apple', 'orange', 'kiwi'])\n"
     ]
    }
   ],
   "source": [
    "myitems = [\"apple\", \"orange\", \"kiwi\"]\n",
    "\n",
    "count = 1\n",
    "for i in yieldAllCombos(myitems):\n",
    "    print(i)"
   ]
  },
  {
   "cell_type": "code",
   "execution_count": 89,
   "metadata": {},
   "outputs": [],
   "source": [
    "def fastMaxVal(toConsider, avail, memo = {}):\n",
    "    \"\"\"Assumes toConsider a list of subjects, avail a weight\n",
    "         memo supplied by recursive calls\n",
    "       Returns a tuple of the total value of a solution to the\n",
    "         0/1 knapsack problem and the subjects of that solution\"\"\"\n",
    "    if (len(toConsider), avail) in memo:\n",
    "        result = memo[(len(toConsider), avail)]\n",
    "    elif toConsider == [] or avail == 0:\n",
    "        result = (0, ())\n",
    "    elif toConsider[0].getCost() > avail:\n",
    "        #Explore right branch only\n",
    "        result = fastMaxVal(toConsider[1:], avail, memo)\n",
    "    else:\n",
    "        nextItem = toConsider[0]\n",
    "        #Explore left branch\n",
    "        withVal, withToTake = fastMaxVal(toConsider[1:], avail - nextItem.getCost(), memo)\n",
    "        withVal += nextItem.getValue()\n",
    "        #Explore right branch\n",
    "        withoutVal, withoutToTake = fastMaxVal(toConsider[1:],\n",
    "                                                avail, memo)\n",
    "        #Choose better branch\n",
    "        if withVal > withoutVal:\n",
    "            result = (withVal, withToTake + (nextItem,))\n",
    "        else:\n",
    "            result = (withoutVal, withoutToTake)\n",
    "    memo[(len(toConsider), avail)] = result  # add memo to dict\n",
    "    return result"
   ]
  },
  {
   "cell_type": "markdown",
   "metadata": {},
   "source": [
    "## Graph Optimization Problems"
   ]
  },
  {
   "cell_type": "code",
   "execution_count": 93,
   "metadata": {},
   "outputs": [],
   "source": [
    "# define Node, Edge, WeightedEdge classes\n",
    "\n",
    "class Node(object):\n",
    "    def __init__(self, name) -> None:\n",
    "        \"\"\"Assumes name is a string\"\"\"\n",
    "        self.name = name\n",
    "    def getName(self):\n",
    "        return self.name\n",
    "    def __str__(self) -> str:\n",
    "        return self.name\n",
    "\n",
    "class Edge(object):\n",
    "    def __init__(self, src, dest) -> None:\n",
    "        \"\"\"Assumes src and dest are nodes\"\"\"\n",
    "        self.src = src\n",
    "        self.dest = dest\n",
    "    def getSource(self):\n",
    "        return self.src\n",
    "    def getDestination(self):\n",
    "        return self.dest\n",
    "    def __str__(self) -> str:\n",
    "        return self.src.getName() + \"->\" + self.dest.getName()\n",
    "    \n",
    "class WeightedEdge(Edge):\n",
    "    def __init__(self, src, dest, weight = 1.0) -> None:\n",
    "        \"\"\"Assumes src and dest are nodes, weight a number\"\"\"\n",
    "        self.src = src\n",
    "        self.dest = dest\n",
    "        self.weight = weight\n",
    "    def getWeight(self):\n",
    "        return self.weight\n",
    "    def __str__(self) -> str:\n",
    "        return self.src.getName() + \"->(\" + str(self.weight) + \")\" + self.dest.getName()        "
   ]
  },
  {
   "cell_type": "code",
   "execution_count": 94,
   "metadata": {},
   "outputs": [],
   "source": [
    "# define Graph classes\n",
    "\n",
    "class Digraph(object):\n",
    "    # nodes is a list of the nodes in the graph\n",
    "    # edges is a dict mapping each node to a list of its children\n",
    "    def __init__(self) -> None:\n",
    "        self.nodes = []\n",
    "        self.edges = {}\n",
    "    def addNode(self, node):\n",
    "        if node in self.nodes:\n",
    "            raise ValueError(\"Duplicate Node\")\n",
    "        else:\n",
    "            self.nodes.append(node)\n",
    "            self.edges[node] = []\n",
    "    def addEdge(self, edge):\n",
    "        src = edge.getSource()\n",
    "        dest = edge.getDestination()\n",
    "        if not (src in self.nodes and dest in self.nodes):\n",
    "            raise ValueError(\"Node not in graph\")\n",
    "        self.edges[src].append(dest)\n",
    "    def childrenOf(self, node):\n",
    "        return self.edges[node]\n",
    "    def hasNode(self, node):\n",
    "        return node in self.nodes\n",
    "    def __str__(self) -> str:\n",
    "        result = \"\"\n",
    "        for src in self.nodes:\n",
    "            for dest in self.edges:\n",
    "                result = result + src.getName() + \"->\" + dest.getName() + \"\\n\"\n",
    "                \n",
    "class Graph(Digraph):\n",
    "    def addEdge(self, edge):\n",
    "        Digraph.addEdge(self, edge)\n",
    "        rev = Edge(edge.getDestination(), edge.getSource())\n",
    "        Digraph.addEdge(self, rev)"
   ]
  },
  {
   "cell_type": "code",
   "execution_count": null,
   "metadata": {},
   "outputs": [],
   "source": []
  }
 ],
 "metadata": {
  "kernelspec": {
   "display_name": ".env",
   "language": "python",
   "name": ".env"
  },
  "language_info": {
   "codemirror_mode": {
    "name": "ipython",
    "version": 3
   },
   "file_extension": ".py",
   "mimetype": "text/x-python",
   "name": "python",
   "nbconvert_exporter": "python",
   "pygments_lexer": "ipython3",
   "version": "3.10.5"
  }
 },
 "nbformat": 4,
 "nbformat_minor": 2
}
