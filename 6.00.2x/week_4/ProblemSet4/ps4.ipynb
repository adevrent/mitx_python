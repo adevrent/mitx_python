{
 "cells": [
  {
   "cell_type": "code",
   "execution_count": 150,
   "metadata": {},
   "outputs": [
    {
     "data": {
      "text/plain": [
       "'\\nEnd helper code\\n'"
      ]
     },
     "execution_count": 150,
     "metadata": {},
     "output_type": "execute_result"
    }
   ],
   "source": [
    "import numpy as np\n",
    "import pylab\n",
    "import re\n",
    "\n",
    "# cities in our weather data\n",
    "CITIES = [\n",
    "    'BOSTON',\n",
    "    'SEATTLE',\n",
    "    'SAN DIEGO',\n",
    "    'PHILADELPHIA',\n",
    "    'PHOENIX',\n",
    "    'LAS VEGAS',\n",
    "    'CHARLOTTE',\n",
    "    'DALLAS',\n",
    "    'BALTIMORE',\n",
    "    'SAN JUAN',\n",
    "    'LOS ANGELES',\n",
    "    'MIAMI',\n",
    "    'NEW ORLEANS',\n",
    "    'ALBUQUERQUE',\n",
    "    'PORTLAND',\n",
    "    'SAN FRANCISCO',\n",
    "    'TAMPA',\n",
    "    'NEW YORK',\n",
    "    'DETROIT',\n",
    "    'ST LOUIS',\n",
    "    'CHICAGO'\n",
    "]\n",
    "\n",
    "INTERVAL_1 = list(range(1961, 2006))\n",
    "INTERVAL_2 = list(range(2006, 2016))\n",
    "\n",
    "\"\"\"\n",
    "Begin helper code\n",
    "\"\"\"\n",
    "class Climate(object):\n",
    "    \"\"\"\n",
    "    The collection of temperature records loaded from given csv file\n",
    "    \"\"\"\n",
    "    def __init__(self, filename):\n",
    "        \"\"\"\n",
    "        Initialize a Climate instance, which stores the temperature records\n",
    "        loaded from a given csv file specified by filename.\n",
    "\n",
    "        Args:\n",
    "            filename: name of the csv file (str)\n",
    "        \"\"\"\n",
    "        self.rawdata = {}\n",
    "\n",
    "        # f = open(filename, 'r')\n",
    "        f = open(\"/home/sscf/mitx_python/6.00.2x/week_4/ProblemSet4/data.csv\", 'r')\n",
    "        header = f.readline().strip().split(',')\n",
    "        for line in f:\n",
    "            items = line.strip().split(',')\n",
    "\n",
    "            date = re.match('(\\d\\d\\d\\d)(\\d\\d)(\\d\\d)', items[header.index('DATE')])\n",
    "            year = int(date.group(1))\n",
    "            month = int(date.group(2))\n",
    "            day = int(date.group(3))\n",
    "\n",
    "            city = items[header.index('CITY')]\n",
    "            temperature = float(items[header.index('TEMP')])\n",
    "            if city not in self.rawdata:\n",
    "                self.rawdata[city] = {}\n",
    "            if year not in self.rawdata[city]:\n",
    "                self.rawdata[city][year] = {}\n",
    "            if month not in self.rawdata[city][year]:\n",
    "                self.rawdata[city][year][month] = {}\n",
    "            self.rawdata[city][year][month][day] = temperature\n",
    "            \n",
    "        f.close()\n",
    "\n",
    "    def get_yearly_temp(self, city, year):\n",
    "        \"\"\"\n",
    "        Get the daily temperatures for the given year and city.\n",
    "\n",
    "        Args:\n",
    "            city: city name (str)\n",
    "            year: the year to get the data for (int)\n",
    "\n",
    "        Returns:\n",
    "            a numpy 1-d array of daily temperatures for the specified year and\n",
    "            city\n",
    "        \"\"\"\n",
    "        temperatures = []\n",
    "        assert city in self.rawdata, \"provided city is not available\"\n",
    "        assert year in self.rawdata[city], \"provided year is not available\"\n",
    "        for month in range(1, 13):\n",
    "            for day in range(1, 32):\n",
    "                if day in self.rawdata[city][year][month]:\n",
    "                    temperatures.append(self.rawdata[city][year][month][day])\n",
    "        return np.array(temperatures)\n",
    "\n",
    "    def get_daily_temp(self, city, month, day, year):\n",
    "        \"\"\"\n",
    "        Get the daily temperature for the given city and time (year + date).\n",
    "\n",
    "        Args:\n",
    "            city: city name (str)\n",
    "            month: the month to get the data for (int, where January = 1,\n",
    "                December = 12)\n",
    "            day: the day to get the data for (int, where 1st day of month = 1)\n",
    "            year: the year to get the data for (int)\n",
    "\n",
    "        Returns:\n",
    "            a float of the daily temperature for the specified time (year +\n",
    "            date) and city\n",
    "        \"\"\"\n",
    "        assert city in self.rawdata, \"provided city is not available\"\n",
    "        assert year in self.rawdata[city], \"provided year is not available\"\n",
    "        assert month in self.rawdata[city][year], \"provided month is not available\"\n",
    "        assert day in self.rawdata[city][year][month], \"provided day is not available\"\n",
    "        return self.rawdata[city][year][month][day]\n",
    "\n",
    "\n",
    "\n",
    "\"\"\"\n",
    "End helper code\n",
    "\"\"\""
   ]
  },
  {
   "cell_type": "code",
   "execution_count": 151,
   "metadata": {},
   "outputs": [],
   "source": [
    "# Problem 1\n",
    "def generate_models(x, y, degs):\n",
    "    \"\"\"\n",
    "    Generate regression models by fitting a polynomial for each degree in degs\n",
    "    to points (x, y).\n",
    "    Args:\n",
    "        x: a list with length N, representing the x-coords of N sample points\n",
    "        y: a list with length N, representing the y-coords of N sample points\n",
    "        degs: a list of degrees of the fitting polynomial\n",
    "    Returns:\n",
    "        a list of numpy arrays, where each array is a 1-d array of coefficients\n",
    "        that minimizes the squared error of the fitting polynomial\n",
    "    \"\"\"\n",
    "    x_arr = np.array(x)\n",
    "    y_arr = np.array(y)\n",
    "    coefs = []\n",
    "    for deg in degs:\n",
    "        coefs.append(np.polyfit(x_arr, y_arr, deg))  # HIGHEST POWER FIRST!\n",
    "    return coefs"
   ]
  },
  {
   "cell_type": "code",
   "execution_count": 152,
   "metadata": {},
   "outputs": [],
   "source": [
    "# Problem 2\n",
    "def r_squared(y, estimated):\n",
    "    \"\"\"\n",
    "    Calculate the R-squared error term.\n",
    "    Args:\n",
    "        y: list with length N, representing the y-coords of N sample points\n",
    "        estimated: a list of values estimated by the regression model\n",
    "    Returns:\n",
    "        a float for the R-squared error term\n",
    "    \"\"\"\n",
    "    y_arr = np.array(y)\n",
    "    yhat_arr = np.array(estimated)\n",
    "    return 1 - sum((y_arr - yhat_arr)**2) / sum((y_arr - y_arr.mean())**2)"
   ]
  },
  {
   "cell_type": "code",
   "execution_count": 153,
   "metadata": {},
   "outputs": [],
   "source": [
    "import matplotlib.pyplot as plt\n",
    "\n",
    "# Problem 3\n",
    "def evaluate_models_on_training(x, y, models):\n",
    "    \"\"\"\n",
    "    For each regression model, compute the R-square for this model with the\n",
    "    standard error over slope of a linear regression line (only if the model is\n",
    "    linear), and plot the data along with the best fit curve.\n",
    "\n",
    "    For the plots, you should plot data points (x,y) as blue dots and your best\n",
    "    fit curve (aka model) as a red solid line. You should also label the axes\n",
    "    of this figure appropriately and have a title reporting the following\n",
    "    information:\n",
    "        degree of your regression model,\n",
    "        R-square of your model evaluated on the given data points\n",
    "    Args:\n",
    "        x: a list of length N, representing the x-coords of N sample points\n",
    "        y: a list of length N, representing the y-coords of N sample points\n",
    "        models: a list containing the regression models you want to apply to\n",
    "            your data. Each model is a numpy array storing the coefficients of\n",
    "            a polynomial.\n",
    "    Returns:\n",
    "        None\n",
    "    \"\"\"\n",
    "    x_arr = np.array(x)\n",
    "    y_arr = np.array(y)\n",
    "    yhat_arr = np.zeros(len(x_arr))\n",
    "    fig, axs = plt.subplots(len(models), 1, sharex=True)\n",
    "    if len(models) == 1:\n",
    "        axs = [axs]\n",
    "    for i in range(len(models)):\n",
    "        axs[i].plot(x_arr, y_arr, \"bo\", label=\"Data\")\n",
    "        for idx, coef in enumerate(models[i]):\n",
    "            yhat_arr += coef * x_arr**(len(models[i]) - idx - 1)\n",
    "            print(\"yhat_arr =\", yhat_arr)\n",
    "        r2 = r_squared(y, list(yhat_arr))\n",
    "        axs[i].plot(x_arr, yhat_arr, \"r-\", label=\"OLS Line\")\n",
    "        axs[i].set(title=f\"Dimensions = {len(models)}, $R^2 =$ {r2}\")\n",
    "    plt.tight_layout()\n",
    "    fig.legend(loc=\"upper left\")"
   ]
  },
  {
   "cell_type": "code",
   "execution_count": 154,
   "metadata": {},
   "outputs": [
    {
     "data": {
      "text/plain": [
       "[1, 2, 3, 4, 5, 6, 7, 8, 9, 10]"
      ]
     },
     "execution_count": 154,
     "metadata": {},
     "output_type": "execute_result"
    }
   ],
   "source": [
    "# Trial and error\n",
    "x = [1, 2, 3, 4, 5, 6, 7, 8, 9, 10]\n",
    "y = [1, 2, 3, 4, 5, 6, 7, 8, 9, 10]\n",
    "models = [(5,)]\n",
    "x_arr = np.array(x)\n",
    "\n",
    "# z_arr = np.zeros(len(x_arr))\n",
    "# z_arr += 10 * x_arr ** 0\n",
    "# z_arr\n",
    "\n",
    "# evaluate_models_on_training(x, y, models)\n",
    "\n",
    "list(x_arr)"
   ]
  },
  {
   "cell_type": "code",
   "execution_count": 155,
   "metadata": {},
   "outputs": [
    {
     "name": "stdout",
     "output_type": "stream",
     "text": [
      "yhat_arr = [59.32089592 59.35114625 59.38139657 59.4116469  59.44189723 59.47214756\n",
      " 59.50239789 59.53264822 59.56289855 59.59314888 59.62339921 59.65364954\n",
      " 59.68389987 59.7141502  59.74440053 59.77465086 59.80490119 59.83515152\n",
      " 59.86540184 59.89565217 59.9259025  59.95615283 59.98640316 60.01665349\n",
      " 60.04690382 60.07715415 60.10740448 60.13765481 60.16790514 60.19815547\n",
      " 60.2284058  60.25865613 60.28890646 60.31915679 60.34940711 60.37965744\n",
      " 60.40990777 60.4401581  60.47040843 60.50065876 60.53090909 60.56115942\n",
      " 60.59140975 60.62166008 60.65191041]\n",
      "yhat_arr = [-2.91328502 -2.88303469 -2.85278437 -2.82253404 -2.79228371 -2.76203338\n",
      " -2.73178305 -2.70153272 -2.67128239 -2.64103206 -2.61078173 -2.5805314\n",
      " -2.55028107 -2.52003074 -2.48978041 -2.45953008 -2.42927975 -2.39902942\n",
      " -2.3687791  -2.33852877 -2.30827844 -2.27802811 -2.24777778 -2.21752745\n",
      " -2.18727712 -2.15702679 -2.12677646 -2.09652613 -2.0662758  -2.03602547\n",
      " -2.00577514 -1.97552481 -1.94527448 -1.91502415 -1.88477383 -1.8545235\n",
      " -1.82427317 -1.79402284 -1.76377251 -1.73352218 -1.70327185 -1.67302152\n",
      " -1.64277119 -1.61252086 -1.58227053]\n"
     ]
    },
    {
     "data": {
      "image/png": "[encoded data removed]",
      "text/plain": [
       "<Figure size 432x288 with 1 Axes>"
      ]
     },
     "metadata": {
      "needs_background": "light"
     },
     "output_type": "display_data"
    }
   ],
   "source": [
    "### Begining of program\n",
    "raw_data = Climate('data.csv')\n",
    "\n",
    "# Problem 3\n",
    "y = []\n",
    "x = INTERVAL_1\n",
    "for year in INTERVAL_1:\n",
    "    y.append(raw_data.get_daily_temp('BOSTON', 1, 10, year))\n",
    "models = generate_models(x, y, [1])\n",
    "evaluate_models_on_training(x, y, models)"
   ]
  },
  {
   "cell_type": "code",
   "execution_count": 157,
   "metadata": {},
   "outputs": [
    {
     "name": "stdout",
     "output_type": "stream",
     "text": [
      "yhat_arr = [25.57460228 25.58764389 25.6006855  25.61372711 25.62676873 25.63981034\n",
      " 25.65285195 25.66589356 25.67893518 25.69197679 25.7050184  25.71806001\n",
      " 25.73110163 25.74414324 25.75718485 25.77022647 25.78326808 25.79630969\n",
      " 25.8093513  25.82239292 25.83543453 25.84847614 25.86151775 25.87455937\n",
      " 25.88760098 25.90064259 25.9136842  25.92672582 25.93976743 25.95280904\n",
      " 25.96585065 25.97889227 25.99193388 26.00497549 26.0180171  26.03105872\n",
      " 26.04410033 26.05714194 26.07018355 26.08322517 26.09626678 26.10930839\n",
      " 26.12235    26.13539162 26.14843323]\n",
      "yhat_arr = [10.5028642  10.51590581 10.52894742 10.54198904 10.55503065 10.56807226\n",
      " 10.58111387 10.59415549 10.6071971  10.62023871 10.63328032 10.64632194\n",
      " 10.65936355 10.67240516 10.68544677 10.69848839 10.71153    10.72457161\n",
      " 10.73761322 10.75065484 10.76369645 10.77673806 10.78977967 10.80282129\n",
      " 10.8158629  10.82890451 10.84194612 10.85498774 10.86802935 10.88107096\n",
      " 10.89411257 10.90715419 10.9201958  10.93323741 10.94627903 10.95932064\n",
      " 10.97236225 10.98540386 10.99844548 11.01148709 11.0245287  11.03757031\n",
      " 11.05061193 11.06365354 11.07669515]\n"
     ]
    },
    {
     "data": {
      "image/png": "[encoded data removed]",
      "text/plain": [
       "<Figure size 432x288 with 1 Axes>"
      ]
     },
     "metadata": {
      "needs_background": "light"
     },
     "output_type": "display_data"
    }
   ],
   "source": [
    "# Problem 4: FILL IN MISSING CODE TO GENERATE y VALUES\n",
    "x1 = INTERVAL_1\n",
    "x2 = INTERVAL_2\n",
    "y = []\n",
    "# MISSING LINES\n",
    "raw_data = Climate('data.csv')\n",
    "for year in INTERVAL_1:\n",
    "    y.append(raw_data.get_yearly_temp(\"BOSTON\", year).mean())\n",
    "\n",
    "models = generate_models(x1, y, [1])    \n",
    "evaluate_models_on_training(x1, y, models)"
   ]
  }
 ],
 "metadata": {
  "kernelspec": {
   "display_name": "Python 3",
   "language": "python",
   "name": "python3"
  },
  "language_info": {
   "codemirror_mode": {
    "name": "ipython",
    "version": 3
   },
   "file_extension": ".py",
   "mimetype": "text/x-python",
   "name": "python",
   "nbconvert_exporter": "python",
   "pygments_lexer": "ipython3",
   "version": "3.10.5"
  }
 },
 "nbformat": 4,
 "nbformat_minor": 2
}
