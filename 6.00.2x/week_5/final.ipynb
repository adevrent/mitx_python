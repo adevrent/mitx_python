{
 "cells": [
  {
   "cell_type": "code",
   "execution_count": 64,
   "metadata": {},
   "outputs": [
    {
     "name": "stdout",
     "output_type": "stream",
     "text": [
      "(1.0, 0.0)\n",
      "(2.00078, 5.522443064712874)\n"
     ]
    }
   ],
   "source": [
    "import random\n",
    "        \n",
    "class Lecture(object):\n",
    "    def __init__(self, listen, sleep, fb):\n",
    "        self.listen = listen\n",
    "        self.sleep = sleep\n",
    "        self.fb = fb\n",
    "    def get_listen_prob(self):\n",
    "        return self.listen\n",
    "    def get_sleep_prob(self):\n",
    "        return self.sleep\n",
    "    def get_fb_prob(self):\n",
    "        return self.fb\n",
    "     \n",
    "def get_mean_and_std(X):\n",
    "    mean = sum(X)/float(len(X))\n",
    "    tot = 0.0\n",
    "    for x in X:\n",
    "        tot += (x - mean)**2\n",
    "    std = (tot/len(X))**0.5\n",
    "    return mean, std\n",
    "        \n",
    "def lecture_activities(N, aLecture):\n",
    "    '''\n",
    "    N: integer, number of trials to run\n",
    "    aLecture: Lecture object\n",
    " \n",
    "    Runs a Monte Carlo simulation N times.\n",
    "    Returns: a tuple, (float, float)\n",
    "             Where the first float represents the mean number of lectures it takes \n",
    "             to have a lecture in which all 3 activities take place,\n",
    "             And the second float represents the total width of the 95% confidence \n",
    "             interval around that mean.\n",
    "    '''\n",
    "    p = aLecture.get_listen_prob() * aLecture.get_sleep_prob() * aLecture.get_fb_prob()\n",
    "    count_list = []\n",
    "    for sim in range(N):\n",
    "        count = 0\n",
    "        for t in range(N):\n",
    "            count += 1\n",
    "            if p > random.uniform(0, 1):\n",
    "                count_list.append(count)\n",
    "                break\n",
    "        count_list.append(count)\n",
    "    mean, std = get_mean_and_std(count_list)\n",
    "    return mean, (1.96 * 2 * std)\n",
    "# sample test cases \n",
    "a = Lecture(1, 1, 1)\n",
    "print(lecture_activities(100, a))\n",
    "# the above test should print out (1.0, 0.0)\n",
    "          \n",
    "b = Lecture(1, 1, 0.5)\n",
    "print(lecture_activities(100000, b))\n",
    "# the above test should print out something reasonably close to (2.0, 5.516)"
   ]
  },
  {
   "cell_type": "code",
   "execution_count": 65,
   "metadata": {},
   "outputs": [
    {
     "data": {
      "image/png": "[encoded data removed]",
      "text/plain": [
       "<Figure size 640x480 with 1 Axes>"
      ]
     },
     "metadata": {},
     "output_type": "display_data"
    },
    {
     "data": {
      "text/plain": [
       "10.0"
      ]
     },
     "execution_count": 65,
     "metadata": {},
     "output_type": "execute_result"
    }
   ],
   "source": [
    "import random, pylab\n",
    "\n",
    "# You are given this function\n",
    "def getMeanAndStd(X):\n",
    "    mean = sum(X)/float(len(X))\n",
    "    tot = 0.0\n",
    "    for x in X:\n",
    "        tot += (x - mean)**2\n",
    "    std = (tot/len(X))**0.5\n",
    "    return mean, std\n",
    "\n",
    "# You are given this class\n",
    "class Die(object):\n",
    "    def __init__(self, valList):\n",
    "        \"\"\" valList is not empty \"\"\"\n",
    "        self.possibleVals = valList[:]\n",
    "    def roll(self):\n",
    "        return random.choice(self.possibleVals)\n",
    "\n",
    "# Implement this -- Coding Part 1 of 2\n",
    "def makeHistogram(values, numBins, xLabel, yLabel, title=None):\n",
    "    \"\"\"\n",
    "      - values, a sequence of numbers\n",
    "      - numBins, a positive int\n",
    "      - xLabel, yLabel, title, are strings\n",
    "      - Produces a histogram of values with numBins bins and the indicated labels\n",
    "        for the x and y axis\n",
    "      - If title is provided by caller, puts that title on the figure and otherwise\n",
    "        does not title the figure\n",
    "    \"\"\"\n",
    "    pylab.hist(values, numBins)\n",
    "    pylab.xlabel(xLabel)\n",
    "    pylab.ylabel(yLabel)\n",
    "    if title != None:\n",
    "        pylab.title(title)\n",
    "    pylab.show()\n",
    "    \n",
    "                    \n",
    "# Implement this -- Coding Part 2 of 2\n",
    "def getAverage(die, numRolls, numTrials):\n",
    "    \"\"\"\n",
    "      - die, a Die\n",
    "      - numRolls, numTrials, are positive ints\n",
    "      - Calculates the expected mean value of the longest run of a number\n",
    "        over numTrials runs of numRolls rolls\n",
    "      - Calls makeHistogram to produce a histogram of the longest runs for all\n",
    "        the trials. There should be 10 bins in the histogram\n",
    "      - Choose appropriate labels for the x and y axes.\n",
    "      - Returns the mean calculated\n",
    "    \"\"\"\n",
    "    longest_list = []\n",
    "    for t in range(numTrials):\n",
    "      roll_list = []\n",
    "      for r in range(numRolls):\n",
    "        roll_list.append(die.roll())\n",
    "      running_r = roll_list[0]  # start with the first num\n",
    "      max_running_count = 0\n",
    "      current_running_count = 0\n",
    "      for r in roll_list:\n",
    "        if r == running_r:\n",
    "          # print(f\"{r} == {running_r} so current_running_count =\", current_running_count)\n",
    "          current_running_count += 1\n",
    "        else:\n",
    "          if current_running_count > max_running_count:\n",
    "            max_running_count = current_running_count\n",
    "          current_running_count = 1\n",
    "          running_r = r\n",
    "        if current_running_count > max_running_count:\n",
    "          max_running_count = current_running_count\n",
    "      longest_list.append(max_running_count)\n",
    "    mean = round(sum(longest_list) / len(longest_list), 3)\n",
    "    makeHistogram(longest_list, 10, \"Longest Run Count\", \"Frequency\")\n",
    "    return mean\n",
    "    \n",
    "# # One test case\n",
    "# print(getAverage(Die([1,2,3,4,5,6,6,6,7]), 500, 10000))\n",
    "\n",
    "# My other test cases\n",
    "getAverage(Die([1,1]), 10, 1000)"
   ]
  },
  {
   "cell_type": "code",
   "execution_count": 74,
   "metadata": {},
   "outputs": [],
   "source": [
    "import numpy as np\n",
    "\n",
    "def find_combination(choices, total):\n",
    "    \"\"\"\n",
    "    choices: a non-empty list of ints\n",
    "    total: a positive int\n",
    " \n",
    "    Returns result, a numpy.array of length len(choices)\n",
    "    such that\n",
    "        * each element of result is 0 or 1\n",
    "        * sum(result*choices) == total\n",
    "        * sum(result) is as small as possible\n",
    "    In case of ties, returns any result that works.\n",
    "    If there is no result that gives the exact total, \n",
    "    pick the one that gives sum(result*choices) closest \n",
    "    to total without going over.\n",
    "    \"\"\"\n",
    "    def generate_combinations(n, current=None, result=None):\n",
    "        if current is None:\n",
    "            current = []\n",
    "        if result is None:\n",
    "            result = []\n",
    "\n",
    "        if len(current) == n:\n",
    "            result.append(current)\n",
    "        else:\n",
    "            generate_combinations(n, current + [0], result)\n",
    "            generate_combinations(n, current + [1], result)\n",
    "\n",
    "        return result\n",
    "    \n",
    "    n = len(choices)\n",
    "    combs = generate_combinations(n)\n",
    "    results_dict = {}\n",
    "    for subset in combs:\n",
    "        if sum(np.array(subset) * np.array(choices)) == total:\n",
    "            results_dict[tuple(subset)] = sum(subset)\n",
    "    if len(results_dict) > 0:\n",
    "        return np.array(min(results_dict, key=results_dict.get))\n",
    "    else:\n",
    "        diff_dict = {}\n",
    "        for subset in combs:\n",
    "            if sum(np.array(subset) * np.array(choices)) < total:\n",
    "                diff_dict[tuple(subset)] = total - sum(np.array(subset) * np.array(choices))\n",
    "        return np.array(min(diff_dict, key=diff_dict.get))"
   ]
  },
  {
   "cell_type": "code",
   "execution_count": 75,
   "metadata": {},
   "outputs": [
    {
     "data": {
      "text/plain": [
       "array([0, 1, 1, 0, 0])"
      ]
     },
     "execution_count": 75,
     "metadata": {},
     "output_type": "execute_result"
    }
   ],
   "source": [
    "find_combination([3, 10, 2, 1, 5], 12)\n"
   ]
  },
  {
   "cell_type": "code",
   "execution_count": null,
   "metadata": {},
   "outputs": [
    {
     "name": "stdout",
     "output_type": "stream",
     "text": [
      "[[0, 0, 0], [0, 0, 1], [0, 1, 0], [0, 1, 1], [1, 0, 0], [1, 0, 1], [1, 1, 0], [1, 1, 1]]\n"
     ]
    }
   ],
   "source": [
    "def generate_combinations(n, current=None, result=None):\n",
    "    if current is None:\n",
    "        current = []\n",
    "    if result is None:\n",
    "        result = []\n",
    "\n",
    "    if len(current) == n:\n",
    "        result.append(current)\n",
    "    else:\n",
    "        generate_combinations(n, current + [0], result)\n",
    "        generate_combinations(n, current + [1], result)\n",
    "\n",
    "    return result\n",
    "\n",
    "n = 3  # Length of the combinations\n",
    "combinations = generate_combinations(n)\n",
    "print(combinations)\n"
   ]
  }
 ],
 "metadata": {
  "kernelspec": {
   "display_name": ".env",
   "language": "python",
   "name": ".env"
  },
  "language_info": {
   "codemirror_mode": {
    "name": "ipython",
    "version": 3
   },
   "file_extension": ".py",
   "mimetype": "text/x-python",
   "name": "python",
   "nbconvert_exporter": "python",
   "pygments_lexer": "ipython3",
   "version": "3.10.5"
  }
 },
 "nbformat": 4,
 "nbformat_minor": 2
}
