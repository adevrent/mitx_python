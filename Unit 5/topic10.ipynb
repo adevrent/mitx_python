{
 "cells": [
  {
   "cell_type": "code",
   "execution_count": 28,
   "metadata": {},
   "outputs": [],
   "source": [
    "import datetime\n",
    "class Person(object):\n",
    "    def __init__(self, name) -> None:\n",
    "        \"\"\"create a person called name\"\"\"\n",
    "        self.name = name\n",
    "        self.birthday = None\n",
    "        self.LastName = name.split(\" \")[-1]\n",
    "    \n",
    "    def getLastName(self):\n",
    "        \"\"\"return self's last name\"\"\"\n",
    "        return self.LastName\n",
    "    \n",
    "    def __str__(self) -> str:\n",
    "        \"\"\"return self's name\"\"\"\n",
    "        return self.name\n",
    "    \n",
    "    def setBirthday(self, month, day, year):\n",
    "        \"\"\"sets self's birthday to birthDate\"\"\"\n",
    "        self.birthday = datetime.date(year, month, day)\n",
    "        \n",
    "    def getAge(self):\n",
    "        \"\"\"return self's age in days.\"\"\"\n",
    "        if self.birthday == None:\n",
    "            raise ValueError(\"No birthday set.\")\n",
    "        return (datetime.date.today() - self.birthday).days\n",
    "    \n",
    "    def __lt__(self, other):\n",
    "        \"\"\"return True if self's name is lexicographically\n",
    "            less than other's name, and False otherwise.\"\"\"\n",
    "        if self.LastName == other.LastName:\n",
    "            return self.name < other.name\n",
    "        return self.LastName < other.LastName"
   ]
  },
  {
   "cell_type": "code",
   "execution_count": 29,
   "metadata": {},
   "outputs": [
    {
     "name": "stdout",
     "output_type": "stream",
     "text": [
      "michael scofield\n",
      "scofield\n",
      "walter white\n",
      "white\n"
     ]
    }
   ],
   "source": [
    "mike = Person(\"michael scofield\")\n",
    "ww = Person(\"walter white\")\n",
    "print(mike)\n",
    "print(mike.getLastName())\n",
    "print(ww)\n",
    "print(ww.getLastName())"
   ]
  },
  {
   "cell_type": "code",
   "execution_count": 31,
   "metadata": {},
   "outputs": [
    {
     "name": "stdout",
     "output_type": "stream",
     "text": [
      "False\n",
      "True\n"
     ]
    }
   ],
   "source": [
    "print(ww < mike)\n",
    "print(ww > mike)"
   ]
  },
  {
   "cell_type": "code",
   "execution_count": 33,
   "metadata": {},
   "outputs": [
    {
     "name": "stdout",
     "output_type": "stream",
     "text": [
      "{'a': 2}\n"
     ]
    }
   ],
   "source": [
    "mydict = {\"a\":2, \"b\":3, \"e\":1}\n",
    "mydict.pop(\"b\")\n",
    "print(mydict)"
   ]
  }
 ],
 "metadata": {
  "kernelspec": {
   "display_name": "Python 3",
   "language": "python",
   "name": "python3"
  },
  "language_info": {
   "codemirror_mode": {
    "name": "ipython",
    "version": 3
   },
   "file_extension": ".py",
   "mimetype": "text/x-python",
   "name": "python",
   "nbconvert_exporter": "python",
   "pygments_lexer": "ipython3",
   "version": "3.10.5"
  },
  "orig_nbformat": 4
 },
 "nbformat": 4,
 "nbformat_minor": 2
}
