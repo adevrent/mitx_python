{
 "cells": [
  {
   "cell_type": "code",
   "execution_count": 162,
   "metadata": {},
   "outputs": [],
   "source": [
    "import datetime\n",
    "class Person(object):\n",
    "    def __init__(self, name) -> None:\n",
    "        \"\"\"create a person called name\"\"\"\n",
    "        self.name = name\n",
    "        self.birthday = None\n",
    "        self.LastName = name.split(\" \")[-1]\n",
    "    \n",
    "    def getLastName(self):\n",
    "        \"\"\"return self's last name\"\"\"\n",
    "        return self.LastName\n",
    "    \n",
    "    def __str__(self) -> str:\n",
    "        \"\"\"return self's name\"\"\"\n",
    "        return self.name\n",
    "    \n",
    "    def setBirthday(self, month, day, year):\n",
    "        \"\"\"sets self's birthday to birthDate\"\"\"\n",
    "        self.birthday = datetime.date(year, month, day)\n",
    "        \n",
    "    def getAge(self):\n",
    "        \"\"\"return self's age in days.\"\"\"\n",
    "        if self.birthday == None:\n",
    "            raise ValueError(\"No birthday set.\")\n",
    "        return (datetime.date.today() - self.birthday).days\n",
    "    \n",
    "    def __lt__(self, other):\n",
    "        \"\"\"return True if self's name is lexicographically\n",
    "            less than other's name, and False otherwise.\"\"\"\n",
    "        if self.LastName == other.LastName:\n",
    "            return self.name < other.name\n",
    "        return self.LastName < other.LastName"
   ]
  },
  {
   "cell_type": "code",
   "execution_count": 163,
   "metadata": {},
   "outputs": [
    {
     "name": "stdout",
     "output_type": "stream",
     "text": [
      "michael scofield\n",
      "scofield\n",
      "walter white\n",
      "white\n"
     ]
    }
   ],
   "source": [
    "mike = Person(\"michael scofield\")\n",
    "ww = Person(\"walter white\")\n",
    "print(mike)\n",
    "print(mike.getLastName())\n",
    "print(ww)\n",
    "print(ww.getLastName())"
   ]
  },
  {
   "cell_type": "code",
   "execution_count": 164,
   "metadata": {},
   "outputs": [
    {
     "name": "stdout",
     "output_type": "stream",
     "text": [
      "False\n",
      "True\n"
     ]
    }
   ],
   "source": [
    "print(ww < mike)\n",
    "print(ww > mike)"
   ]
  },
  {
   "cell_type": "code",
   "execution_count": 165,
   "metadata": {},
   "outputs": [
    {
     "name": "stdout",
     "output_type": "stream",
     "text": [
      "{'a': 2, 'e': 1}\n"
     ]
    }
   ],
   "source": [
    "mydict = {\"a\":2, \"b\":3, \"e\":1}\n",
    "mydict.pop(\"b\")\n",
    "print(mydict)"
   ]
  },
  {
   "cell_type": "code",
   "execution_count": 166,
   "metadata": {},
   "outputs": [],
   "source": [
    "class Topaloglu(object):\n",
    "    def __init__(self, name, goz_rengi, guzellik) -> None:\n",
    "        self.gevezelik = \"ÇOK GEVEZE !\"\n",
    "        self.goz_rengi = goz_rengi\n",
    "        self.guzellik = guzellik\n",
    "        self.name = name\n",
    "    def speak(self, laf):\n",
    "        return str(self.name) + \" oğlan der ki \" + laf\n",
    "        "
   ]
  },
  {
   "cell_type": "code",
   "execution_count": 167,
   "metadata": {},
   "outputs": [],
   "source": [
    "ZeyToo = Topaloglu(\"ZeyToo\", \"ela\", \"dunyanin en guzeli !!!!\")"
   ]
  },
  {
   "cell_type": "code",
   "execution_count": 168,
   "metadata": {},
   "outputs": [
    {
     "name": "stdout",
     "output_type": "stream",
     "text": [
      "ela\n",
      "dunyanin en guzeli !!!!\n",
      "ZeyToo\n"
     ]
    }
   ],
   "source": [
    "print(ZeyToo.goz_rengi)\n",
    "print(ZeyToo.guzellik)\n",
    "print(ZeyToo.name)"
   ]
  },
  {
   "cell_type": "code",
   "execution_count": 169,
   "metadata": {},
   "outputs": [
    {
     "name": "stdout",
     "output_type": "stream",
     "text": [
      "ÇOK GEVEZE !\n"
     ]
    }
   ],
   "source": [
    "print(ZeyToo.gevezelik)"
   ]
  },
  {
   "cell_type": "code",
   "execution_count": 170,
   "metadata": {},
   "outputs": [
    {
     "name": "stdout",
     "output_type": "stream",
     "text": [
      "ZeyToo oğlan der ki ekinler baş vermeden kör buzağı topallamazmış\n"
     ]
    }
   ],
   "source": [
    "print(ZeyToo.speak(\"ekinler baş vermeden kör buzağı topallamazmış\"))"
   ]
  },
  {
   "cell_type": "code",
   "execution_count": 171,
   "metadata": {},
   "outputs": [],
   "source": [
    "class Animal(object):\n",
    "    def __init__(self, name, age, color) -> None:\n",
    "        self.name = name\n",
    "        self.age = age\n",
    "        self.color = color"
   ]
  },
  {
   "cell_type": "code",
   "execution_count": 172,
   "metadata": {},
   "outputs": [],
   "source": [
    "class Cat(Animal):\n",
    "    def speak(self):\n",
    "        return \"Meow!\""
   ]
  },
  {
   "cell_type": "code",
   "execution_count": 173,
   "metadata": {},
   "outputs": [],
   "source": [
    "class Dog(Animal):\n",
    "    def speak(self):\n",
    "        return \"Hav hav !\""
   ]
  },
  {
   "cell_type": "code",
   "execution_count": 174,
   "metadata": {},
   "outputs": [
    {
     "name": "stdout",
     "output_type": "stream",
     "text": [
      "white\n"
     ]
    }
   ],
   "source": [
    "levi = Cat(\"Levi\", 2, \"white\")\n",
    "print(levi.color)"
   ]
  },
  {
   "cell_type": "code",
   "execution_count": 175,
   "metadata": {},
   "outputs": [
    {
     "data": {
      "text/plain": [
       "'Meow!'"
      ]
     },
     "execution_count": 175,
     "metadata": {},
     "output_type": "execute_result"
    }
   ],
   "source": [
    "levi.speak()"
   ]
  },
  {
   "cell_type": "code",
   "execution_count": 176,
   "metadata": {},
   "outputs": [
    {
     "data": {
      "text/plain": [
       "'Hav hav !'"
      ]
     },
     "execution_count": 176,
     "metadata": {},
     "output_type": "execute_result"
    }
   ],
   "source": [
    "comar = Dog(\"Çomar\", 5, \"brown\")\n",
    "comar.speak()"
   ]
  },
  {
   "cell_type": "code",
   "execution_count": 177,
   "metadata": {},
   "outputs": [],
   "source": [
    "def genTest():\n",
    "    foobar = \"foo\"\n",
    "    print(foobar)\n",
    "    yield 1\n",
    "    foobar = \"bar\"\n",
    "    print(foobar)\n",
    "    yield 2\n",
    "    foobar = \"foobar\"\n",
    "    print(foobar)\n",
    "    \n",
    "# The code after \"yield\" keyword is also executed !!!"
   ]
  },
  {
   "cell_type": "code",
   "execution_count": 178,
   "metadata": {},
   "outputs": [
    {
     "name": "stdout",
     "output_type": "stream",
     "text": [
      "<class 'generator'>\n"
     ]
    }
   ],
   "source": [
    "foo = genTest()\n",
    "print(type(foo))"
   ]
  },
  {
   "cell_type": "code",
   "execution_count": 179,
   "metadata": {},
   "outputs": [
    {
     "name": "stdout",
     "output_type": "stream",
     "text": [
      "foo\n",
      "1\n"
     ]
    }
   ],
   "source": [
    "print(foo.__next__())"
   ]
  },
  {
   "cell_type": "code",
   "execution_count": 180,
   "metadata": {},
   "outputs": [
    {
     "name": "stdout",
     "output_type": "stream",
     "text": [
      "foo\n",
      "1\n",
      "bar\n",
      "2\n",
      "foobar\n"
     ]
    }
   ],
   "source": [
    "for n in genTest():\n",
    "    print(n)"
   ]
  },
  {
   "cell_type": "code",
   "execution_count": 181,
   "metadata": {},
   "outputs": [
    {
     "data": {
      "text/plain": [
       "<generator object genFib at 0x7f63f267b990>"
      ]
     },
     "execution_count": 181,
     "metadata": {},
     "output_type": "execute_result"
    }
   ],
   "source": [
    "def genFib():\n",
    "    fibn_1 = 1  # fib(n-1)\n",
    "    fibn_2 = 0  # fib(n-2)\n",
    "    while True:\n",
    "        # fib(n) = fib(n-1) + fib(n-2)\n",
    "        next = fibn_1 + fibn_2\n",
    "        yield next\n",
    "        fibn_2 = fibn_1\n",
    "        fibn_1 = next\n",
    "genFib()"
   ]
  },
  {
   "cell_type": "code",
   "execution_count": 182,
   "metadata": {},
   "outputs": [
    {
     "name": "stdout",
     "output_type": "stream",
     "text": [
      "<generator object genFib at 0x7f63f267bb50>\n"
     ]
    },
    {
     "data": {
      "text/plain": [
       "1"
      ]
     },
     "execution_count": 182,
     "metadata": {},
     "output_type": "execute_result"
    }
   ],
   "source": [
    "fib = genFib()\n",
    "print(fib)\n",
    "fib.__next__()"
   ]
  },
  {
   "cell_type": "code",
   "execution_count": 183,
   "metadata": {},
   "outputs": [
    {
     "data": {
      "text/plain": [
       "2"
      ]
     },
     "execution_count": 183,
     "metadata": {},
     "output_type": "execute_result"
    }
   ],
   "source": [
    "fib.__next__()"
   ]
  },
  {
   "cell_type": "code",
   "execution_count": 438,
   "metadata": {},
   "outputs": [],
   "source": [
    "def genPrimes():\n",
    "    primes = [2]  # Start with the first prime number\n",
    "    yield 2\n",
    "\n",
    "    num = 3\n",
    "    while True:\n",
    "        is_prime = True\n",
    "        for prime in primes:\n",
    "            if prime * prime > num:\n",
    "                break\n",
    "            if num % prime == 0:\n",
    "                is_prime = False\n",
    "                break\n",
    "\n",
    "        if is_prime:\n",
    "            primes.append(num)\n",
    "            yield num\n",
    "\n",
    "        num += 2\n"
   ]
  },
  {
   "cell_type": "code",
   "execution_count": 439,
   "metadata": {},
   "outputs": [],
   "source": [
    "getprime = genPrimes()"
   ]
  },
  {
   "cell_type": "code",
   "execution_count": 441,
   "metadata": {},
   "outputs": [
    {
     "data": {
      "text/plain": [
       "3"
      ]
     },
     "execution_count": 441,
     "metadata": {},
     "output_type": "execute_result"
    }
   ],
   "source": [
    "getprime.__next__()"
   ]
  }
 ],
 "metadata": {
  "kernelspec": {
   "display_name": "Python 3",
   "language": "python",
   "name": "python3"
  },
  "language_info": {
   "codemirror_mode": {
    "name": "ipython",
    "version": 3
   },
   "file_extension": ".py",
   "mimetype": "text/x-python",
   "name": "python",
   "nbconvert_exporter": "python",
   "pygments_lexer": "ipython3",
   "version": "3.10.5"
  },
  "orig_nbformat": 4
 },
 "nbformat": 4,
 "nbformat_minor": 2
}
