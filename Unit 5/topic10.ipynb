{
 "cells": [
  {
   "cell_type": "code",
   "execution_count": 124,
   "metadata": {},
   "outputs": [],
   "source": [
    "import datetime\n",
    "class Person(object):\n",
    "    def __init__(self, name) -> None:\n",
    "        \"\"\"create a person called name\"\"\"\n",
    "        self.name = name\n",
    "        self.birthday = None\n",
    "        self.LastName = name.split(\" \")[-1]\n",
    "    \n",
    "    def getLastName(self):\n",
    "        \"\"\"return self's last name\"\"\"\n",
    "        return self.LastName\n",
    "    \n",
    "    def __str__(self) -> str:\n",
    "        \"\"\"return self's name\"\"\"\n",
    "        return self.name\n",
    "    \n",
    "    def setBirthday(self, month, day, year):\n",
    "        \"\"\"sets self's birthday to birthDate\"\"\"\n",
    "        self.birthday = datetime.date(year, month, day)\n",
    "        \n",
    "    def getAge(self):\n",
    "        \"\"\"return self's age in days.\"\"\"\n",
    "        if self.birthday == None:\n",
    "            raise ValueError(\"No birthday set.\")\n",
    "        return (datetime.date.today() - self.birthday).days\n",
    "    \n",
    "    def __lt__(self, other):\n",
    "        \"\"\"return True if self's name is lexicographically\n",
    "            less than other's name, and False otherwise.\"\"\"\n",
    "        if self.LastName == other.LastName:\n",
    "            return self.name < other.name\n",
    "        return self.LastName < other.LastName"
   ]
  },
  {
   "cell_type": "code",
   "execution_count": 125,
   "metadata": {},
   "outputs": [
    {
     "name": "stdout",
     "output_type": "stream",
     "text": [
      "michael scofield\n",
      "scofield\n",
      "walter white\n",
      "white\n"
     ]
    }
   ],
   "source": [
    "mike = Person(\"michael scofield\")\n",
    "ww = Person(\"walter white\")\n",
    "print(mike)\n",
    "print(mike.getLastName())\n",
    "print(ww)\n",
    "print(ww.getLastName())"
   ]
  },
  {
   "cell_type": "code",
   "execution_count": 126,
   "metadata": {},
   "outputs": [
    {
     "name": "stdout",
     "output_type": "stream",
     "text": [
      "False\n",
      "True\n"
     ]
    }
   ],
   "source": [
    "print(ww < mike)\n",
    "print(ww > mike)"
   ]
  },
  {
   "cell_type": "code",
   "execution_count": 127,
   "metadata": {},
   "outputs": [
    {
     "name": "stdout",
     "output_type": "stream",
     "text": [
      "{'a': 2, 'e': 1}\n"
     ]
    }
   ],
   "source": [
    "mydict = {\"a\":2, \"b\":3, \"e\":1}\n",
    "mydict.pop(\"b\")\n",
    "print(mydict)"
   ]
  },
  {
   "cell_type": "code",
   "execution_count": 128,
   "metadata": {},
   "outputs": [],
   "source": [
    "class Topaloglu(object):\n",
    "    def __init__(self, name, goz_rengi, guzellik) -> None:\n",
    "        self.gevezelik = \"ÇOK GEVEZE !\"\n",
    "        self.goz_rengi = goz_rengi\n",
    "        self.guzellik = guzellik\n",
    "        self.name = name\n",
    "    def speak(self, laf):\n",
    "        return str(self.name) + \" oğlan der ki \" + laf\n",
    "        "
   ]
  },
  {
   "cell_type": "code",
   "execution_count": 129,
   "metadata": {},
   "outputs": [],
   "source": [
    "ZeyToo = Topaloglu(\"ZeyToo\", \"ela\", \"dunyanin en guzeli !!!!\")"
   ]
  },
  {
   "cell_type": "code",
   "execution_count": 130,
   "metadata": {},
   "outputs": [
    {
     "name": "stdout",
     "output_type": "stream",
     "text": [
      "ela\n",
      "dunyanin en guzeli !!!!\n",
      "ZeyToo\n"
     ]
    }
   ],
   "source": [
    "print(ZeyToo.goz_rengi)\n",
    "print(ZeyToo.guzellik)\n",
    "print(ZeyToo.name)"
   ]
  },
  {
   "cell_type": "code",
   "execution_count": 131,
   "metadata": {},
   "outputs": [
    {
     "name": "stdout",
     "output_type": "stream",
     "text": [
      "ÇOK GEVEZE !\n"
     ]
    }
   ],
   "source": [
    "print(ZeyToo.gevezelik)"
   ]
  },
  {
   "cell_type": "code",
   "execution_count": 132,
   "metadata": {},
   "outputs": [
    {
     "name": "stdout",
     "output_type": "stream",
     "text": [
      "ZeyToo oğlan der ki ekinler baş vermeden kör buzağı topallamazmış\n"
     ]
    }
   ],
   "source": [
    "print(ZeyToo.speak(\"ekinler baş vermeden kör buzağı topallamazmış\"))"
   ]
  },
  {
   "cell_type": "code",
   "execution_count": 133,
   "metadata": {},
   "outputs": [],
   "source": [
    "class Animal(object):\n",
    "    def __init__(self, name, age, color) -> None:\n",
    "        self.name = name\n",
    "        self.age = age\n",
    "        self.color = color"
   ]
  },
  {
   "cell_type": "code",
   "execution_count": 134,
   "metadata": {},
   "outputs": [],
   "source": [
    "class Cat(Animal):\n",
    "    def speak(self):\n",
    "        return \"Meow!\""
   ]
  },
  {
   "cell_type": "code",
   "execution_count": 135,
   "metadata": {},
   "outputs": [],
   "source": [
    "class Dog(Animal):\n",
    "    def speak(self):\n",
    "        return \"Hav hav !\""
   ]
  },
  {
   "cell_type": "code",
   "execution_count": 136,
   "metadata": {},
   "outputs": [
    {
     "name": "stdout",
     "output_type": "stream",
     "text": [
      "white\n"
     ]
    }
   ],
   "source": [
    "levi = Cat(\"Levi\", 2, \"white\")\n",
    "print(levi.color)"
   ]
  },
  {
   "cell_type": "code",
   "execution_count": 137,
   "metadata": {},
   "outputs": [
    {
     "data": {
      "text/plain": [
       "'Meow!'"
      ]
     },
     "execution_count": 137,
     "metadata": {},
     "output_type": "execute_result"
    }
   ],
   "source": [
    "levi.speak()"
   ]
  },
  {
   "cell_type": "code",
   "execution_count": 138,
   "metadata": {},
   "outputs": [
    {
     "data": {
      "text/plain": [
       "'Hav hav !'"
      ]
     },
     "execution_count": 138,
     "metadata": {},
     "output_type": "execute_result"
    }
   ],
   "source": [
    "comar = Dog(\"Çomar\", 5, \"brown\")\n",
    "comar.speak()"
   ]
  },
  {
   "cell_type": "code",
   "execution_count": 139,
   "metadata": {},
   "outputs": [],
   "source": [
    "def genTest():\n",
    "    foobar = \"foo\"\n",
    "    print(foobar)\n",
    "    yield 1\n",
    "    foobar = \"bar\"\n",
    "    print(foobar)\n",
    "    yield 2\n",
    "    foobar = \"foobar\"\n",
    "    print(foobar)\n",
    "    \n",
    "# The code after \"yield\" keyword is also executed !!!"
   ]
  },
  {
   "cell_type": "code",
   "execution_count": 140,
   "metadata": {},
   "outputs": [
    {
     "name": "stdout",
     "output_type": "stream",
     "text": [
      "<class 'generator'>\n"
     ]
    }
   ],
   "source": [
    "foo = genTest()\n",
    "print(type(foo))"
   ]
  },
  {
   "cell_type": "code",
   "execution_count": 141,
   "metadata": {},
   "outputs": [
    {
     "name": "stdout",
     "output_type": "stream",
     "text": [
      "foo\n",
      "1\n"
     ]
    }
   ],
   "source": [
    "print(foo.__next__())"
   ]
  },
  {
   "cell_type": "code",
   "execution_count": 142,
   "metadata": {},
   "outputs": [
    {
     "name": "stdout",
     "output_type": "stream",
     "text": [
      "foo\n",
      "1\n",
      "bar\n",
      "2\n",
      "foobar\n"
     ]
    }
   ],
   "source": [
    "for n in genTest():\n",
    "    print(n)"
   ]
  },
  {
   "cell_type": "code",
   "execution_count": 143,
   "metadata": {},
   "outputs": [
    {
     "data": {
      "text/plain": [
       "<generator object genFib at 0x7f63f2642a40>"
      ]
     },
     "execution_count": 143,
     "metadata": {},
     "output_type": "execute_result"
    }
   ],
   "source": [
    "def genFib():\n",
    "    fibn_1 = 1  # fib(n-1)\n",
    "    fibn_2 = 0  # fib(n-2)\n",
    "    while True:\n",
    "        # fib(n) = fib(n-1) + fib(n-2)\n",
    "        next = fibn_1 + fibn_2\n",
    "        yield next\n",
    "        fibn_2 = fibn_1\n",
    "        fibn_1 = next\n",
    "genFib()"
   ]
  },
  {
   "cell_type": "code",
   "execution_count": 144,
   "metadata": {},
   "outputs": [
    {
     "name": "stdout",
     "output_type": "stream",
     "text": [
      "<generator object genFib at 0x7f63f2642c70>\n"
     ]
    },
    {
     "data": {
      "text/plain": [
       "1"
      ]
     },
     "execution_count": 144,
     "metadata": {},
     "output_type": "execute_result"
    }
   ],
   "source": [
    "fib = genFib()\n",
    "print(fib)\n",
    "fib.__next__()"
   ]
  },
  {
   "cell_type": "code",
   "execution_count": 145,
   "metadata": {},
   "outputs": [
    {
     "data": {
      "text/plain": [
       "2"
      ]
     },
     "execution_count": 145,
     "metadata": {},
     "output_type": "execute_result"
    }
   ],
   "source": [
    "fib.__next__()"
   ]
  },
  {
   "cell_type": "code",
   "execution_count": 158,
   "metadata": {},
   "outputs": [],
   "source": [
    "def genPrimes():\n",
    "    primeslist = [2]\n",
    "    x = 3\n",
    "    while True:\n",
    "        for p in primeslist:\n",
    "            if x % p == 0:\n",
    "                x += 1\n",
    "    yield x\n",
    "    primeslist.append(x)\n",
    "    print(primeslist)\n",
    "        \n",
    "        "
   ]
  },
  {
   "cell_type": "code",
   "execution_count": 159,
   "metadata": {},
   "outputs": [
    {
     "ename": "UnboundLocalError",
     "evalue": "local variable 'x' referenced before assignment",
     "output_type": "error",
     "traceback": [
      "\u001b[0;31m---------------------------------------------------------------------------\u001b[0m",
      "\u001b[0;31mUnboundLocalError\u001b[0m                         Traceback (most recent call last)",
      "\u001b[1;32m/home/sscf/mitx_python/Unit 5/topic10.ipynb Cell 24\u001b[0m in \u001b[0;36m<cell line: 2>\u001b[0;34m()\u001b[0m\n\u001b[1;32m      <a href='vscode-notebook-cell://wsl%2Bubuntu-20.04/home/sscf/mitx_python/Unit%205/topic10.ipynb#X41sdnNjb2RlLXJlbW90ZQ%3D%3D?line=0'>1</a>\u001b[0m foobar \u001b[39m=\u001b[39m genPrimes()\n\u001b[0;32m----> <a href='vscode-notebook-cell://wsl%2Bubuntu-20.04/home/sscf/mitx_python/Unit%205/topic10.ipynb#X41sdnNjb2RlLXJlbW90ZQ%3D%3D?line=1'>2</a>\u001b[0m foobar\u001b[39m.\u001b[39;49m\u001b[39m__next__\u001b[39;49m()\n",
      "\u001b[1;32m/home/sscf/mitx_python/Unit 5/topic10.ipynb Cell 24\u001b[0m in \u001b[0;36mgenPrimes\u001b[0;34m()\u001b[0m\n\u001b[1;32m      <a href='vscode-notebook-cell://wsl%2Bubuntu-20.04/home/sscf/mitx_python/Unit%205/topic10.ipynb#X41sdnNjb2RlLXJlbW90ZQ%3D%3D?line=2'>3</a>\u001b[0m \u001b[39mwhile\u001b[39;00m \u001b[39mTrue\u001b[39;00m:\n\u001b[1;32m      <a href='vscode-notebook-cell://wsl%2Bubuntu-20.04/home/sscf/mitx_python/Unit%205/topic10.ipynb#X41sdnNjb2RlLXJlbW90ZQ%3D%3D?line=3'>4</a>\u001b[0m     \u001b[39mfor\u001b[39;00m p \u001b[39min\u001b[39;00m primeslist:\n\u001b[0;32m----> <a href='vscode-notebook-cell://wsl%2Bubuntu-20.04/home/sscf/mitx_python/Unit%205/topic10.ipynb#X41sdnNjb2RlLXJlbW90ZQ%3D%3D?line=4'>5</a>\u001b[0m         \u001b[39mif\u001b[39;00m x \u001b[39m%\u001b[39m p \u001b[39m==\u001b[39m \u001b[39m0\u001b[39m:\n\u001b[1;32m      <a href='vscode-notebook-cell://wsl%2Bubuntu-20.04/home/sscf/mitx_python/Unit%205/topic10.ipynb#X41sdnNjb2RlLXJlbW90ZQ%3D%3D?line=5'>6</a>\u001b[0m             x \u001b[39m+\u001b[39m\u001b[39m=\u001b[39m \u001b[39m1\u001b[39m\n\u001b[1;32m      <a href='vscode-notebook-cell://wsl%2Bubuntu-20.04/home/sscf/mitx_python/Unit%205/topic10.ipynb#X41sdnNjb2RlLXJlbW90ZQ%3D%3D?line=6'>7</a>\u001b[0m \u001b[39myield\u001b[39;00m x\n",
      "\u001b[0;31mUnboundLocalError\u001b[0m: local variable 'x' referenced before assignment"
     ]
    }
   ],
   "source": [
    "foobar = genPrimes()\n",
    "foobar.__next__()"
   ]
  },
  {
   "cell_type": "code",
   "execution_count": 157,
   "metadata": {},
   "outputs": [
    {
     "name": "stdout",
     "output_type": "stream",
     "text": [
      "[2, 3]\n"
     ]
    },
    {
     "data": {
      "text/plain": [
       "4"
      ]
     },
     "execution_count": 157,
     "metadata": {},
     "output_type": "execute_result"
    }
   ],
   "source": [
    "foobar.__next__()"
   ]
  }
 ],
 "metadata": {
  "kernelspec": {
   "display_name": "Python 3",
   "language": "python",
   "name": "python3"
  },
  "language_info": {
   "codemirror_mode": {
    "name": "ipython",
    "version": 3
   },
   "file_extension": ".py",
   "mimetype": "text/x-python",
   "name": "python",
   "nbconvert_exporter": "python",
   "pygments_lexer": "ipython3",
   "version": "3.10.5"
  },
  "orig_nbformat": 4
 },
 "nbformat": 4,
 "nbformat_minor": 2
}
