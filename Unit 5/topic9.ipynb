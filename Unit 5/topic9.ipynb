{
 "cells": [
  {
   "cell_type": "code",
   "execution_count": 2,
   "metadata": {},
   "outputs": [],
   "source": [
    "class IntSet(object):\n",
    "    \"\"\"An intSet is a set of integers\"\"\"\n",
    "    #Information about the implementation (not the abstraction)\n",
    "    #Value of the set is represented by a list of ints, self.vals.\n",
    "    #Each int in the set occurs in self.vals exactly once.\n",
    "    def __init__(self):\n",
    "        \"\"\"Create an empty set of integers\"\"\"\n",
    "        self.vals = []\n",
    "    def insert(self, e):\n",
    "        \"\"\"Assumes e is an integer and inserts e into self\"\"\"\n",
    "        if e not in self.vals:\n",
    "            self.vals.append(e)\n",
    "    def member(self, e):\n",
    "        \"\"\"Assumes e is an integer\n",
    "           Returns True if e is in self, and False otherwise\"\"\"\n",
    "        return e in self.vals\n",
    "    def remove(self, e):\n",
    "        \"\"\"Assumes e is an integer and removes e from self\n",
    "        Raises ValueError if e is not in self\"\"\"\n",
    "        try:\n",
    "            self.vals.remove(e)\n",
    "        except:\n",
    "            raise ValueError(str(e) + ' not found')\n",
    "    def getMembers(self):\n",
    "        \"\"\"Returns a list containing the elements of self.\n",
    "        Nothing can be assumed about the order of the elements\"\"\"\n",
    "        return self.vals[:]\n",
    "    def __str__(self):\n",
    "        \"\"\"Returns a string representation of self\"\"\"\n",
    "        self.vals.sort()\n",
    "        result = ''\n",
    "        for e in self.vals:\n",
    "            result = result + str(e) + ','\n",
    "        return '{' + result[:-1] + '}' #-1 omits trailing comma"
   ]
  },
  {
   "cell_type": "code",
   "execution_count": 7,
   "metadata": {},
   "outputs": [
    {
     "data": {
      "text/plain": [
       "[]"
      ]
     },
     "execution_count": 7,
     "metadata": {},
     "output_type": "execute_result"
    }
   ],
   "source": [
    "s = IntSet()  # s is an instance of the class IntSet.\n",
    "\n",
    "s.getMembers()"
   ]
  },
  {
   "cell_type": "code",
   "execution_count": 8,
   "metadata": {},
   "outputs": [
    {
     "name": "stdout",
     "output_type": "stream",
     "text": [
      "True\n"
     ]
    }
   ],
   "source": [
    "s.insert(3)\n",
    "print(s.member(3))"
   ]
  },
  {
   "cell_type": "code",
   "execution_count": 9,
   "metadata": {},
   "outputs": [
    {
     "name": "stdout",
     "output_type": "stream",
     "text": [
      "{3,4}\n"
     ]
    }
   ],
   "source": [
    "s = IntSet()\n",
    "s.insert(3)\n",
    "s.insert(4)\n",
    "print(s)"
   ]
  },
  {
   "cell_type": "code",
   "execution_count": 20,
   "metadata": {},
   "outputs": [],
   "source": [
    "# Figure 8.2 Class Person\n",
    "import datetime\n",
    "\n",
    "class Person(object):\n",
    "        def __init__(self, name):\n",
    "            \"\"\"Create a person\"\"\"\n",
    "            self.name = name\n",
    "            try:\n",
    "                lastBlank = name.rindex(' ')\n",
    "                self.lastName = name[lastBlank+1:]\n",
    "            except:\n",
    "                self.lastName = name\n",
    "                self.birthday = None\n",
    "        def getName(self):\n",
    "            \"\"\"Returns self's full name\"\"\"\n",
    "            return self.name\n",
    "        def getLastName(self):\n",
    "            \"\"\"Returns self's last name\"\"\"\n",
    "            return self.lastName\n",
    "        def setBirthday(self, birthdate):\n",
    "            \"\"\"Assumes birthdate is of type datetime.date\n",
    "            Sets self's birthday to birthdate\"\"\"\n",
    "            self.birthday = birthdate\n",
    "        def getAge(self):\n",
    "            \"\"\"Returns self's current age in days\"\"\"\n",
    "            if self.birthday == None:\n",
    "                raise ValueError\n",
    "            return (datetime.date.today() - self.birthday).days\n",
    "        def __lt__(self, other):\n",
    "            \"\"\"Returns True if self precedes other in alphabetical\n",
    "            order, and False otherwise. Comparison is based on last\n",
    "            names, but if these are the same full names are\n",
    "            compared.\"\"\"\n",
    "            if self.lastName == other.lastName:\n",
    "                return self.name < other.name\n",
    "            return self.lastName < other.lastName\n",
    "        def __str__(self):\n",
    "            \"\"\"Returns self's name\"\"\"\n",
    "            return self.name"
   ]
  },
  {
   "cell_type": "code",
   "execution_count": 21,
   "metadata": {},
   "outputs": [
    {
     "name": "stdout",
     "output_type": "stream",
     "text": [
      "Obama\n",
      "Barack Hussein Obama is 22619 days old\n",
      "Barack Hussein Obama\n"
     ]
    }
   ],
   "source": [
    "me = Person('Michael Guttag')\n",
    "him = Person('Barack Hussein Obama')\n",
    "her = Person('Madonna')\n",
    "print(him.getLastName())\n",
    "him.setBirthday(datetime.date(1961, 8, 4))\n",
    "her.setBirthday(datetime.date(1958, 8, 16))\n",
    "print(him.getName(), 'is', him.getAge(), 'days old')\n",
    "print(him)"
   ]
  },
  {
   "cell_type": "code",
   "execution_count": 23,
   "metadata": {},
   "outputs": [
    {
     "name": "stdout",
     "output_type": "stream",
     "text": [
      "Michael Guttag\n",
      "Barack Hussein Obama\n",
      "Madonna\n",
      "Michael Guttag\n",
      "<class '__main__.Person'>\n",
      "Madonna\n",
      "<class '__main__.Person'>\n",
      "Barack Hussein Obama\n",
      "<class '__main__.Person'>\n"
     ]
    }
   ],
   "source": [
    "pList = [me, him, her]\n",
    "for p in pList:\n",
    "    print(p)\n",
    "pList.sort()\n",
    "for p in pList:\n",
    "    print(p)\n",
    "    print(type(p))"
   ]
  },
  {
   "cell_type": "code",
   "execution_count": null,
   "metadata": {},
   "outputs": [],
   "source": []
  }
 ],
 "metadata": {
  "kernelspec": {
   "display_name": "Python 3",
   "language": "python",
   "name": "python3"
  },
  "language_info": {
   "codemirror_mode": {
    "name": "ipython",
    "version": 3
   },
   "file_extension": ".py",
   "mimetype": "text/x-python",
   "name": "python",
   "nbconvert_exporter": "python",
   "pygments_lexer": "ipython3",
   "version": "3.10.5"
  },
  "orig_nbformat": 4
 },
 "nbformat": 4,
 "nbformat_minor": 2
}
