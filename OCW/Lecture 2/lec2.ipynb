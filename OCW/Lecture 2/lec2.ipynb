{
 "cells": [
  {
   "cell_type": "code",
   "execution_count": null,
   "metadata": {},
   "outputs": [],
   "source": [
    "'''Textbook'''"
   ]
  },
  {
   "cell_type": "code",
   "execution_count": 13,
   "metadata": {},
   "outputs": [
    {
     "name": "stdout",
     "output_type": "stream",
     "text": [
      "18 is divisible by 2 and 3.\n"
     ]
    }
   ],
   "source": [
    "x = 18\n",
    "\n",
    "if x%2 == 0:\n",
    "    if x%3 == 0:\n",
    "        print(x, \"is divisible by 2 and 3.\")\n",
    "    else:\n",
    "        print(x, \"is divisible by 2 but not 3.\")\n",
    "elif x%3 == 0:\n",
    "    print(x, \"is divisible by 3 but not 2.\")\n",
    "else:\n",
    "    print(x, \"is not divisible by 2 or 3.\")"
   ]
  },
  {
   "cell_type": "code",
   "execution_count": 37,
   "metadata": {},
   "outputs": [
    {
     "name": "stdout",
     "output_type": "stream",
     "text": [
      "5 is the largest odd number.\n"
     ]
    }
   ],
   "source": [
    "'''\n",
    "Finger exercise:\n",
    "Write a program that examines three variables - x, y and z - and prints the largest odd number among them.\n",
    "If none of them are odd, it should print a message to that effect.\n",
    "'''\n",
    "\n",
    "x = 3\n",
    "y = 5\n",
    "z = 8\n",
    "\n",
    "if x > y and x > z:\n",
    "    if x%2 != 0:\n",
    "        print(x, \"is the largest odd number.\")\n",
    "    elif y > z:\n",
    "        if y%2 != 0:\n",
    "            print(y, \"is the largest odd number.\")\n",
    "        else:\n",
    "            if z%2 != 0:\n",
    "                print(z, \"is the largest odd number.\")\n",
    "            else:\n",
    "                print(\"There are no odd numbers here.\")\n",
    "elif y > z:\n",
    "    if y%2 != 0:\n",
    "        print(y, \"is the largest odd number.\")\n",
    "    else:\n",
    "        if z%2 != 0:\n",
    "            print(z, \"is the largest odd number.\")\n",
    "        else:\n",
    "            print(\"There are no odd numbers here.\")\n",
    "else:\n",
    "    if z%2 != 0:\n",
    "        print(z, \"is the largest odd number.\")\n",
    "    else:\n",
    "        if y%2 != 0:\n",
    "            print(y, \"is the largest odd number.\")\n",
    "        else:\n",
    "            print(\"There are no odd numbers here.\")"
   ]
  },
  {
   "cell_type": "code",
   "execution_count": 24,
   "metadata": {},
   "outputs": [
    {
     "name": "stdout",
     "output_type": "stream",
     "text": [
      "abc\n",
      "abc\n",
      "abc\n",
      "abc\n",
      "abc\n"
     ]
    }
   ],
   "source": [
    "print(\"abc\")\n",
    "\n",
    "print(\"abc\"[0:3])\n",
    "print(\"abc\"[0:len(\"abc\")])\n",
    "print(\"abc\"[:len(\"abc\")])\n",
    "print(\"abc\"[:])\n",
    "\n",
    "# All of this 4 expressions are the same. When slicing [.. : ..] if no value left of \":\", then it is interpreted as 0:\n",
    "# also if no value right of \".\", it is interpreted as :len(\"abc\")"
   ]
  },
  {
   "cell_type": "code",
   "execution_count": 29,
   "metadata": {},
   "outputs": [
    {
     "name": "stdout",
     "output_type": "stream",
     "text": [
      "XXXX\n"
     ]
    }
   ],
   "source": [
    "'''\n",
    "Finger exercise:\n",
    "Replace the comment in the following code with a while loop.\n",
    "\n",
    "numXs = int(input('How many times should I print the letter X?'))\n",
    "toPrint = ''\n",
    "#concatenate X to toPrint numXs times\n",
    "print(toPrint)\n",
    "'''\n",
    "numXs = int(input('How many times should I print the letter X?'))\n",
    "\n",
    "toPrint = 'X'\n",
    "while numXs > 1:\n",
    "    toPrint += 'X'\n",
    "    numXs -= 1\n",
    "print(toPrint)"
   ]
  },
  {
   "cell_type": "code",
   "execution_count": 49,
   "metadata": {},
   "outputs": [
    {
     "name": "stdout",
     "output_type": "stream",
     "text": [
      "Out of the following numbers:\n",
      "[1, 2, 3, 4, 5, 6, 7, 8, 15, 20]\n",
      "15 is the largest odd number.\n"
     ]
    }
   ],
   "source": [
    "'''\n",
    "Finger exercise:\n",
    "Write a program that asks the user to input 10 integers, and then prints the largest\n",
    "odd number that was entered. If no odd number was entered, it should print a message\n",
    "to that effect.\n",
    "'''\n",
    "import numpy as np\n",
    "\n",
    "list = []\n",
    "i = 1\n",
    "while i <= 10:\n",
    "    list.append(int(input(f\"Enter integer number {i}: \")))\n",
    "    i += 1\n",
    "\n",
    "odd_list = []\n",
    "for idx, element in enumerate(list):\n",
    "    if list[idx]%2 != 0:\n",
    "        odd_list.append(element)\n",
    "\n",
    "x_max = np.max(odd_list)\n",
    "\n",
    "print(\"Out of the following numbers:\")\n",
    "print(list)\n",
    "if x_max%2 == 0:\n",
    "    print(\"There are no odd numbers.\")\n",
    "else:\n",
    "    print(x_max, \"is the largest odd number.\")"
   ]
  },
  {
   "cell_type": "code",
   "execution_count": 57,
   "metadata": {},
   "outputs": [
    {
     "name": "stdout",
     "output_type": "stream",
     "text": [
      "cube root of 7406961012236344616 is 1949306\n"
     ]
    }
   ],
   "source": [
    "# Find the cube root of a perfect cube.\n",
    "x = int(input('Enter an integer: '))\n",
    "ans = 0\n",
    "while ans**3 < abs(x):\n",
    "    ans += 1\n",
    "if x < 0:\n",
    "    ans = -ans\n",
    "if ans**3 != x:\n",
    "    print(x, \"is not a perfect cube\")\n",
    "else:\n",
    "    print(\"cube root of\", x, \"is\", ans)"
   ]
  },
  {
   "cell_type": "code",
   "execution_count": 61,
   "metadata": {},
   "outputs": [
    {
     "name": "stdout",
     "output_type": "stream",
     "text": [
      "1500\n"
     ]
    }
   ],
   "source": [
    "maxVal = int(input(\"Enter a positive integer: \"))\n",
    "i = 0\n",
    "while i < maxVal:\n",
    "    i = i + 1\n",
    "print(i)"
   ]
  },
  {
   "cell_type": "code",
   "execution_count": 115,
   "metadata": {},
   "outputs": [
    {
     "name": "stdout",
     "output_type": "stream",
     "text": [
      "root is 3\n",
      "power is 2\n"
     ]
    }
   ],
   "source": [
    "'''\n",
    "Finger exercise:\n",
    "Write a program that asks the user to enter an integer and prints two integers, root and pwr,\n",
    "such that 0 < pwr and root**pwr is equal to the integer entered by the user. If no such pair \n",
    "of integers exists, it should print a message to that effect.\n",
    "'''\n",
    "\n",
    "x = int(input(\"Enter an integer other than excluding [-3,3]: \"))\n",
    "pwr = 2\n",
    "root = 2\n",
    "\n",
    "while abs(root**pwr) < abs(x):\n",
    "    while abs(root**pwr) < abs(x):\n",
    "        pwr += 1\n",
    "    if abs(root**pwr) == abs(x):\n",
    "        break\n",
    "    else:\n",
    "        root += 1\n",
    "        pwr = 2\n",
    "if abs(root**pwr) == abs(x):\n",
    "    if x > 0:\n",
    "        print(\"root is\", root)\n",
    "        print(\"power is\", pwr)\n",
    "    elif x < 0 and pwr%2 != 0:\n",
    "        root = -root\n",
    "        print(\"root is\", root)\n",
    "        print(\"power is\", pwr)\n",
    "    else:\n",
    "        print(\"No root - power combination found for\", x)\n",
    "    \n",
    "else:\n",
    "    print(\"No root - power combination found for\", x)\n",
    "    \n",
    "\n",
    "# This code has trouble finding powers and roots of negative even numbers. Gotta fix."
   ]
  },
  {
   "cell_type": "code",
   "execution_count": 120,
   "metadata": {},
   "outputs": [
    {
     "name": "stdout",
     "output_type": "stream",
     "text": [
      "Cube root of 125 is 5\n"
     ]
    }
   ],
   "source": [
    "#Find the cube root of a perfect cube\n",
    "x = int(input(\"Enter an integer: \"))\n",
    "for ans in range(0, abs(x)+1):\n",
    "    if ans**3 >= abs(x):\n",
    "        break\n",
    "if ans**3 != abs(x):\n",
    "    print(x, \"is not a perfect cube.\")\n",
    "else:\n",
    "    if x < 0:\n",
    "        ans = -ans\n",
    "    print(\"Cube root of\", x, \"is\", ans)"
   ]
  },
  {
   "cell_type": "code",
   "execution_count": 121,
   "metadata": {},
   "outputs": [
    {
     "name": "stdout",
     "output_type": "stream",
     "text": [
      "36\n"
     ]
    }
   ],
   "source": [
    "total = 0\n",
    "for c in \"12345678\":\n",
    "    total = total + int(c)\n",
    "print(total)"
   ]
  },
  {
   "cell_type": "code",
   "execution_count": 12,
   "metadata": {},
   "outputs": [
    {
     "name": "stdout",
     "output_type": "stream",
     "text": [
      "24.639999999999997\n",
      "24.64\n"
     ]
    }
   ],
   "source": [
    "'''\n",
    "Finger exercise:\n",
    "Let s be a string that contains a sequence of decimal numbers separated by commas, \n",
    "e.g., s = \"1.23,2.4,3.123\". Write a program that prints the sum of the numbers in s.\n",
    "'''\n",
    "\n",
    "s = \"1.27,1.25,3.007,5.731,4.19,8.88,0.312\"\n",
    "s\n",
    "\n",
    "sum = 0\n",
    "multi = 1\n",
    "for c in s:\n",
    "    if c == \",\":\n",
    "        multi = 1\n",
    "    elif c == \".\":\n",
    "        multi = 0.1\n",
    "    else:\n",
    "        sum = sum + multi * int(c)\n",
    "        if multi != 1:\n",
    "            multi = multi * 0.1\n",
    "\n",
    "print(sum)        \n",
    "print(round(sum, 4))\n",
    "\n",
    "# This only works for numbers between 0 and 10."
   ]
  },
  {
   "cell_type": "code",
   "execution_count": null,
   "metadata": {},
   "outputs": [],
   "source": [
    "'''Lecture Video'''"
   ]
  },
  {
   "cell_type": "code",
   "execution_count": 14,
   "metadata": {},
   "outputs": [
    {
     "name": "stdout",
     "output_type": "stream",
     "text": [
      "x is smaller.\n",
      "thanks!\n"
     ]
    }
   ],
   "source": [
    "x = float(input(\"Enter a number for x: \"))\n",
    "y = float(input(\"Enter a number for y: \"))\n",
    "if x == y:\n",
    "    print(\"x and y are equal.\")\n",
    "    if y!= 0:\n",
    "        print(\"therefore, x / y is\", x / y)\n",
    "elif x < y:\n",
    "    print(\"x is smaller.\")\n",
    "else:\n",
    "    print(\"y is smaller.\")\n",
    "print(\"thanks!\")"
   ]
  },
  {
   "cell_type": "code",
   "execution_count": 16,
   "metadata": {},
   "outputs": [
    {
     "name": "stdout",
     "output_type": "stream",
     "text": [
      "You go deeper into the forest...\n",
      "You go deeper into the forest...\n",
      "You go deeper into the forest...\n",
      "You go deeper into the forest...\n",
      "You go deeper into the forest...\n",
      "You escaped the forest!\n"
     ]
    }
   ],
   "source": [
    "'''Zelda game'''\n",
    "\n",
    "option = \"right\"\n",
    "while option == \"right\":\n",
    "    print(\"You go deeper into the forest...\")\n",
    "    option = input(\"Go left or right?\")\n",
    "print(\"You escaped the forest!\")"
   ]
  },
  {
   "cell_type": "code",
   "execution_count": 19,
   "metadata": {},
   "outputs": [
    {
     "name": "stdout",
     "output_type": "stream",
     "text": [
      "0\n",
      "1\n",
      "2\n",
      "3\n",
      "4\n"
     ]
    }
   ],
   "source": [
    "n = 0\n",
    "while n < 5:\n",
    "    print(n)\n",
    "    n += 1"
   ]
  },
  {
   "cell_type": "code",
   "execution_count": 22,
   "metadata": {},
   "outputs": [
    {
     "name": "stdout",
     "output_type": "stream",
     "text": [
      "0 + 7\n",
      "7 + 8\n",
      "15 + 9\n",
      "24\n"
     ]
    }
   ],
   "source": [
    "mysum = 0\n",
    "for i in range(7, 10):\n",
    "    print(mysum, \"+\", i)\n",
    "    mysum += i\n",
    "print(mysum)"
   ]
  },
  {
   "cell_type": "code",
   "execution_count": 23,
   "metadata": {},
   "outputs": [
    {
     "name": "stdout",
     "output_type": "stream",
     "text": [
      "21\n"
     ]
    }
   ],
   "source": [
    "mysum = 0\n",
    "for i in range(5, 11, 2):   # i = {5, 7, 9} => answer should be 21\n",
    "    mysum += i\n",
    "print(mysum)"
   ]
  },
  {
   "cell_type": "code",
   "execution_count": 4,
   "metadata": {},
   "outputs": [
    {
     "name": "stdout",
     "output_type": "stream",
     "text": [
      "21\n"
     ]
    }
   ],
   "source": [
    "i = 1\n",
    "mysum = 0\n",
    "while i <= 6:\n",
    "    mysum += i\n",
    "    i += 1\n",
    "print(mysum)"
   ]
  },
  {
   "cell_type": "code",
   "execution_count": 6,
   "metadata": {},
   "outputs": [
    {
     "name": "stdout",
     "output_type": "stream",
     "text": [
      "21\n"
     ]
    }
   ],
   "source": [
    "end = 6\n",
    "\n",
    "mysum = 0\n",
    "for i in range(1, end + 1):\n",
    "    mysum += i\n",
    "print(mysum)"
   ]
  }
 ],
 "metadata": {
  "kernelspec": {
   "display_name": ".env",
   "language": "python",
   "name": ".env"
  },
  "language_info": {
   "codemirror_mode": {
    "name": "ipython",
    "version": 3
   },
   "file_extension": ".py",
   "mimetype": "text/x-python",
   "name": "python",
   "nbconvert_exporter": "python",
   "pygments_lexer": "ipython3",
   "version": "3.10.5"
  },
  "orig_nbformat": 4
 },
 "nbformat": 4,
 "nbformat_minor": 2
}
