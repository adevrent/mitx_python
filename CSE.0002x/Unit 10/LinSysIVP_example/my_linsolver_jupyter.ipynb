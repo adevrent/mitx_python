{
 "cells": [
  {
   "cell_type": "code",
   "execution_count": 40,
   "metadata": {},
   "outputs": [],
   "source": [
    "import time\n",
    "import numpy as np\n",
    "\n",
    "def myGE_vec(K, f):\n",
    "    \"\"\"\n",
    "    Gaussian elimination (with vectorization)\n",
    "    \"\"\"\n",
    "    m,n = K.shape\n",
    "    assert m == n, \"Non-square matrix\"\n",
    "\n",
    "    u = np.zeros(n)\n",
    "\n",
    "    # Extended matrix with the right-hand side as last column\n",
    "    A = np.zeros((n,n+1))\n",
    "    A[:,0:n] = K\n",
    "    A[:,n] = f\n",
    "\n",
    "    # Elimination of nonzero elements below the diagonal\n",
    "    print(\"A at the beginning:\")\n",
    "    print(A)\n",
    "    print(\"**************************************\")\n",
    "    for i in range(n):  # for each ROW i:\n",
    "        assert A[i,i] != 0.0, \"Zero pivot detected\"\n",
    "\n",
    "        # Calculate Li which is the vector of all Lji values (for all values of j)\n",
    "        Li = A[i+1:, i] / A[i, i]  # multiplier for row i. We need to update \n",
    "                                # A[j, :] = A[j, :] - A[i, :] * Li[j] for all rows j >= i+1\n",
    "        # Li is COLUMN vector!\n",
    "        print(\"Shape of Li:\", Li.shape)\n",
    "        \n",
    "        \n",
    "        # Update A[i+1:n,i+1:]\n",
    "        # Hint: consider using an outer product of Li and the relevant\n",
    "        #       portion of the A matrix (np.outer is the NumPy command)\n",
    "        # TODO\n",
    "        A[i+1:n, i:] -= np.outer(Li, A[i, i:])\n",
    "        print(\"A at iteration\", i, \":\")\n",
    "        print(A.round(4))\n",
    "        print(\"---------------------------------------------------------------\")\n",
    "    print(\"Extended matrix A' after eliminations (upper triangular):\")\n",
    "    print(A.round(4))\n",
    "\n",
    "                \n",
    "    # Back substitution\n",
    "    u[n-1] = A[n-1,n]/A[n-1,n-1]\n",
    "\n",
    "    for i in range(n-2,-1,-1):\n",
    "        # Calculate u[i].\n",
    "        # Hint: the np.dot command will be useful\n",
    "        u[i] = (A[n-2, n] - A[n-2, n-1]*u[i+1]) / A[n-2, n-2]\n",
    "\n",
    "    return u"
   ]
  },
  {
   "cell_type": "code",
   "execution_count": 41,
   "metadata": {},
   "outputs": [
    {
     "name": "stdout",
     "output_type": "stream",
     "text": [
      "K:\n",
      "[[ 5  9  3]\n",
      " [ 2 16  8]\n",
      " [ 4 11 23]]\n",
      "-------------\n",
      "b:\n",
      "[[26]\n",
      " [ 1]\n",
      " [47]]\n"
     ]
    }
   ],
   "source": [
    "K = np.array([[5, 9, 3], [2, 16, 8], [4, 11, 23]])\n",
    "b = np.array([26, 1, 47])\n",
    "print(\"K:\")\n",
    "print(K)\n",
    "print(\"-------------\")\n",
    "print(\"b:\")\n",
    "print(b.reshape(3, 1))"
   ]
  },
  {
   "cell_type": "code",
   "execution_count": 45,
   "metadata": {},
   "outputs": [
    {
     "name": "stdout",
     "output_type": "stream",
     "text": [
      "A at the beginning:\n",
      "[[ 5.  9.  3. 26.]\n",
      " [ 2. 16.  8.  1.]\n",
      " [ 4. 11. 23. 47.]]\n",
      "**************************************\n",
      "Shape of Li: (2,)\n",
      "A at iteration 0 :\n",
      "[[ 5.   9.   3.  26. ]\n",
      " [ 0.  12.4  6.8 -9.4]\n",
      " [ 0.   3.8 20.6 26.2]]\n",
      "---------------------------------------------------------------\n",
      "Shape of Li: (1,)\n",
      "A at iteration 1 :\n",
      "[[ 5.      9.      3.     26.    ]\n",
      " [ 0.     12.4     6.8    -9.4   ]\n",
      " [ 0.      0.     18.5161 29.0806]]\n",
      "---------------------------------------------------------------\n",
      "Shape of Li: (0,)\n",
      "A at iteration 2 :\n",
      "[[ 5.      9.      3.     26.    ]\n",
      " [ 0.     12.4     6.8    -9.4   ]\n",
      " [ 0.      0.     18.5161 29.0806]]\n",
      "---------------------------------------------------------------\n",
      "Extended matrix A' after eliminations (upper triangular):\n",
      "[[ 5.      9.      3.     26.    ]\n",
      " [ 0.     12.4     6.8    -9.4   ]\n",
      " [ 0.      0.     18.5161 29.0806]]\n",
      "____________________________________________________________\n",
      "Solution u:\n",
      "[[ 0.12995954]\n",
      " [-1.61933798]\n",
      " [ 1.57055749]]\n",
      "____________________________________________________________\n",
      "Is the solution correct within an accuracy of 0.001 ?\n",
      "[[ True  True  True]\n",
      " [ True  True  True]\n",
      " [ True  True  True]]\n",
      "------------------------------\n",
      "Runtime = 0.0018 seconds\n"
     ]
    }
   ],
   "source": [
    "start = time.time()\n",
    "\n",
    "solution = myGE_vec(K, b)\n",
    "print(\"____________________________________________________________\")\n",
    "print(\"Solution u:\")\n",
    "print(solution.reshape(3, 1))\n",
    "print(\"____________________________________________________________\")\n",
    "epsilon = 0.001\n",
    "print(\"Is the solution correct within an accuracy of\", epsilon, \"?\")\n",
    "print(K*solution <= abs(b - epsilon))\n",
    "\n",
    "end = time.time()\n",
    "\n",
    "print(\"------------------------------\")\n",
    "print(\"Runtime =\", round((end-start), 4), \"seconds\")"
   ]
  },
  {
   "cell_type": "code",
   "execution_count": null,
   "metadata": {},
   "outputs": [],
   "source": []
  }
 ],
 "metadata": {
  "kernelspec": {
   "display_name": ".env",
   "language": "python",
   "name": ".env"
  },
  "language_info": {
   "codemirror_mode": {
    "name": "ipython",
    "version": 3
   },
   "file_extension": ".py",
   "mimetype": "text/x-python",
   "name": "python",
   "nbconvert_exporter": "python",
   "pygments_lexer": "ipython3",
   "version": "3.10.5"
  },
  "orig_nbformat": 4
 },
 "nbformat": 4,
 "nbformat_minor": 2
}
