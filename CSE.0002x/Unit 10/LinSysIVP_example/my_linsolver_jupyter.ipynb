{
 "cells": [
  {
   "cell_type": "code",
   "execution_count": 43,
   "metadata": {},
   "outputs": [],
   "source": [
    "import time\n",
    "import numpy as np\n",
    "\n",
    "def myGE_vec(K, f):\n",
    "    \"\"\"\n",
    "    Gaussian elimination (with vectorization)\n",
    "    \"\"\"\n",
    "    m,n = K.shape\n",
    "    assert m == n, \"Non-square matrix\"\n",
    "\n",
    "    u = np.zeros(n)\n",
    "    print(\"Shape of u:\", u.shape)\n",
    "\n",
    "    # Extended matrix with the right-hand side as last column\n",
    "    A = np.zeros((n,n+1))\n",
    "    A[:,0:n] = K\n",
    "    A[:,n] = f\n",
    "    print(\"A shape:\", A.shape)\n",
    "\n",
    "    # Elimination of nonzero elements below the diagonal\n",
    "    print(\"A at the beginning:\")\n",
    "    print(A)\n",
    "    print(\"**************************************\")\n",
    "    for i in range(n):  # for each ROW i:\n",
    "        assert A[i,i] != 0.0, \"Zero pivot detected\"\n",
    "\n",
    "        # Calculate Li which is the vector of all Lji values (for all values of j)\n",
    "        Li = A[i+1:, i] / A[i, i]  # multiplier for row i. We need to update \n",
    "                                # A[j, :] = A[j, :] - A[i, :] * Li[j] for all rows j >= i+1\n",
    "        # Li is COLUMN vector!\n",
    "        print(\"Shape of Li:\", Li.shape)\n",
    "        \n",
    "        \n",
    "        # Update A[i+1:n,i+1:]\n",
    "        # Hint: consider using an outer product of Li and the relevant\n",
    "        #       portion of the A matrix (np.outer is the NumPy command)\n",
    "        A[i+1:, i:] -= np.outer(Li, A[i, i:])\n",
    "        print(\"A at iteration\", i, \":\")\n",
    "        print(A.round(4))\n",
    "        print(\"---------------------------------------------------------------\")\n",
    "    print(\"Extended matrix A' after eliminations (upper triangular):\")\n",
    "    print(A.round(4))\n",
    "\n",
    "                \n",
    "    # Back substitution\n",
    "    u[n-1] = A[n-1,n]/A[n-1,n-1]\n",
    "    print(\"u[n-1] =\", u[n-1])\n",
    "\n",
    "    for i in range(n-2,-1,-1):\n",
    "        # Calculate u[i].\n",
    "        # Hint: the np.dot command will be useful\n",
    "        u[i] = (A[i, n] - np.dot(A[i, i+1:n], u[i+1:])) / A[i, i]\n",
    "        print(f\"u[{i}] =\", u[i])\n",
    "\n",
    "    return u"
   ]
  },
  {
   "cell_type": "code",
   "execution_count": 44,
   "metadata": {},
   "outputs": [
    {
     "name": "stdout",
     "output_type": "stream",
     "text": [
      "K:\n",
      "[[1 1 5 2]\n",
      " [9 3 4 9]\n",
      " [6 9 5 6]\n",
      " [7 8 5 9]]\n",
      "-------------\n",
      "b:\n",
      "[[3]\n",
      " [5]\n",
      " [7]\n",
      " [9]]\n"
     ]
    }
   ],
   "source": [
    "K = np.array([[1, 1, 5, 2], [9, 3, 4, 9], [6, 9, 5, 6], [7, 8, 5, 9]])\n",
    "b = np.array([3, 5, 7, 9])\n",
    "print(\"K:\")\n",
    "print(K)\n",
    "print(\"-------------\")\n",
    "print(\"b:\")\n",
    "print(b.reshape(4, 1))"
   ]
  },
  {
   "cell_type": "code",
   "execution_count": 45,
   "metadata": {},
   "outputs": [
    {
     "name": "stdout",
     "output_type": "stream",
     "text": [
      "Shape of u: (4,)\n",
      "A shape: (4, 5)\n",
      "A at the beginning:\n",
      "[[1. 1. 5. 2. 3.]\n",
      " [9. 3. 4. 9. 5.]\n",
      " [6. 9. 5. 6. 7.]\n",
      " [7. 8. 5. 9. 9.]]\n",
      "**************************************\n",
      "Shape of Li: (3,)\n"
     ]
    },
    {
     "ename": "ValueError",
     "evalue": "operands could not be broadcast together with shapes (3,5) (5,3) (3,5) ",
     "output_type": "error",
     "traceback": [
      "\u001b[0;31m---------------------------------------------------------------------------\u001b[0m",
      "\u001b[0;31mValueError\u001b[0m                                Traceback (most recent call last)",
      "\u001b[1;32m/home/sscf/mitx_python/CSE.0002x/Unit 10/LinSysIVP_example/my_linsolver_jupyter.ipynb Cell 3\u001b[0m in \u001b[0;36m<cell line: 3>\u001b[0;34m()\u001b[0m\n\u001b[1;32m      <a href='vscode-notebook-cell://wsl%2Bubuntu-20.04/home/sscf/mitx_python/CSE.0002x/Unit%2010/LinSysIVP_example/my_linsolver_jupyter.ipynb#W2sdnNjb2RlLXJlbW90ZQ%3D%3D?line=0'>1</a>\u001b[0m start \u001b[39m=\u001b[39m time\u001b[39m.\u001b[39mtime()\n\u001b[0;32m----> <a href='vscode-notebook-cell://wsl%2Bubuntu-20.04/home/sscf/mitx_python/CSE.0002x/Unit%2010/LinSysIVP_example/my_linsolver_jupyter.ipynb#W2sdnNjb2RlLXJlbW90ZQ%3D%3D?line=2'>3</a>\u001b[0m solution \u001b[39m=\u001b[39m myGE_vec(K, b)\n\u001b[1;32m      <a href='vscode-notebook-cell://wsl%2Bubuntu-20.04/home/sscf/mitx_python/CSE.0002x/Unit%2010/LinSysIVP_example/my_linsolver_jupyter.ipynb#W2sdnNjb2RlLXJlbW90ZQ%3D%3D?line=3'>4</a>\u001b[0m \u001b[39mprint\u001b[39m(\u001b[39m\"\u001b[39m\u001b[39m____________________________________________________________\u001b[39m\u001b[39m\"\u001b[39m)\n\u001b[1;32m      <a href='vscode-notebook-cell://wsl%2Bubuntu-20.04/home/sscf/mitx_python/CSE.0002x/Unit%2010/LinSysIVP_example/my_linsolver_jupyter.ipynb#W2sdnNjb2RlLXJlbW90ZQ%3D%3D?line=4'>5</a>\u001b[0m \u001b[39mprint\u001b[39m(\u001b[39m\"\u001b[39m\u001b[39mSolution u:\u001b[39m\u001b[39m\"\u001b[39m)\n",
      "\u001b[1;32m/home/sscf/mitx_python/CSE.0002x/Unit 10/LinSysIVP_example/my_linsolver_jupyter.ipynb Cell 3\u001b[0m in \u001b[0;36mmyGE_vec\u001b[0;34m(K, f)\u001b[0m\n\u001b[1;32m     <a href='vscode-notebook-cell://wsl%2Bubuntu-20.04/home/sscf/mitx_python/CSE.0002x/Unit%2010/LinSysIVP_example/my_linsolver_jupyter.ipynb#W2sdnNjb2RlLXJlbW90ZQ%3D%3D?line=30'>31</a>\u001b[0m \u001b[39mprint\u001b[39m(\u001b[39m\"\u001b[39m\u001b[39mShape of Li:\u001b[39m\u001b[39m\"\u001b[39m, Li\u001b[39m.\u001b[39mshape)\n\u001b[1;32m     <a href='vscode-notebook-cell://wsl%2Bubuntu-20.04/home/sscf/mitx_python/CSE.0002x/Unit%2010/LinSysIVP_example/my_linsolver_jupyter.ipynb#W2sdnNjb2RlLXJlbW90ZQ%3D%3D?line=33'>34</a>\u001b[0m \u001b[39m# Update A[i+1:n,i+1:]\u001b[39;00m\n\u001b[1;32m     <a href='vscode-notebook-cell://wsl%2Bubuntu-20.04/home/sscf/mitx_python/CSE.0002x/Unit%2010/LinSysIVP_example/my_linsolver_jupyter.ipynb#W2sdnNjb2RlLXJlbW90ZQ%3D%3D?line=34'>35</a>\u001b[0m \u001b[39m# Hint: consider using an outer product of Li and the relevant\u001b[39;00m\n\u001b[1;32m     <a href='vscode-notebook-cell://wsl%2Bubuntu-20.04/home/sscf/mitx_python/CSE.0002x/Unit%2010/LinSysIVP_example/my_linsolver_jupyter.ipynb#W2sdnNjb2RlLXJlbW90ZQ%3D%3D?line=35'>36</a>\u001b[0m \u001b[39m#       portion of the A matrix (np.outer is the NumPy command)\u001b[39;00m\n\u001b[0;32m---> <a href='vscode-notebook-cell://wsl%2Bubuntu-20.04/home/sscf/mitx_python/CSE.0002x/Unit%2010/LinSysIVP_example/my_linsolver_jupyter.ipynb#W2sdnNjb2RlLXJlbW90ZQ%3D%3D?line=36'>37</a>\u001b[0m A[i\u001b[39m+\u001b[39m\u001b[39m1\u001b[39m:, i:] \u001b[39m-\u001b[39m\u001b[39m=\u001b[39m np\u001b[39m.\u001b[39mouter(A[i, i:], Li)\n\u001b[1;32m     <a href='vscode-notebook-cell://wsl%2Bubuntu-20.04/home/sscf/mitx_python/CSE.0002x/Unit%2010/LinSysIVP_example/my_linsolver_jupyter.ipynb#W2sdnNjb2RlLXJlbW90ZQ%3D%3D?line=37'>38</a>\u001b[0m \u001b[39mprint\u001b[39m(\u001b[39m\"\u001b[39m\u001b[39mA at iteration\u001b[39m\u001b[39m\"\u001b[39m, i, \u001b[39m\"\u001b[39m\u001b[39m:\u001b[39m\u001b[39m\"\u001b[39m)\n\u001b[1;32m     <a href='vscode-notebook-cell://wsl%2Bubuntu-20.04/home/sscf/mitx_python/CSE.0002x/Unit%2010/LinSysIVP_example/my_linsolver_jupyter.ipynb#W2sdnNjb2RlLXJlbW90ZQ%3D%3D?line=38'>39</a>\u001b[0m \u001b[39mprint\u001b[39m(A\u001b[39m.\u001b[39mround(\u001b[39m4\u001b[39m))\n",
      "\u001b[0;31mValueError\u001b[0m: operands could not be broadcast together with shapes (3,5) (5,3) (3,5) "
     ]
    }
   ],
   "source": [
    "start = time.time()\n",
    "\n",
    "solution = myGE_vec(K, b)\n",
    "print(\"____________________________________________________________\")\n",
    "print(\"Solution u:\")\n",
    "print(solution.reshape(4, 1))\n",
    "print(\"____________________________________________________________\")\n",
    "epsilon = 0.001\n",
    "print(\"K =\", K)\n",
    "print(\"solution\", solution)\n",
    "print(\"K@solution\", K@solution)\n",
    "print(\"Is the solution correct within an accuracy of\", epsilon, \"?\")\n",
    "print(abs(K@solution - b) <= epsilon)\n",
    "\n",
    "end = time.time()\n",
    "\n",
    "print(\"------------------------------\")\n",
    "print(\"Runtime =\", round((end-start), 4), \"seconds\")"
   ]
  },
  {
   "cell_type": "code",
   "execution_count": 42,
   "metadata": {},
   "outputs": [
    {
     "data": {
      "text/plain": [
       "array([-0.76923077,  0.44505495,  0.23626374,  1.07142857])"
      ]
     },
     "execution_count": 42,
     "metadata": {},
     "output_type": "execute_result"
    }
   ],
   "source": [
    "np.linalg.solve(K, b)"
   ]
  },
  {
   "cell_type": "code",
   "execution_count": null,
   "metadata": {},
   "outputs": [],
   "source": []
  }
 ],
 "metadata": {
  "kernelspec": {
   "display_name": "Python 3",
   "language": "python",
   "name": "python3"
  },
  "language_info": {
   "codemirror_mode": {
    "name": "ipython",
    "version": 3
   },
   "file_extension": ".py",
   "mimetype": "text/x-python",
   "name": "python",
   "nbconvert_exporter": "python",
   "pygments_lexer": "ipython3",
   "version": "3.10.5"
  },
  "orig_nbformat": 4
 },
 "nbformat": 4,
 "nbformat_minor": 2
}
