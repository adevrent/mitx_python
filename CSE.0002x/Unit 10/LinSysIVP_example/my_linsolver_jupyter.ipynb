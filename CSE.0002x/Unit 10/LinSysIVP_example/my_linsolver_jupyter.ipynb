{
 "cells": [
  {
   "cell_type": "code",
   "execution_count": 93,
   "metadata": {},
   "outputs": [],
   "source": [
    "import numpy as np\n",
    "\n",
    "def myGE_vec(K, f):\n",
    "    \"\"\"\n",
    "    Gaussian elimination (with vectorization)\n",
    "    \"\"\"\n",
    "    m,n = K.shape\n",
    "    assert m == n, \"Non-square matrix\"\n",
    "\n",
    "    u = np.zeros(n)\n",
    "\n",
    "    # Extended matrix with the right-hand side as last column\n",
    "    A = np.zeros((n,n+1))\n",
    "    A[:,0:n] = K\n",
    "    A[:,n] = f\n",
    "\n",
    "    # Elimination of nonzero elements below the diagonal\n",
    "    print(\"A at the beginning:\")\n",
    "    print(A)\n",
    "    print(\"**************************************\")\n",
    "    for i in range(n):  # for each ROW i:\n",
    "        assert A[i,i] != 0.0, \"Zero pivot detected\"\n",
    "\n",
    "        # Calculate Li which is the vector of all Lji values (for all values of j)\n",
    "        Li = A[i+1:, i] / A[i, i]  # multiplier for row i. We need to update \n",
    "                                # A[j, :] = A[j, :] - A[i, :] * Li[j] for all rows j >= i+1\n",
    "        # Li is COLUMN vector!\n",
    "        print(\"Shape of Li:\", Li.shape)\n",
    "        \n",
    "        \n",
    "        # Update A[i+1:n,i+1:]\n",
    "        # Hint: consider using an outer product of Li and the relevant\n",
    "        #       portion of the A matrix (np.outer is the NumPy command)\n",
    "        # TODO\n",
    "        A[i+1:n, i:] -= np.outer(Li, A[i, i:])\n",
    "        print(\"A at iteration\", i, \":\")\n",
    "        print(A)\n",
    "        print(\"---------------------------------------------------------------\")\n",
    "    print(\"Extended matrix A' after eliminations (upper triangular):\")\n",
    "    print(A)\n",
    "\n",
    "                \n",
    "    # Back substitution\n",
    "    u[n-1] = A[n-1,n]/A[n-1,n-1]\n",
    "\n",
    "    for i in range(n-2,-1,-1):\n",
    "        # Calculate u[i].\n",
    "        # Hint: the np.dot command will be useful\n",
    "        u[i] = (A[n-2, n] - A[n-2, n-1]*u[i+1]) / A[n-2, n-2]\n",
    "\n",
    "    return u"
   ]
  },
  {
   "cell_type": "code",
   "execution_count": 94,
   "metadata": {},
   "outputs": [
    {
     "name": "stdout",
     "output_type": "stream",
     "text": [
      "A at the beginning:\n",
      "[[ 4.  8.  2.  5.]\n",
      " [ 2.  1.  3.  5.]\n",
      " [ 5.  5.  5. 10.]]\n",
      "**************************************\n",
      "Shape of Li: (2,)\n",
      "A at iteration 0 :\n",
      "[[ 4.    8.    2.    5.  ]\n",
      " [ 0.   -3.    2.    2.5 ]\n",
      " [ 0.   -5.    2.5   3.75]]\n",
      "---------------------------------------------------------------\n",
      "Shape of Li: (1,)\n",
      "A at iteration 1 :\n",
      "[[ 4.          8.          2.          5.        ]\n",
      " [ 0.         -3.          2.          2.5       ]\n",
      " [ 0.          0.         -0.83333333 -0.41666667]]\n",
      "---------------------------------------------------------------\n",
      "Shape of Li: (0,)\n",
      "A at iteration 2 :\n",
      "[[ 4.          8.          2.          5.        ]\n",
      " [ 0.         -3.          2.          2.5       ]\n",
      " [ 0.          0.         -0.83333333 -0.41666667]]\n",
      "---------------------------------------------------------------\n",
      "Extended matrix A' after eliminations (upper triangular):\n",
      "[[ 4.          8.          2.          5.        ]\n",
      " [ 0.         -3.          2.          2.5       ]\n",
      " [ 0.          0.         -0.83333333 -0.41666667]]\n",
      "____________________________________________________________\n",
      "Solution u = [-1.16666667 -0.5         0.5       ]\n",
      "____________________________________________________________\n",
      "Is the solution correct?\n",
      "[[ True  True  True]\n",
      " [ True  True  True]\n",
      " [ True  True  True]]\n"
     ]
    }
   ],
   "source": [
    "K = np.array([[4, 8, 2], [2, 1, 3], [5, 5, 5]])\n",
    "b = np.array([5, 5, 10])\n",
    "\n",
    "solution = myGE_vec(K, b)\n",
    "print(\"____________________________________________________________\")\n",
    "print(\"Solution u =\", solution)\n",
    "print(\"____________________________________________________________\")\n",
    "epsilon = 0.01\n",
    "print(\"Is the solution correct?\")\n",
    "print(K*solution <= abs(b - epsilon))"
   ]
  },
  {
   "cell_type": "code",
   "execution_count": 82,
   "metadata": {},
   "outputs": [
    {
     "name": "stdout",
     "output_type": "stream",
     "text": [
      "5\n",
      "4\n",
      "3\n",
      "2\n",
      "1\n",
      "0\n"
     ]
    }
   ],
   "source": [
    "for i in range(5,-1,-1):\n",
    "    print(i)"
   ]
  },
  {
   "cell_type": "code",
   "execution_count": null,
   "metadata": {},
   "outputs": [],
   "source": []
  }
 ],
 "metadata": {
  "kernelspec": {
   "display_name": ".env",
   "language": "python",
   "name": ".env"
  },
  "language_info": {
   "codemirror_mode": {
    "name": "ipython",
    "version": 3
   },
   "file_extension": ".py",
   "mimetype": "text/x-python",
   "name": "python",
   "nbconvert_exporter": "python",
   "pygments_lexer": "ipython3",
   "version": "3.10.5"
  },
  "orig_nbformat": 4
 },
 "nbformat": 4,
 "nbformat_minor": 2
}
