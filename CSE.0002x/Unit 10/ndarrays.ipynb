{
 "cells": [
  {
   "cell_type": "code",
   "execution_count": 2,
   "metadata": {},
   "outputs": [],
   "source": [
    "import numpy as np\n",
    "\n",
    "def print_ndarray_info(x,xname='x'):\n",
    "    print(f'{xname} =\\n{x}')\n",
    "    print(f'type({xname}) = {type(x)}')\n",
    "    print(f'{xname}.dtype = {x.dtype}')\n",
    "    print(f'{xname}.shape = {x.shape}')"
   ]
  },
  {
   "cell_type": "code",
   "execution_count": 3,
   "metadata": {},
   "outputs": [
    {
     "name": "stdout",
     "output_type": "stream",
     "text": [
      "x =\n",
      "[3 1 4 1 5]\n",
      "type(x) = <class 'numpy.ndarray'>\n",
      "x.dtype = int64\n",
      "x.shape = (5,)\n"
     ]
    }
   ],
   "source": [
    "x = np.array([3, 1, 4, 1, 5])\n",
    "print_ndarray_info(x,'x')"
   ]
  },
  {
   "cell_type": "code",
   "execution_count": 7,
   "metadata": {},
   "outputs": [
    {
     "name": "stdout",
     "output_type": "stream",
     "text": [
      "y =\n",
      "[[  0.  10.  50.]\n",
      " [  1.  11.  60.]\n",
      " [  2.  12.  70.]\n",
      " [  3.  13.  80.]\n",
      " [  4.  14.  90.]\n",
      " [  5.  15. 100.]]\n",
      "type(y) = <class 'numpy.ndarray'>\n",
      "y.dtype = float64\n",
      "y.shape = (6, 3)\n"
     ]
    }
   ],
   "source": [
    "y = np.linspace([0, 10, 50], [5, 15, 100], 6)\n",
    "print_ndarray_info(y,'y')"
   ]
  },
  {
   "cell_type": "code",
   "execution_count": 9,
   "metadata": {},
   "outputs": [
    {
     "name": "stdout",
     "output_type": "stream",
     "text": [
      "z =\n",
      "[0.  0.1 0.2 0.3 0.4 0.5 0.6 0.7 0.8 0.9]\n",
      "type(z) = <class 'numpy.ndarray'>\n",
      "z.dtype = float64\n",
      "z.shape = (10,)\n"
     ]
    }
   ],
   "source": [
    "z = np.arange(0, 1, 0.1)\n",
    "print_ndarray_info(z,'z')"
   ]
  },
  {
   "cell_type": "code",
   "execution_count": 21,
   "metadata": {},
   "outputs": [
    {
     "name": "stdout",
     "output_type": "stream",
     "text": [
      "[[0. 0. 0.]\n",
      " [0. 0. 0.]\n",
      " [0. 0. 0.]]\n",
      "(3, 3)\n"
     ]
    }
   ],
   "source": [
    "zero_array = np.zeros((3,3))\n",
    "print(zero_array)\n",
    "print(zero_array.shape)  # Notice no paranthesis."
   ]
  },
  {
   "cell_type": "code",
   "execution_count": 14,
   "metadata": {},
   "outputs": [],
   "source": [
    "# Implement the function create_seq that returns a one-dimensional NumPy ndarray containing the sequence 0., 0.01, 0.02, ... , 0.98, 0.99, 1.\n",
    "import numpy as np\n",
    "\n",
    "def create_seq():\n",
    "    \"\"\"\n",
    "    Returns: a numpy ndarray containing 0., 0.01, 0.02, ... 0.98, 0.99, 1.\n",
    "    \"\"\"\n",
    "    #### BEGIN SOLUTION ####\n",
    "    return np.linspace(0, 1, 101)\n",
    "    #### END SOLUTION ####"
   ]
  },
  {
   "cell_type": "code",
   "execution_count": 15,
   "metadata": {},
   "outputs": [
    {
     "name": "stdout",
     "output_type": "stream",
     "text": [
      "seq =\n",
      "[0.   0.01 0.02 0.03 0.04 0.05 0.06 0.07 0.08 0.09 0.1  0.11 0.12 0.13\n",
      " 0.14 0.15 0.16 0.17 0.18 0.19 0.2  0.21 0.22 0.23 0.24 0.25 0.26 0.27\n",
      " 0.28 0.29 0.3  0.31 0.32 0.33 0.34 0.35 0.36 0.37 0.38 0.39 0.4  0.41\n",
      " 0.42 0.43 0.44 0.45 0.46 0.47 0.48 0.49 0.5  0.51 0.52 0.53 0.54 0.55\n",
      " 0.56 0.57 0.58 0.59 0.6  0.61 0.62 0.63 0.64 0.65 0.66 0.67 0.68 0.69\n",
      " 0.7  0.71 0.72 0.73 0.74 0.75 0.76 0.77 0.78 0.79 0.8  0.81 0.82 0.83\n",
      " 0.84 0.85 0.86 0.87 0.88 0.89 0.9  0.91 0.92 0.93 0.94 0.95 0.96 0.97\n",
      " 0.98 0.99 1.  ]\n",
      "type(seq) = <class 'numpy.ndarray'>\n",
      "seq.dtype = float64\n",
      "seq.shape = (101,)\n"
     ]
    }
   ],
   "source": [
    "seq = create_seq()\n",
    "print_ndarray_info(seq,'seq')"
   ]
  },
  {
   "cell_type": "markdown",
   "metadata": {},
   "source": [
    "**Reshaping and Slicing DOES NOT create/copy new data for ndarrays!!**"
   ]
  },
  {
   "cell_type": "code",
   "execution_count": 16,
   "metadata": {},
   "outputs": [
    {
     "name": "stdout",
     "output_type": "stream",
     "text": [
      "a   = [ 0.  1. -2.  3.]\n",
      "acol = \n",
      "[[ 0.]\n",
      " [ 1.]\n",
      " [-2.]\n",
      " [ 3.]]\n",
      "b   = [ 2.  4.  3. -4.]\n",
      "c   = 3.0\n",
      "K   = \n",
      "[[ 2.   3.  -1.   0. ]\n",
      " [-1.   2.   4.   0.5]]\n",
      "\n",
      "a+b  = [ 2.  5.  1. -1.]\n",
      "\n",
      "a*b  = [  0.   4.  -6. -12.]\n",
      "\n",
      "a**b = [ 0.          1.         -8.          0.01234568]\n",
      "\n",
      "c+b  = [ 5.  7.  6. -1.]\n",
      "\n",
      "c*b  = [  6.  12.   9. -12.]\n",
      "\n",
      "c**b = [9.0000000e+00 8.1000000e+01 2.7000000e+01 1.2345679e-02]\n",
      "\n",
      "b**c = [  8.  64.  27. -64.]\n",
      "\n",
      "a.min() = -2.0\n",
      "\n",
      "a.max() = 3.0\n",
      "\n",
      "K.min()        = -1.0\n",
      "\n",
      "K.max(axis=0)  = [2.  3.  4.  0.5]\n",
      "\n",
      "K.sum(axis=1)  = [4.  5.5]\n",
      "\n",
      "K.prod(axis=0) = [-2.  6. -4.  0.]\n",
      "\n",
      "K@a = \n",
      "[ 5.  -4.5]\n",
      "\n",
      "K@acol = \n",
      "[[ 5. ]\n",
      " [-4.5]]\n",
      "\n"
     ]
    }
   ],
   "source": [
    "a    = np.array([ 0., 1., -2.,  3.])\n",
    "acol = a.reshape((4,1))\n",
    "b    = np.array([2., 4., 3., -4.])\n",
    "c    = 3.\n",
    "K    = np.array([[2., 3., -1., 0.],[-1., 2., 4., 0.5]])\n",
    "\n",
    "print(f'a   = {a}')\n",
    "print(f'acol = \\n{acol}')\n",
    "print(f'b   = {b}')\n",
    "print(f'c   = {c}')\n",
    "print(f'K   = \\n{K}\\n')\n",
    "\n",
    "print(f'a+b  = {a+b}\\n')\n",
    "print(f'a*b  = {a*b}\\n')\n",
    "print(f'a**b = {a**b}\\n')\n",
    "\n",
    "print(f'c+b  = {c+b}\\n')\n",
    "print(f'c*b  = {c*b}\\n')\n",
    "print(f'c**b = {c**b}\\n')\n",
    "print(f'b**c = {b**c}\\n')\n",
    "\n",
    "print(f'a.min() = {a.min()}\\n')\n",
    "print(f'a.max() = {a.max()}\\n')\n",
    "\n",
    "print(f'K.min()        = {K.min()}\\n')\n",
    "print(f'K.max(axis=0)  = {K.max(axis=0)}\\n')\n",
    "print(f'K.sum(axis=1)  = {K.sum(axis=1)}\\n')\n",
    "print(f'K.prod(axis=0) = {K.prod(axis=0)}\\n')\n",
    "\n",
    "print(f'K@a = \\n{K@a}\\n')\n",
    "\n",
    "print(f'K@acol = \\n{K@acol}\\n')"
   ]
  },
  {
   "cell_type": "code",
   "execution_count": 38,
   "metadata": {},
   "outputs": [
    {
     "name": "stdout",
     "output_type": "stream",
     "text": [
      "[[1 2 3]\n",
      " [4 5 6]]\n",
      "5\n",
      "5\n",
      "[1 2 3]\n",
      "[1 2 3]\n",
      "[1 2 3]\n",
      "[1 2 3]\n",
      "[1 4]\n"
     ]
    }
   ],
   "source": [
    "A = np.array( [ [1,2,3], [4,5,6] ] )\n",
    "print(A)\n",
    "print(A[1, 1])\n",
    "print(A[1][1])\n",
    "print(A[0,])\n",
    "print(A[0][:])\n",
    "print(A[:][0])\n",
    "print(A[0, :])\n",
    "print(A[:, 0])"
   ]
  },
  {
   "cell_type": "markdown",
   "metadata": {},
   "source": [
    "$A = \\left[ \\begin{array}{ccc} 1 &  -1 &  0 \\\\ -1 &  2 &  -1 \\\\ 0 &  -1 &  2 \\end{array} \\right]$"
   ]
  },
  {
   "cell_type": "code",
   "execution_count": 2,
   "metadata": {},
   "outputs": [
    {
     "data": {
      "text/plain": [
       "array([[ 1, -1,  0],\n",
       "       [-1,  2, -1],\n",
       "       [ 0, -1,  2]])"
      ]
     },
     "execution_count": 2,
     "metadata": {},
     "output_type": "execute_result"
    }
   ],
   "source": [
    "import numpy as np\n",
    "\n",
    "\n",
    "def create_A():\n",
    "    \"\"\"\n",
    "    Returns: a numpy ndarray representing the matrix specified in the exercise\n",
    "    \"\"\"\n",
    "    #### BEGIN SOLUTION ####\n",
    "    A = np.array([[1, -1, 0], [-1, 2, -1], [0, -1, 2]])\n",
    "    return A\n",
    "    #### END SOLUTION ####\n",
    "\n",
    "create_A()"
   ]
  },
  {
   "cell_type": "code",
   "execution_count": 3,
   "metadata": {},
   "outputs": [],
   "source": [
    "import numpy as np\n",
    "\n",
    "\n",
    "def give_x():\n",
    "    \"\"\"\n",
    "    Returns: a numpy ndarray containing the solution to Ax = b,\n",
    "        for A and x given in the exercise\n",
    "    \"\"\"\n",
    "    #### BEGIN SOLUTION ####\n",
    "    x = np.array([6, 5, 3])\n",
    "    return x\n",
    "    #### END SOLUTION ####"
   ]
  },
  {
   "cell_type": "code",
   "execution_count": 4,
   "metadata": {},
   "outputs": [
    {
     "data": {
      "text/plain": [
       "array([6, 5, 3])"
      ]
     },
     "execution_count": 4,
     "metadata": {},
     "output_type": "execute_result"
    }
   ],
   "source": [
    "give_x()"
   ]
  }
 ],
 "metadata": {
  "kernelspec": {
   "display_name": ".env",
   "language": "python",
   "name": ".env"
  },
  "language_info": {
   "codemirror_mode": {
    "name": "ipython",
    "version": 3
   },
   "file_extension": ".py",
   "mimetype": "text/x-python",
   "name": "python",
   "nbconvert_exporter": "python",
   "pygments_lexer": "ipython3",
   "version": "3.10.5"
  },
  "orig_nbformat": 4
 },
 "nbformat": 4,
 "nbformat_minor": 2
}
