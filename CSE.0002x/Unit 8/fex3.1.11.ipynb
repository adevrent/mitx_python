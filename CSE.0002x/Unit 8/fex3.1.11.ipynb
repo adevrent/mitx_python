{
 "cells": [
  {
   "cell_type": "code",
   "execution_count": 1,
   "metadata": {},
   "outputs": [],
   "source": [
    "def step_RK2_ME(evalf, dt, vn, tn):\n",
    "    \"\"\"\n",
    "    Takes a single timestep of the Modified Euler version of a 2nd order\n",
    "    Runge-Kutta method (RK2_ME) to integrate the state from vn (at time tn)\n",
    "    to vn1 (at time tn1 = tn + dt).\n",
    "\n",
    "    Args:\n",
    "        evalf (function reference): the referenced function has inputs of\n",
    "            a state vector (v) and time (t) and returns the forcing f(v, t).\n",
    "            v and f are float lists.\n",
    "        dt (float): time increment\n",
    "        vn (float list): current state\n",
    "        tn (float): current time\n",
    "\n",
    "    Returns:\n",
    "        float list: next state, i.e. vn1\n",
    "    \"\"\"\n",
    "    # compute RHS for the a vector\n",
    "    ta = tn\n",
    "    va = vn\n",
    "    fa = evalf(va, ta)\n",
    "    # compute the a vector\n",
    "    a = []\n",
    "    for i in range(len(vn)):\n",
    "        a.append(dt*fa[i])\n",
    "\n",
    "    # compute RHS for the b vector\n",
    "    tb = tn + 0.5*dt\n",
    "    vb = []\n",
    "    for i in range(len(vn)):\n",
    "        vb.append(vn[i] + 0.5*a[i])\n",
    "    fb = evalf(vb, tb)\n",
    "    # compute the b vector\n",
    "    b = []\n",
    "    for i in range(len(vn)):\n",
    "        b.append(dt*fb[i])\n",
    "\n",
    "    # compute the next step\n",
    "    vn1 = []\n",
    "    for i in range(len(vn)):\n",
    "        vn1.append(vn[i] + b[i])\n",
    "    return vn1"
   ]
  },
  {
   "cell_type": "code",
   "execution_count": 2,
   "metadata": {},
   "outputs": [],
   "source": [
    "def step_RK2_HEUN(evalf, dt, vn, tn):\n",
    "    \"\"\"\n",
    "    Takes a single timestep of the Heun version of a 2nd order\n",
    "    Runge-Kutta method (RK2_ME) to integrate the state from vn (at time tn)\n",
    "    to vn1 (at time tn1 = tn + dt).\n",
    "\n",
    "    Args:\n",
    "        evalf (function reference): the referenced function has inputs of\n",
    "            a state vector (v) and time (t) and returns the forcing f(v, t).\n",
    "            v and f are float lists.\n",
    "        dt (float): time increment\n",
    "        vn (float list): current state\n",
    "        tn (float): current time\n",
    "\n",
    "    Returns:\n",
    "        float list: next state, i.e. vn1\n",
    "    \"\"\"\n",
    "    #### BEGIN SOLUTION ####\n",
    "    \n",
    "    #calculate vector a\n",
    "    a = []\n",
    "    fa = evalf(vn, tn)  # returns float list.\n",
    "    for i in range(len(vn)):\n",
    "        a.append(dt*fa[i])\n",
    "    #calculate vector b\n",
    "    b = []\n",
    "    fb_input = []\n",
    "    if len(vn) == len(a):  # should always be true.\n",
    "        for idx in range(len(a)):\n",
    "            fb_input.append(vn[idx] + a[idx])\n",
    "        fb = evalf(fb_input, tn + dt)\n",
    "    else:\n",
    "        raise ValueError(\"Something went terribly wrong.\")\n",
    "    \n",
    "    for i in range(len(vn)):\n",
    "        b.append(dt*fb[i])\n",
    "    #calculate vn1\n",
    "    if len(a) == len(b):  # should always be true.\n",
    "        vn1 = []\n",
    "        for idx in range(len(a)):\n",
    "            vn1.append(vn[idx] + (a[idx] + b[idx]) / 2)\n",
    "        return vn1\n",
    "    else:\n",
    "        raise ValueError(\"Something went terribly wrong.\")\n",
    "    #### END SOLUTION ####"
   ]
  },
  {
   "cell_type": "code",
   "execution_count": 3,
   "metadata": {},
   "outputs": [],
   "source": [
    "def rf_evalf(v, t, p):\n",
    "    \"\"\"_summary_\n",
    "\n",
    "    Args:\n",
    "        v (float list): current [# of rabbits, # of foxes]\n",
    "        t (float): current time (months)\n",
    "        p (dict): dictionary of parameters\n",
    "        \n",
    "    Returns:\n",
    "        f (float list): derivative vector [dr/dt, df/dt]\n",
    "    \"\"\"\n",
    "    \n",
    "    a = p[\"a\"]\n",
    "    b = p[\"b\"]\n",
    "    c = p[\"c\"]\n",
    "    m = p[\"m\"]\n",
    "    \n",
    "    f = []\n",
    "    f0 = a*v[0] - b*v[0]*v[1]\n",
    "    f.append(f0)\n",
    "    f1 = -m*v[1] + c*b*v[0]*v[1]\n",
    "    f.append(f1)\n",
    "    \n",
    "    return f"
   ]
  },
  {
   "cell_type": "code",
   "execution_count": 4,
   "metadata": {},
   "outputs": [
    {
     "data": {
      "text/plain": [
       "[500.0, -50.0]"
      ]
     },
     "execution_count": 4,
     "metadata": {},
     "output_type": "execute_result"
    }
   ],
   "source": [
    "p = {\"a\":2, \"b\":0.01, \"c\":0.1, \"m\":1}\n",
    "rf_evalf([500, 100], 0, p)"
   ]
  }
 ],
 "metadata": {
  "kernelspec": {
   "display_name": ".env",
   "language": "python",
   "name": ".env"
  },
  "language_info": {
   "codemirror_mode": {
    "name": "ipython",
    "version": 3
   },
   "file_extension": ".py",
   "mimetype": "text/x-python",
   "name": "python",
   "nbconvert_exporter": "python",
   "pygments_lexer": "ipython3",
   "version": "3.10.5"
  },
  "orig_nbformat": 4
 },
 "nbformat": 4,
 "nbformat_minor": 2
}
