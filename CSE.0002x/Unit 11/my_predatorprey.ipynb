{
 "cells": [
  {
   "cell_type": "markdown",
   "metadata": {},
   "source": [
    "$f_0 \\displaystyle  = a u_0 - b\\,  u_0\\,  u_1$\\\n",
    "\\\n",
    "$f_1 \\displaystyle  = -m u_1 + c\\,  b\\, u_0\\, u_1$"
   ]
  },
  {
   "cell_type": "markdown",
   "metadata": {},
   "source": [
    "$\\newcommand\\arraystretch {1.5} \\nabla \\underline{f}(\\underline{u},t^{n+1}) = \\left( \\begin{array}{cc} \\frac{\\partial f_0}{\\partial u_0} &  \\frac{\\partial f_0}{\\partial u_1} \\\\ \\frac{\\partial f_1}{\\partial u_0} &  \\frac{\\partial f_1}{\\partial u_1} \\end{array} \\right)$"
   ]
  },
  {
   "cell_type": "markdown",
   "metadata": {},
   "source": [
    "$\\displaystyle \\frac{\\partial f_0}{\\partial u_0} = a - b\\,  u_1 \\quad \\quad \\frac{\\partial f_0}{\\partial u_1} = - b\\,  u_0$"
   ]
  },
  {
   "cell_type": "markdown",
   "metadata": {},
   "source": [
    "$\\displaystyle  \\frac{\\partial f_1}{\\partial u_0} = c\\,  b\\, u_1 \\quad \\quad \\frac{\\partial f_1}{\\partial u_1} = -m + c\\,  b\\, u_0$"
   ]
  },
  {
   "cell_type": "code",
   "execution_count": 2,
   "metadata": {},
   "outputs": [],
   "source": [
    "# My gaussian elimination algorithm\n",
    "import numpy as np\n",
    "import matplotlib.pyplot as plt\n",
    "\n",
    "def myGE_vec(K, f):\n",
    "    \"\"\"\n",
    "    Gaussian elimination (with vectorization)\n",
    "    \"\"\"\n",
    "    m,n = K.shape\n",
    "    assert m == n, \"Non-square matrix\"\n",
    "\n",
    "    u = np.zeros(n)\n",
    "\n",
    "    # Extended matrix with the right-hand side as last column\n",
    "    A = np.zeros((n,n+1))\n",
    "    A[:,0:n] = K\n",
    "    A[:,n] = f\n",
    "\n",
    "    # Elimination of nonzero elements below the diagonal\n",
    "    print(\"A at the beginning:\")\n",
    "    print(A)\n",
    "    print(\"**************************************\")\n",
    "    for i in range(n):  # for each ROW i:\n",
    "        assert A[i,i] != 0.0, \"Zero pivot detected\"\n",
    "\n",
    "        # Calculate Li which is the vector of all Lji values (for all values of j)\n",
    "        Li = A[i+1:, i] / A[i, i]  # multiplier for row i. We need to update \n",
    "                                # A[j, :] = A[j, :] - A[i, :] * Li[j] for all rows j >= i+1\n",
    "        # Li is COLUMN vector!\n",
    "        print(\"Shape of Li:\", Li.shape)\n",
    "        \n",
    "        \n",
    "        # Update A[i+1:n,i+1:]\n",
    "        # Hint: consider using an outer product of Li and the relevant\n",
    "        #       portion of the A matrix (np.outer is the NumPy command)\n",
    "        # TODO\n",
    "        A[i+1:n, i:] -= np.outer(Li, A[i, i:])\n",
    "        print(\"A at iteration\", i, \":\")\n",
    "        print(A.round(4))\n",
    "        print(\"---------------------------------------------------------------\")\n",
    "    print(\"Extended matrix A' after eliminations (upper triangular):\")\n",
    "    print(A.round(4))\n",
    "\n",
    "                \n",
    "    # Back substitution\n",
    "    u[n-1] = A[n-1,n]/A[n-1,n-1]\n",
    "\n",
    "    for i in range(n-2,-1,-1):\n",
    "        # Calculate u[i].\n",
    "        # Hint: the np.dot command will be useful\n",
    "        u[i] = (A[n-2, n] - A[n-2, n-1]*u[i+1]) / A[n-2, n-2]\n",
    "\n",
    "    return u"
   ]
  },
  {
   "cell_type": "code",
   "execution_count": 20,
   "metadata": {},
   "outputs": [
    {
     "ename": "SyntaxError",
     "evalue": "invalid syntax (2727700117.py, line 29)",
     "output_type": "error",
     "traceback": [
      "\u001b[0;36m  Cell \u001b[0;32mIn [20], line 29\u001b[0;36m\u001b[0m\n\u001b[0;31m    r = (1/p[\"dt\"]) *\u001b[0m\n\u001b[0m                      ^\u001b[0m\n\u001b[0;31mSyntaxError\u001b[0m\u001b[0;31m:\u001b[0m invalid syntax\n"
     ]
    }
   ],
   "source": [
    "uI = np.array([500, 50])  # 500 rabbits, 100 foxes\n",
    "tI = 0\n",
    "dt = 0.1\n",
    "tF = 1000\n",
    "\n",
    "# parameters\n",
    "p = {}\n",
    "p[\"a\"] = 2.0\n",
    "p[\"b\"] = 0.01\n",
    "p[\"c\"] = 0.1\n",
    "p[\"m\"] = 1.0\n",
    "p[\"dt\"] = dt\n",
    "\n",
    "t = np.arange(tI, tF, dt)\n",
    "u = np.empty((len(t), len(uI)))\n",
    "u[0] = uI\n",
    "\n",
    "def evalf_PredatorPrey(u, p):\n",
    "    f0 = p[\"a\"]*u[0] - p[\"b\"]*u[0]*u[1]\n",
    "    f1 = -p[\"m\"]*u[1] + p[\"c\"]*p[\"b\"]*u[0]*u[1]\n",
    "    \n",
    "    f = np.zeros(2)\n",
    "    f[0] = f0\n",
    "    f[1] = f1\n",
    "    \n",
    "    return f\n",
    "\n",
    "def evalr_PredatorPrey(u, p):\n",
    "    \"\"\"_summary_\n",
    "\n",
    "    Args:\n",
    "        u (_type_): _description_\n",
    "        p (_type_): _description_\n",
    "    \"\"\"\n",
    "\n",
    "def nablaf_PredatorPrey(u, p):\n",
    "    f0u0 = p[\"a\"] - p[\"b\"]*u[1]\n",
    "    f1u0 = p[\"c\"]*p[\"b\"]*u[1]\n",
    "    f0u1 = -p[\"b\"]*u[0]\n",
    "    f1u1 = -p[\"m\"] + p[\"c\"]*p[\"b\"]*u[0]\n",
    "    \n",
    "    nablaf = np.zeros((2, 2))\n",
    "    nablaf[0, 0] = f0u0\n",
    "    nablaf[1, 0] = f1u0\n",
    "    nablaf[0, 1] = f0u1\n",
    "    nablaf[1, 1] = f1u1\n",
    "    \n",
    "    return nablaf\n",
    "\n",
    "def BE_PredatorPrey(f, t, dt, u, linsolver, p):\n",
    "    \"\"\"Solves the predator-prey system using Backward Euler method, from initial time (tI) up to final time (tF)\n",
    "\n",
    "    Args:\n",
    "        f (function) = forcing function\n",
    "        t (ndarray): time array\n",
    "        dt (float): length of timestep\n",
    "        u (ndarray): state array\n",
    "        linsolver (function): method to use to solve system of linear equations in the form of Ku = f\n",
    "        p (dict) = parameter dict\n",
    "    \"\"\"\n"
   ]
  },
  {
   "cell_type": "code",
   "execution_count": 19,
   "metadata": {},
   "outputs": [
    {
     "name": "stdout",
     "output_type": "stream",
     "text": [
      "[[ 5.00000000e+002  5.00000000e+001]\n",
      " [ 4.67664229e-310  4.67664229e-310]\n",
      " [-2.17364559e+256  6.92117577e-310]\n",
      " ...\n",
      " [ 0.00000000e+000  0.00000000e+000]\n",
      " [ 0.00000000e+000  0.00000000e+000]\n",
      " [ 0.00000000e+000  0.00000000e+000]]\n"
     ]
    }
   ],
   "source": [
    "print(u)"
   ]
  }
 ],
 "metadata": {
  "kernelspec": {
   "display_name": ".env",
   "language": "python",
   "name": ".env"
  },
  "language_info": {
   "codemirror_mode": {
    "name": "ipython",
    "version": 3
   },
   "file_extension": ".py",
   "mimetype": "text/x-python",
   "name": "python",
   "nbconvert_exporter": "python",
   "pygments_lexer": "ipython3",
   "version": "3.10.5"
  },
  "orig_nbformat": 4
 },
 "nbformat": 4,
 "nbformat_minor": 2
}
