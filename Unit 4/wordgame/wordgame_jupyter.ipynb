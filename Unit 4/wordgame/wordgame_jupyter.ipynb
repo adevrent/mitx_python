{
 "cells": [
  {
   "cell_type": "code",
   "execution_count": 2,
   "metadata": {},
   "outputs": [],
   "source": [
    "SCRABBLE_LETTER_VALUES = {\n",
    "    'a': 1, 'b': 3, 'c': 3, 'd': 2, 'e': 1, 'f': 4, 'g': 2, 'h': 4, 'i': 1, 'j': 8, 'k': 5, 'l': 1, 'm': 3, 'n': 1, 'o': 1, 'p': 3, 'q': 10, 'r': 1, 's': 1, 't': 1, 'u': 1, 'v': 4, 'w': 4, 'x': 8, 'y': 4, 'z': 10\n",
    "}"
   ]
  },
  {
   "cell_type": "code",
   "execution_count": 7,
   "metadata": {},
   "outputs": [],
   "source": [
    "def getWordScore(word, n):\n",
    "    \"\"\"\n",
    "    Returns the score for a word. Assumes the word is a valid word.\n",
    "\n",
    "    The score for a word is the sum of the points for letters in the\n",
    "    word, multiplied by the length of the word, PLUS 50 points if all n\n",
    "    letters are used on the first turn.\n",
    "\n",
    "    Letters are scored as in Scrabble; A is worth 1, B is worth 3, C is\n",
    "    worth 3, D is worth 2, E is worth 1, and so on (see SCRABBLE_LETTER_VALUES)\n",
    "\n",
    "    word: string (lowercase letters)\n",
    "    n: integer (HAND_SIZE; i.e., hand size required for additional points)\n",
    "    returns: int >= 0\n",
    "    \"\"\"\n",
    "    score = 0\n",
    "    for letter in word:\n",
    "        score += SCRABBLE_LETTER_VALUES[letter]\n",
    "    score *= len(word)\n",
    "    if len(word) == n:\n",
    "        score += 50\n",
    "    return score"
   ]
  },
  {
   "cell_type": "code",
   "execution_count": 8,
   "metadata": {},
   "outputs": [
    {
     "data": {
      "text/plain": [
       "82"
      ]
     },
     "execution_count": 8,
     "metadata": {},
     "output_type": "execute_result"
    }
   ],
   "source": [
    "getWordScore(\"weed\", 4)"
   ]
  },
  {
   "cell_type": "code",
   "execution_count": 9,
   "metadata": {},
   "outputs": [],
   "source": [
    "def updateHand(hand, word):\n",
    "    \"\"\"\n",
    "    Assumes that 'hand' has all the letters in word.\n",
    "    In other words, this assumes that however many times\n",
    "    a letter appears in 'word', 'hand' has at least as\n",
    "    many of that letter in it. \n",
    "\n",
    "    Updates the hand: uses up the letters in the given word\n",
    "    and returns the new hand, without those letters in it.\n",
    "\n",
    "    Has no side effects: does not modify hand.\n",
    "\n",
    "    word: string\n",
    "    hand: dictionary (string -> int)    \n",
    "    returns: dictionary (string -> int)\n",
    "    \"\"\"\n",
    "    updated_hand = hand.copy()\n",
    "    for letter in word:\n",
    "        updated_hand[letter] -= 1\n",
    "    return updated_hand"
   ]
  },
  {
   "cell_type": "code",
   "execution_count": null,
   "metadata": {},
   "outputs": [],
   "source": [
    "def isValidWord(word, hand, wordList):\n",
    "    \"\"\"\n",
    "    Returns True if word is in the wordList and is entirely\n",
    "    composed of letters in the hand. Otherwise, returns False.\n",
    "\n",
    "    Does not mutate hand or wordList.\n",
    "   \n",
    "    word: string\n",
    "    hand: dictionary (string -> int)\n",
    "    wordList: list of lowercase strings\n",
    "    \"\"\"\n",
    "    hand_isvalid = hand.copy()\n",
    "    if word in wordList:\n",
    "        for letter in word:\n",
    "            if hand_isvalid.get(letter, 0) < 1:\n",
    "                return False\n",
    "            else:\n",
    "                hand_isvalid[letter] -= 1\n",
    "        return True\n",
    "    return False"
   ]
  },
  {
   "cell_type": "code",
   "execution_count": 11,
   "metadata": {},
   "outputs": [
    {
     "data": {
      "text/plain": [
       "6"
      ]
     },
     "execution_count": 11,
     "metadata": {},
     "output_type": "execute_result"
    }
   ],
   "source": [
    "hand = {\"a\":2, \"t\":1, \"e\":1, \"k\":2}\n",
    "hand.values()\n",
    "sum(hand.values())"
   ]
  },
  {
   "cell_type": "code",
   "execution_count": null,
   "metadata": {},
   "outputs": [],
   "source": [
    "def calculateHandlen(hand):\n",
    "    \"\"\" \n",
    "    Returns the length (number of letters) in the current hand.\n",
    "    \n",
    "    hand: dictionary (string-> int)\n",
    "    returns: integer\n",
    "    \"\"\"\n",
    "    return sum(hand.values())"
   ]
  },
  {
   "cell_type": "code",
   "execution_count": null,
   "metadata": {},
   "outputs": [],
   "source": [
    "def playHand(hand, wordList, n):\n",
    "    \"\"\"\n",
    "    Allows the user to play the given hand, as follows:\n",
    "\n",
    "    * The hand is displayed.\n",
    "    * The user may input a word or a single period (the string \".\") \n",
    "      to indicate they're done playing\n",
    "    * Invalid words are rejected, and a message is displayed asking\n",
    "      the user to choose another word until they enter a valid word or \".\"\n",
    "    * When a valid word is entered, it uses up letters from the hand.\n",
    "    * After every valid word: the score for that word is displayed,\n",
    "      the remaining letters in the hand are displayed, and the user\n",
    "      is asked to input another word.\n",
    "    * The sum of the word scores is displayed when the hand finishes.\n",
    "    * The hand finishes when there are no more unused letters or the user\n",
    "      inputs a \".\"\n",
    "\n",
    "      hand: dictionary (string -> int)\n",
    "      wordList: list of lowercase strings\n",
    "      n: integer (HAND_SIZE; i.e., hand size required for additional points)\n",
    "      \n",
    "    \"\"\"\n",
    "    # BEGIN PSEUDOCODE <-- Remove this comment when you code this function; do your coding within the pseudocode (leaving those comments in-place!)\n",
    "    # Keep track of the total score\n",
    "    \n",
    "    # As long as there are still letters left in the hand:\n",
    "    \n",
    "        # Display the hand\n",
    "        \n",
    "        # Ask user for input\n",
    "        \n",
    "        # If the input is a single period:\n",
    "        \n",
    "            # End the game (break out of the loop)\n",
    "\n",
    "            \n",
    "        # Otherwise (the input is not a single period):\n",
    "        \n",
    "            # If the word is not valid:\n",
    "            \n",
    "                # Reject invalid word (print a message followed by a blank line)\n",
    "\n",
    "            # Otherwise (the word is valid):\n",
    "\n",
    "                # Tell the user how many points the word earned, and the updated total score, in one line followed by a blank line\n",
    "                \n",
    "                # Update the hand \n",
    "                \n",
    "\n",
    "    # Game is over (user entered a '.' or ran out of letters), so tell user the total score"
   ]
  }
 ],
 "metadata": {
  "kernelspec": {
   "display_name": "Python 3",
   "language": "python",
   "name": "python3"
  },
  "language_info": {
   "codemirror_mode": {
    "name": "ipython",
    "version": 3
   },
   "file_extension": ".py",
   "mimetype": "text/x-python",
   "name": "python",
   "nbconvert_exporter": "python",
   "pygments_lexer": "ipython3",
   "version": "3.10.5"
  },
  "orig_nbformat": 4
 },
 "nbformat": 4,
 "nbformat_minor": 2
}
