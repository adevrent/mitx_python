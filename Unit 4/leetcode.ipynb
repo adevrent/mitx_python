{
 "cells": [
  {
   "cell_type": "code",
   "execution_count": 11,
   "metadata": {},
   "outputs": [
    {
     "name": "stdout",
     "output_type": "stream",
     "text": [
      "Customer [2, 8, 7] has wealth = 17\n",
      "Customer [7, 1, 3] has wealth = 11\n",
      "Customer [1, 9, 5] has wealth = 15\n"
     ]
    }
   ],
   "source": [
    "accounts = [[2,8,7],[7,1,3],[1,9,5]]\n",
    "customerDict = {}\n",
    "\n",
    "for idx, i in enumerate(accounts):\n",
    "    wealth = 0\n",
    "    for j in i:\n",
    "        wealth += j\n",
    "    print(\"Customer\", idx, \"has wealth =\", wealth)\n",
    "    customerDict[idx] = wealth"
   ]
  },
  {
   "cell_type": "code",
   "execution_count": 15,
   "metadata": {},
   "outputs": [
    {
     "name": "stdout",
     "output_type": "stream",
     "text": [
      "0 [2, 8, 7]\n",
      "1 [7, 1, 3]\n",
      "2 [1, 9, 5]\n"
     ]
    }
   ],
   "source": [
    "for idx, i in enumerate(accounts):\n",
    "    print(idx, i)"
   ]
  },
  {
   "cell_type": "code",
   "execution_count": 12,
   "metadata": {},
   "outputs": [
    {
     "name": "stdout",
     "output_type": "stream",
     "text": [
      "0\n",
      "<class 'int'>\n"
     ]
    }
   ],
   "source": [
    "\n",
    "maxwealth = max(customerDict.values())\n",
    "maxwealth_key = [key for key, value in customerDict.items() if value == maxwealth]\n",
    "maxwealth_key = maxwealth_key[0]\n",
    "type(maxwealth_key)\n",
    "print(maxwealth_key)\n",
    "print(type(maxwealth_key))"
   ]
  },
  {
   "cell_type": "code",
   "execution_count": 9,
   "metadata": {},
   "outputs": [],
   "source": [
    "def canConstruct(ransomNote: str, magazine: str) -> bool:\n",
    "    for letter in ransomNote:\n",
    "        if letter in magazine:\n",
    "            magazine = magazine.replace(letter, \"\", 1)\n",
    "            print(\"magazine =\", magazine)\n",
    "        else:\n",
    "            return False\n",
    "    return True"
   ]
  },
  {
   "cell_type": "code",
   "execution_count": 12,
   "metadata": {},
   "outputs": [
    {
     "name": "stdout",
     "output_type": "stream",
     "text": [
      "magazine = zbnsjkldooo\n",
      "magazine = zbnjkldooo\n",
      "magazine = zbnjklooo\n"
     ]
    },
    {
     "data": {
      "text/plain": [
       "True"
      ]
     },
     "execution_count": 12,
     "metadata": {},
     "output_type": "execute_result"
    }
   ],
   "source": [
    "canConstruct(\"asd\", \"zabnsjkldooo\")"
   ]
  },
  {
   "cell_type": "code",
   "execution_count": null,
   "metadata": {},
   "outputs": [],
   "source": []
  }
 ],
 "metadata": {
  "kernelspec": {
   "display_name": "Python 3",
   "language": "python",
   "name": "python3"
  },
  "language_info": {
   "codemirror_mode": {
    "name": "ipython",
    "version": 3
   },
   "file_extension": ".py",
   "mimetype": "text/x-python",
   "name": "python",
   "nbconvert_exporter": "python",
   "pygments_lexer": "ipython3",
   "version": "3.10.5"
  },
  "orig_nbformat": 4
 },
 "nbformat": 4,
 "nbformat_minor": 2
}
