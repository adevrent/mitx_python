{
 "cells": [
  {
   "cell_type": "code",
   "execution_count": 2,
   "metadata": {},
   "outputs": [
    {
     "name": "stdout",
     "output_type": "stream",
     "text": [
      "True\n",
      "False\n"
     ]
    }
   ],
   "source": [
    "L1 = [1, 2, 3]\n",
    "L2 = [1, 2, 3]\n",
    "\n",
    "print(L1 == L2)  # L1 and L2 have the same values\n",
    "print(id(L1) == id(L2))  # But they DO NOT point to the same object."
   ]
  },
  {
   "cell_type": "code",
   "execution_count": 10,
   "metadata": {},
   "outputs": [],
   "source": [
    "def sumDigits(s):\n",
    "    \"\"\"Assumes s is a string\n",
    "    Returns the sum of the decimal digits in s\n",
    "    For example, if s is 'a2b3c' it returns 5\"\"\"\n",
    "    sum = 0\n",
    "    for char in s:\n",
    "        try:\n",
    "            char = int(char)\n",
    "            print(char, \"converted to int.\")\n",
    "            sum = sum + char\n",
    "        except:\n",
    "            print(\"Only numeric characters can be cast into int.\")\n",
    "    return sum"
   ]
  },
  {
   "cell_type": "code",
   "execution_count": 12,
   "metadata": {},
   "outputs": [
    {
     "name": "stdout",
     "output_type": "stream",
     "text": [
      "Only numeric characters can be cast into int.\n",
      "Only numeric characters can be cast into int.\n",
      "Only numeric characters can be cast into int.\n",
      "7 converted to int.\n",
      "7 converted to int.\n",
      "Only numeric characters can be cast into int.\n",
      "Only numeric characters can be cast into int.\n",
      "2 converted to int.\n",
      "3 converted to int.\n"
     ]
    },
    {
     "data": {
      "text/plain": [
       "19"
      ]
     },
     "execution_count": 12,
     "metadata": {},
     "output_type": "execute_result"
    }
   ],
   "source": [
    "sumDigits(\"zxc77sd23\")"
   ]
  },
  {
   "cell_type": "code",
   "execution_count": 14,
   "metadata": {},
   "outputs": [
    {
     "name": "stdout",
     "output_type": "stream",
     "text": [
      "abc3 is not an integer\n",
      "asd is not an integer\n",
      " is not an integer\n",
      " is not an integer\n",
      " is not an integer\n",
      " is not an integer\n",
      " is not an integer\n",
      " is not an integer\n",
      " is not an integer\n",
      " is not an integer\n",
      " is not an integer\n",
      " is not an integer\n",
      " is not an integer\n",
      " is not an integer\n",
      " is not an integer\n",
      " is not an integer\n",
      " is not an integer\n",
      "asd is not an integer\n",
      " is not an integer\n"
     ]
    }
   ],
   "source": [
    "while True:\n",
    "    val = input('Enter an integer: ')\n",
    "    try:\n",
    "        val = int(val)\n",
    "        print('The square of the number you entered is', val**2)\n",
    "        break #to exit the while loop\n",
    "    except ValueError:\n",
    "        print(val, 'is not an integer')"
   ]
  },
  {
   "cell_type": "code",
   "execution_count": null,
   "metadata": {},
   "outputs": [],
   "source": [
    "def readVal(valType, requestMsg, errorMsg):\n",
    "    while True:\n",
    "        val = input(requestMsg + ' ')\n",
    "        try:\n",
    "            return(valType(val)) #convert str to valType before returning\n",
    "        except ValueError:\n",
    "            print(val, errorMsg)"
   ]
  },
  {
   "cell_type": "code",
   "execution_count": 1,
   "metadata": {},
   "outputs": [],
   "source": [
    "def findAnEven(L):\n",
    "    \"\"\"Assumes L is a list of integers\n",
    "    Returns the first even number in L\n",
    "    Raises ValueError if L does not contain an even number\"\"\"\n",
    "    \n",
    "    for num in L:\n",
    "        if num%2 == 0:\n",
    "            return num\n",
    "    raise ValueError"
   ]
  },
  {
   "cell_type": "code",
   "execution_count": 5,
   "metadata": {},
   "outputs": [
    {
     "data": {
      "text/plain": [
       "0"
      ]
     },
     "execution_count": 5,
     "metadata": {},
     "output_type": "execute_result"
    }
   ],
   "source": [
    "numlist = [-5, 1, 3, 5, 10]\n",
    "findAnEven(numlist)"
   ]
  },
  {
   "cell_type": "code",
   "execution_count": 13,
   "metadata": {},
   "outputs": [],
   "source": [
    "def f(n):\n",
    "   \"\"\"\n",
    "   n: integer, n >= 0.\n",
    "   \"\"\"\n",
    "   if n == 0:\n",
    "      return 1\n",
    "   else:\n",
    "      return n * f(n-1)"
   ]
  },
  {
   "cell_type": "code",
   "execution_count": 14,
   "metadata": {},
   "outputs": [
    {
     "data": {
      "text/plain": [
       "6"
      ]
     },
     "execution_count": 14,
     "metadata": {},
     "output_type": "execute_result"
    }
   ],
   "source": [
    "f(3)"
   ]
  },
  {
   "cell_type": "code",
   "execution_count": 1,
   "metadata": {},
   "outputs": [],
   "source": [
    "def fancy_divide(list_of_numbers, index):\n",
    "    denom = list_of_numbers[index]\n",
    "    return [simple_divide(item, denom) for item in list_of_numbers]\n",
    "\n",
    "\n",
    "def simple_divide(item, denom):\n",
    "    try:\n",
    "        return item / denom\n",
    "    except ZeroDivisionError:\n",
    "        return 0"
   ]
  },
  {
   "cell_type": "code",
   "execution_count": 2,
   "metadata": {},
   "outputs": [
    {
     "data": {
      "text/plain": [
       "[0, 0, 0, 0]"
      ]
     },
     "execution_count": 2,
     "metadata": {},
     "output_type": "execute_result"
    }
   ],
   "source": [
    "fancy_divide([0, 1, 2, 3], 0)"
   ]
  },
  {
   "cell_type": "code",
   "execution_count": null,
   "metadata": {},
   "outputs": [],
   "source": [
    "def normalize(numbers):\n",
    "    max_number = max(numbers)\n",
    "    for i in range(len(numbers)):\n",
    "        numbers[i] /= float(max_number)\n",
    "    return numbers"
   ]
  }
 ],
 "metadata": {
  "kernelspec": {
   "display_name": "Python 3",
   "language": "python",
   "name": "python3"
  },
  "language_info": {
   "codemirror_mode": {
    "name": "ipython",
    "version": 3
   },
   "file_extension": ".py",
   "mimetype": "text/x-python",
   "name": "python",
   "nbconvert_exporter": "python",
   "pygments_lexer": "ipython3",
   "version": "3.10.5"
  },
  "orig_nbformat": 4
 },
 "nbformat": 4,
 "nbformat_minor": 2
}
