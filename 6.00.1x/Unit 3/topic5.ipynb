{
 "cells": [
  {
   "cell_type": "code",
   "execution_count": 244,
   "metadata": {},
   "outputs": [
    {
     "name": "stdout",
     "output_type": "stream",
     "text": [
      "()\n",
      "(1, 'two', 3)\n"
     ]
    }
   ],
   "source": [
    "t1 = ()\n",
    "t2 = (1, \"two\", 3)\n",
    "print(t1)\n",
    "print(t2)"
   ]
  },
  {
   "cell_type": "code",
   "execution_count": 245,
   "metadata": {},
   "outputs": [
    {
     "name": "stdout",
     "output_type": "stream",
     "text": [
      "1\n",
      "<class 'int'>\n"
     ]
    }
   ],
   "source": [
    "t3 = (1)\n",
    "print(t3)\n",
    "print(type(t3))\n",
    "# type is int here."
   ]
  },
  {
   "cell_type": "code",
   "execution_count": 246,
   "metadata": {},
   "outputs": [
    {
     "name": "stdout",
     "output_type": "stream",
     "text": [
      "(1,)\n",
      "<class 'tuple'>\n"
     ]
    }
   ],
   "source": [
    "t4 = (1,)\n",
    "print(t4)\n",
    "print(type(t4))\n",
    "# but tuple here, because of the comma."
   ]
  },
  {
   "cell_type": "code",
   "execution_count": 247,
   "metadata": {},
   "outputs": [
    {
     "name": "stdout",
     "output_type": "stream",
     "text": [
      "(1, 'two', 3)\n",
      "((1, 'two', 3), 3.25)\n",
      "(1, 'two', 3, (1, 'two', 3), 3.25)\n",
      "(1, 'two', 3)\n",
      "(3, (1, 'two', 3), 3.25)\n"
     ]
    }
   ],
   "source": [
    "t1 = (1, \"two\", 3)\n",
    "t2 = (t1, 3.25)\n",
    "print(t1)\n",
    "print(t2)\n",
    "print(t1 + t2)\n",
    "print((t1 + t2)[3])\n",
    "print((t1 + t2)[2:5])"
   ]
  },
  {
   "cell_type": "code",
   "execution_count": 248,
   "metadata": {},
   "outputs": [
    {
     "name": "stdout",
     "output_type": "stream",
     "text": [
      "range(2, 6)\n",
      "4\n"
     ]
    }
   ],
   "source": [
    "r1 = range(10)  # 0, 1, 2, 3, 4, 5, 6, 7, 8, 9\n",
    "print(r1[2:6])  # 2, 3, 4\n",
    "print(r1[2:6][2])  # 4"
   ]
  },
  {
   "cell_type": "code",
   "execution_count": 249,
   "metadata": {},
   "outputs": [
    {
     "data": {
      "text/plain": [
       "True"
      ]
     },
     "execution_count": 249,
     "metadata": {},
     "output_type": "execute_result"
    }
   ],
   "source": [
    "range(0, 7, 2) == range(0, 8, 2)  # Both are \"0, 2, 4, 6\" so this evaluates to True."
   ]
  },
  {
   "cell_type": "code",
   "execution_count": 250,
   "metadata": {},
   "outputs": [
    {
     "data": {
      "text/plain": [
       "False"
      ]
     },
     "execution_count": 250,
     "metadata": {},
     "output_type": "execute_result"
    }
   ],
   "source": [
    "range(0, 7, 2) == range(6, -1, -2)  # First is \"0, 2, 4, 6\" but second is \"6, 4, 2, 0\"\n",
    "                                    # Evaluates to False because order is wrong."
   ]
  },
  {
   "cell_type": "code",
   "execution_count": 251,
   "metadata": {},
   "outputs": [
    {
     "name": "stdout",
     "output_type": "stream",
     "text": [
      "L3 = [1, 2, 3, 4, 5, 6]\n",
      "L1 = [1, 2, 3, 4, 5, 6]\n",
      "L1 = [1, 2, 3, 4, 5, 6, [4, 5, 6]]\n"
     ]
    }
   ],
   "source": [
    "L1 = [1, 2, 3]\n",
    "L2 = [4, 5, 6]\n",
    "L3 = L1 + L2\n",
    "\n",
    "print(\"L3 =\", L3)\n",
    "L1.extend(L2)\n",
    "print(\"L1 =\", L1)\n",
    "L1.append(L2)\n",
    "print(\"L1 =\", L1)\n"
   ]
  },
  {
   "cell_type": "code",
   "execution_count": 252,
   "metadata": {},
   "outputs": [
    {
     "name": "stdout",
     "output_type": "stream",
     "text": [
      "L1 = [2, 3, 4]\n"
     ]
    }
   ],
   "source": [
    "def removeDups(L1, L2):\n",
    "    \"\"\"\n",
    "    Assumes that L1 and L2 are lists.\n",
    "    Removes any element from L1 that also occurs in L2.\n",
    "    \"\"\"\n",
    "    for e1 in L1:\n",
    "        if e1 in L2:\n",
    "            L1.remove(e1)\n",
    "L1 = [1, 2, 3, 4]\n",
    "L2 = [1, 2, 5, 6]\n",
    "removeDups(L1, L2)\n",
    "print(\"L1 =\", L1)\n",
    "\n",
    "# This does not work because when the first iteration completes, L1[0] is removed from L1\n",
    "# so LENGTH OF L1 IS REDUCED !! L1 becomes [2, 3, 4] Then when next iteration checks if L1[1] is in L2,\n",
    "# L1[1] is 3, instead of 2. This causes a mess.\n",
    "\n",
    "# Do NOT ever mutate the list you are iterating, just create a copy, like for e1 in L1[:] etc."
   ]
  },
  {
   "cell_type": "code",
   "execution_count": 253,
   "metadata": {},
   "outputs": [
    {
     "name": "stdout",
     "output_type": "stream",
     "text": [
      "[1, 4, 9, 16, 25, 36]\n"
     ]
    }
   ],
   "source": [
    "# List comprehension:\n",
    "\n",
    "L = [x**2 for x in range(1, 7)]  # range object here is a sequence \"1, 2, 3, 4, 5, 6\"\n",
    "print(L)  # After list comprehension L becomes, [1^2, 2^2, ..., 6^2]"
   ]
  },
  {
   "cell_type": "code",
   "execution_count": 254,
   "metadata": {},
   "outputs": [],
   "source": [
    "# GLOBAL VARIABLES"
   ]
  },
  {
   "cell_type": "code",
   "execution_count": 255,
   "metadata": {},
   "outputs": [],
   "source": [
    "def fib(x):\n",
    "    \"\"\"\n",
    "    Assumes x an int >= 0\n",
    "    Returns Fibonacci of x\n",
    "    \"\"\"\n",
    "    global numFibCalls\n",
    "    numFibCalls += 1\n",
    "    if x == 0 or x == 1:\n",
    "        return 1\n",
    "    else:\n",
    "        return fib(x - 1) + fib(x - 2)\n",
    "\n",
    "def testFib(n):\n",
    "    for i in range(n + 1):\n",
    "        global numFibCalls\n",
    "        numFibCalls = 0\n",
    "        print(\"fib of\", i, \"=\", fib(i))\n",
    "        print(\"fib called\", numFibCalls, \"times.\")\n",
    "        \n",
    "# numFibCalls is defined at the \"outermost\" scope, because of global."
   ]
  },
  {
   "cell_type": "code",
   "execution_count": 256,
   "metadata": {},
   "outputs": [
    {
     "name": "stdout",
     "output_type": "stream",
     "text": [
      "fib of 0 = 1\n",
      "fib called 1 times.\n",
      "fib of 1 = 1\n",
      "fib called 1 times.\n",
      "fib of 2 = 2\n",
      "fib called 3 times.\n",
      "fib of 3 = 3\n",
      "fib called 5 times.\n",
      "fib of 4 = 5\n",
      "fib called 9 times.\n",
      "fib of 5 = 8\n",
      "fib called 15 times.\n",
      "fib of 6 = 13\n",
      "fib called 25 times.\n"
     ]
    }
   ],
   "source": [
    "testFib(6)"
   ]
  },
  {
   "cell_type": "code",
   "execution_count": 257,
   "metadata": {},
   "outputs": [
    {
     "data": {
      "text/plain": [
       "'\\nDicts are like lists but we index them using KEYS.\\nThink of a dictionary as a set of key/value pairs.\\n'"
      ]
     },
     "execution_count": 257,
     "metadata": {},
     "output_type": "execute_result"
    }
   ],
   "source": [
    "# DICTIONARIES\n",
    "\n",
    "\"\"\"\n",
    "Dicts are like lists but we index them using KEYS.\n",
    "Think of a dictionary as a set of key/value pairs.\n",
    "\"\"\""
   ]
  },
  {
   "cell_type": "code",
   "execution_count": 258,
   "metadata": {},
   "outputs": [
    {
     "name": "stdout",
     "output_type": "stream",
     "text": [
      "The third month is Mar\n"
     ]
    }
   ],
   "source": [
    "monthNumbers = {\"Jan\":1, \"Feb\":2, \"Mar\":3, \"Apr\":4, \"May\":5,\n",
    "                1:\"Jan\", 2:\"Feb\", 3:\"Mar\", 4:\"Apr\", 5:\"May\"}\n",
    "print(\"The third month is\", monthNumbers[3])\n",
    "\n",
    "# Note that the index [3] does NOT print \"Apr\", like it would in a list.\n",
    "# Because 3 is the key for \"Mar\" in this dict, it prints \"Mar\""
   ]
  },
  {
   "cell_type": "code",
   "execution_count": 259,
   "metadata": {},
   "outputs": [
    {
     "name": "stdout",
     "output_type": "stream",
     "text": [
      "Number of Mar is 3\n"
     ]
    }
   ],
   "source": [
    "print(\"Number of Mar is\", monthNumbers[\"Mar\"])\n",
    "\n",
    "# Similarly here, we can use [\"Mar\"] as our index."
   ]
  },
  {
   "cell_type": "code",
   "execution_count": 260,
   "metadata": {},
   "outputs": [
    {
     "name": "stdout",
     "output_type": "stream",
     "text": [
      "Number of Mar is 31\n",
      "{'Jan': 1, 'Feb': 2, 'Mar': 31, 'Apr': 4, 'May': 5, 1: 'Jan', 2: 'Feb', 3: 'Mar', 4: 'Apr', 5: 'May'}\n"
     ]
    }
   ],
   "source": [
    "# Dictionaries are mutable.\n",
    "\n",
    "monthNumbers[\"Mar\"] = 31\n",
    "print(\"Number of Mar is\", monthNumbers[\"Mar\"])\n",
    "print(monthNumbers)"
   ]
  },
  {
   "cell_type": "code",
   "execution_count": 261,
   "metadata": {},
   "outputs": [
    {
     "name": "stdout",
     "output_type": "stream",
     "text": [
      "['Jan', 'Feb', 'Mar', 'Apr', 'May', '1', '2', '3', '4', '5']\n",
      "['1', '2', '3', '4', '5', 'Apr', 'Feb', 'Jan', 'Mar', 'May']\n"
     ]
    }
   ],
   "source": [
    "monthNumbers = {'Jan':1, 'Feb':2, 'Mar':3, 'Apr':4, 'May':5,\n",
    "                1:'Jan', 2:'Feb', 3:'Mar', 4:'Apr', 5:'May'}\n",
    "keys = []\n",
    "for e in monthNumbers:\n",
    "    keys.append(str(e))\n",
    "print(keys)\n",
    "keys.sort()\n",
    "print(keys)"
   ]
  },
  {
   "cell_type": "code",
   "execution_count": 262,
   "metadata": {},
   "outputs": [
    {
     "data": {
      "text/plain": [
       "'\\nThe method keys returns an object of type dict_keys. This is an example of\\na view object. The order in which the keys appear in the view is not defined. A\\nview object is dynamic in that if the object with which it is associated changes,\\nthe change is visible through the view object.\\n'"
      ]
     },
     "execution_count": 262,
     "metadata": {},
     "output_type": "execute_result"
    }
   ],
   "source": [
    "\"\"\"\n",
    "The method keys returns an object of type dict_keys. This is an example of\n",
    "a view object. The order in which the keys appear in the view is not defined. A\n",
    "view object is dynamic in that if the object with which it is associated changes,\n",
    "the change is visible through the view object.\n",
    "\"\"\""
   ]
  },
  {
   "cell_type": "code",
   "execution_count": 263,
   "metadata": {},
   "outputs": [
    {
     "name": "stdout",
     "output_type": "stream",
     "text": [
      "dict_keys(['Jan', 'Feb', 'Mar', 'Apr', 'May'])\n",
      "dict_keys(['Jan', 'Feb', 'Mar', 'Apr', 'May', 'June'])\n",
      "<class 'dict_keys'>\n",
      "{'Jan': 'Garnet', 'Feb': 'Amethyst', 'Mar': 'Acquamarine', 'Apr': 'Diamond', 'May': 'Emerald', 'June': 'Pearl'}\n"
     ]
    }
   ],
   "source": [
    "birthStones = {'Jan':'Garnet', 'Feb':'Amethyst', 'Mar':'Acquamarine',\n",
    "               'Apr':'Diamond', 'May':'Emerald'}\n",
    "months = birthStones.keys()\n",
    "print(months)\n",
    "birthStones['June'] = 'Pearl'\n",
    "print(months)\n",
    "print(type(months))\n",
    "print(birthStones)"
   ]
  },
  {
   "cell_type": "code",
   "execution_count": 264,
   "metadata": {},
   "outputs": [
    {
     "name": "stdout",
     "output_type": "stream",
     "text": [
      "['Jan', 'Feb', 'Mar', 'Apr', 'May', 'June']\n",
      "<class 'list'>\n"
     ]
    }
   ],
   "source": [
    "# we can easily convert dict_keys to list. :\n",
    "\n",
    "keys_list = list(birthStones.keys())\n",
    "print(keys_list)\n",
    "print(type(keys_list))"
   ]
  },
  {
   "cell_type": "code",
   "execution_count": 265,
   "metadata": {},
   "outputs": [
    {
     "data": {
      "text/plain": [
       "'\\nObjects of type dict_keys can be iterated over using for, and membership can\\nbe tested using in.\\n'"
      ]
     },
     "execution_count": 265,
     "metadata": {},
     "output_type": "execute_result"
    }
   ],
   "source": [
    "\"\"\"\n",
    "Objects of type dict_keys can be iterated over using for, and membership can\n",
    "be tested using in.\n",
    "\"\"\""
   ]
  },
  {
   "cell_type": "code",
   "execution_count": 266,
   "metadata": {},
   "outputs": [
    {
     "name": "stdout",
     "output_type": "stream",
     "text": [
      "Jan\n",
      "Feb\n",
      "Mar\n",
      "Apr\n",
      "May\n",
      "June\n"
     ]
    }
   ],
   "source": [
    "for k in birthStones:\n",
    "    print(k)\n",
    "\n",
    "# This for loop only iterates keys in dictionaries! not values!"
   ]
  },
  {
   "cell_type": "code",
   "execution_count": 267,
   "metadata": {},
   "outputs": [],
   "source": [
    "# -*- coding: utf-8 -*-\n",
    "\"\"\"\n",
    "Created on Wed Jun  8 12:37:37 2016\n",
    "\n",
    "@author: ericgrimson\n",
    "\"\"\"\n",
    "\n",
    "def get_data(aTuple):\n",
    "    nums = ()\n",
    "    words = ()\n",
    "    for t in aTuple:\n",
    "        nums = nums + (t[0],)   \n",
    "        if t[1] not in words:   \n",
    "            words = words + (t[1],)\n",
    "    min_nums = min(nums)\n",
    "    max_nums = max(nums)\n",
    "    unique_words = len(words)\n",
    "    return (min_nums, max_nums, unique_words)\n",
    "\n",
    "\n",
    "(small, large, words) = get_data(((1, 'mine'), \n",
    "                                  (3, 'yours'),\n",
    "                                  (5, 'ours'),\n",
    "                                  (7, 'mine')))"
   ]
  },
  {
   "cell_type": "code",
   "execution_count": 268,
   "metadata": {},
   "outputs": [
    {
     "name": "stdout",
     "output_type": "stream",
     "text": [
      "Largest number is 7\n",
      "Smallest number and unique word count are (1, 3) respectively.\n"
     ]
    }
   ],
   "source": [
    "print(\"Largest number is\", large)\n",
    "print(\"Smallest number and unique word count are\", (small, words), \"respectively.\")"
   ]
  },
  {
   "cell_type": "code",
   "execution_count": 269,
   "metadata": {},
   "outputs": [
    {
     "name": "stdout",
     "output_type": "stream",
     "text": [
      "(1, 2, 3)\n",
      "<class 'tuple'>\n"
     ]
    }
   ],
   "source": [
    "c  = [(1, 2, 3), \"Week 3\", 6.453, [[1, 2, 3, 4], 5], 678, [True, False]]\n",
    "\n",
    "print(c[0])\n",
    "print(type(c[0]))\n",
    "\n",
    "# My guess: \n",
    "\n",
    "# (1, 2, 3)\n",
    "# type tuple"
   ]
  },
  {
   "cell_type": "code",
   "execution_count": 270,
   "metadata": {},
   "outputs": [
    {
     "name": "stdout",
     "output_type": "stream",
     "text": [
      "[[[1, 2, 3, 4], 5], 678, [True, False]]\n",
      "<class 'list'>\n"
     ]
    }
   ],
   "source": [
    "print(c[3:])\n",
    "print(type(c[3:]))\n",
    "\n",
    "# My guess: \n",
    "# [[[1, 2, 3, 4], 5], 678, [True, False]]\n",
    "# type list"
   ]
  },
  {
   "cell_type": "code",
   "execution_count": 271,
   "metadata": {},
   "outputs": [
    {
     "name": "stdout",
     "output_type": "stream",
     "text": [
      "3\n",
      "<class 'int'>\n"
     ]
    }
   ],
   "source": [
    "print(c[3][0][2])\n",
    "print(type(c[3][0][2]))\n",
    "\n",
    "# My guess:\n",
    "# 3\n",
    "# type int"
   ]
  },
  {
   "cell_type": "code",
   "execution_count": 272,
   "metadata": {},
   "outputs": [
    {
     "name": "stdout",
     "output_type": "stream",
     "text": [
      "5\n",
      "<class 'int'>\n"
     ]
    }
   ],
   "source": [
    "print(c[3][1])\n",
    "print(type(c[3][1]))\n",
    "\n",
    "# My guess:\n",
    "# 5\n",
    "# type int"
   ]
  },
  {
   "cell_type": "code",
   "execution_count": 273,
   "metadata": {},
   "outputs": [
    {
     "name": "stdout",
     "output_type": "stream",
     "text": [
      "[[True, False], [[1, 2, 3, 4], 5], 'Week 3']\n",
      "<class 'list'>\n"
     ]
    }
   ],
   "source": [
    "print(c[::-2])\n",
    "print(type(c[::-2]))\n",
    "\n",
    "# My guess:\n",
    "# [[True, False], [[1, 2, 3, 4], 5], \"Week 3\"]\n",
    "# type list"
   ]
  },
  {
   "cell_type": "code",
   "execution_count": 274,
   "metadata": {},
   "outputs": [
    {
     "name": "stdout",
     "output_type": "stream",
     "text": [
      "[(1, 2, 3), 'Week 3', 6.453]\n",
      "<class 'list'>\n"
     ]
    }
   ],
   "source": [
    "print(c[:3])\n",
    "print(type(c[:3]))\n",
    "\n",
    "# My guess:\n",
    "# [(1, 2, 3), \"Week 3\", 6.453]\n",
    "# type list"
   ]
  },
  {
   "cell_type": "code",
   "execution_count": 275,
   "metadata": {},
   "outputs": [
    {
     "name": "stdout",
     "output_type": "stream",
     "text": [
      "[[True, False], [[1, 2, 3, 4], 5]]\n",
      "<class 'list'>\n"
     ]
    }
   ],
   "source": [
    "print(c[:1:-2])\n",
    "print(type(c[:1:-2]))\n",
    "\n",
    "# My guess:\n",
    "# [[True, False], [[1, 2, 3, 4], 5]]\n",
    "# type list"
   ]
  },
  {
   "cell_type": "code",
   "execution_count": 276,
   "metadata": {},
   "outputs": [],
   "source": [
    "def returnStringLengths(string1, string2, string3):\n",
    "    len1 = len(string1)\n",
    "    len2 = len(string2)\n",
    "    len3 = len(string3)\n",
    "    \n",
    "    # Return a tuple.\n",
    "    return (len1, len2, len3)"
   ]
  },
  {
   "cell_type": "code",
   "execution_count": 277,
   "metadata": {},
   "outputs": [
    {
     "name": "stdout",
     "output_type": "stream",
     "text": [
      "3\n",
      "<class 'int'>\n",
      "1\n",
      "4\n"
     ]
    }
   ],
   "source": [
    "lenfirst, lensecond, lenthird = returnStringLengths(\"abc\", \"q\", \"vbnm\")\n",
    "print(lenfirst)\n",
    "print(type(lenfirst))\n",
    "print(lensecond)\n",
    "print(lenthird)\n",
    "\n",
    "# Multiple assignment with tuples."
   ]
  },
  {
   "cell_type": "code",
   "execution_count": 278,
   "metadata": {},
   "outputs": [
    {
     "name": "stdout",
     "output_type": "stream",
     "text": [
      "(2, 5, 3)\n"
     ]
    }
   ],
   "source": [
    "LengthTuple = returnStringLengths(\"Hi\", \"Hello\", \"Bye\")\n",
    "print(LengthTuple)"
   ]
  },
  {
   "cell_type": "code",
   "execution_count": 279,
   "metadata": {},
   "outputs": [
    {
     "name": "stdout",
     "output_type": "stream",
     "text": [
      "2\n",
      "5\n",
      "3\n"
     ]
    }
   ],
   "source": [
    "for length in LengthTuple:\n",
    "    print(length)  # Prints each individual element in \n",
    "                   # returnStringLengths(\"Hi\", \"Hello\", \"Bye\") which is equal to (2, 5, 3)"
   ]
  },
  {
   "cell_type": "code",
   "execution_count": 280,
   "metadata": {},
   "outputs": [
    {
     "name": "stdout",
     "output_type": "stream",
     "text": [
      "2\n",
      "5\n",
      "3\n"
     ]
    }
   ],
   "source": [
    "for i in range(len(LengthTuple)):\n",
    "    print(LengthTuple[i])  # Second method."
   ]
  },
  {
   "cell_type": "code",
   "execution_count": 281,
   "metadata": {},
   "outputs": [],
   "source": [
    "def returnArgsAsTuple(*itemsTuple):  # When function's formal argument is defined with * in front,\n",
    "                                     # actual arguments separated by commas are treated as a tuple.\n",
    "    print(itemsTuple)"
   ]
  },
  {
   "cell_type": "code",
   "execution_count": 282,
   "metadata": {},
   "outputs": [
    {
     "name": "stdout",
     "output_type": "stream",
     "text": [
      "(1, 2, 3, 4)\n"
     ]
    }
   ],
   "source": [
    "returnArgsAsTuple(1, 2, 3, 4)"
   ]
  },
  {
   "cell_type": "code",
   "execution_count": 283,
   "metadata": {},
   "outputs": [],
   "source": [
    "dogsTuple = ((\"dog1\", (\"dog2\",)), ((\"dog3,\"), (\"dog4\", \"dog5\")))"
   ]
  },
  {
   "cell_type": "code",
   "execution_count": 284,
   "metadata": {},
   "outputs": [
    {
     "name": "stdout",
     "output_type": "stream",
     "text": [
      "dog5\n"
     ]
    }
   ],
   "source": [
    "# To reach \"dog5\" :\n",
    "\n",
    "print(dogsTuple[1][1][1])"
   ]
  },
  {
   "cell_type": "code",
   "execution_count": 285,
   "metadata": {},
   "outputs": [
    {
     "name": "stdout",
     "output_type": "stream",
     "text": [
      "True\n",
      "True\n"
     ]
    }
   ],
   "source": [
    "# What items will return True for the expression <item> in dogsTuple ?\n",
    "# My guess: (\"dog1\", (\"dog2\",)) and ((\"dog3,\"), (\"dog4\", \"dog5\")) will return True.\n",
    "\n",
    "print((\"dog1\", (\"dog2\",)) in dogsTuple)\n",
    "print(((\"dog3,\"), (\"dog4\", \"dog5\")) in dogsTuple)"
   ]
  },
  {
   "cell_type": "code",
   "execution_count": 286,
   "metadata": {},
   "outputs": [
    {
     "name": "stdout",
     "output_type": "stream",
     "text": [
      "dog2\n",
      "<class 'str'>\n"
     ]
    }
   ],
   "source": [
    "# To reach \"dog2\":\n",
    "\n",
    "print(dogsTuple[0][1][0])\n",
    "print(type(dogsTuple[0][1][0]))"
   ]
  },
  {
   "cell_type": "code",
   "execution_count": 287,
   "metadata": {},
   "outputs": [
    {
     "name": "stdout",
     "output_type": "stream",
     "text": [
      "('dog2',)\n",
      "<class 'tuple'>\n"
     ]
    }
   ],
   "source": [
    "# because dogsTuple[0][1] returns a tuple (because of comma).\n",
    "print(dogsTuple[0][1])\n",
    "print(type(dogsTuple[0][1]))"
   ]
  },
  {
   "cell_type": "code",
   "execution_count": 288,
   "metadata": {},
   "outputs": [],
   "source": [
    "x = (1, 2, (3, 'John', 4), 'Hi')"
   ]
  },
  {
   "cell_type": "code",
   "execution_count": 289,
   "metadata": {},
   "outputs": [],
   "source": [
    "\"\"\"\n",
    "Write a procedure called oddTuples, which takes a tuple as input, \n",
    "and returns a new tuple as output, where every other element of the \n",
    "input tuple is copied, starting with the first one. So if test is the \n",
    "tuple ('I', 'am', 'a', 'test', 'tuple'), then evaluating oddTuples on \n",
    "this input would return the tuple ('I', 'a', 'tuple').\n",
    "\"\"\"\n",
    "\n",
    "def oddTuples(aTup):\n",
    "    '''\n",
    "    aTup: a tuple\n",
    "    \n",
    "    returns: tuple, every other element of aTup. \n",
    "    '''\n",
    "    counter = 0\n",
    "    oddTup = ()\n",
    "    for item in aTup:\n",
    "        counter += 1\n",
    "        if counter%2 == 1:\n",
    "            oddTup = oddTup + (item,)\n",
    "    return oddTup\n",
    "\n",
    "def testOddTuples():\n",
    "    someTuples = ((1, 2, 3, 4, 5), (\"a\", \"b\", \"c\", \"d\"), (\"lmao\", \"rofl\", \"lol\"), (\"Ra\", \"Ra\", \"Rasputin\", \"Lover\", \"Of\", \"The\", \"Russian\", \"Queen\"))\n",
    "    for tuple in someTuples:\n",
    "        print(oddTuples(tuple))\n",
    "    return None"
   ]
  },
  {
   "cell_type": "code",
   "execution_count": 290,
   "metadata": {},
   "outputs": [
    {
     "name": "stdout",
     "output_type": "stream",
     "text": [
      "(1, 3, 5)\n",
      "('a', 'c')\n",
      "('lmao', 'lol')\n",
      "('Ra', 'Rasputin', 'Of', 'Russian')\n"
     ]
    }
   ],
   "source": [
    "testOddTuples()"
   ]
  },
  {
   "cell_type": "code",
   "execution_count": 291,
   "metadata": {},
   "outputs": [
    {
     "name": "stdout",
     "output_type": "stream",
     "text": [
      "False\n"
     ]
    }
   ],
   "source": [
    "# The \"is\" keyword is used to test if two variables refer to the same object.\n",
    "\n",
    "x = [\"apple\", \"banana\", \"cherry\"]\n",
    "\n",
    "y = [\"apple\", \"banana\", \"cherry\"]\n",
    "\n",
    "print(x is y)"
   ]
  },
  {
   "cell_type": "code",
   "execution_count": 292,
   "metadata": {},
   "outputs": [
    {
     "name": "stdout",
     "output_type": "stream",
     "text": [
      "[1, -2, 3]\n"
     ]
    }
   ],
   "source": [
    "L = [1, -2, 3.4]\n",
    "def applyToEach(L, f):\n",
    "    \"\"\"\n",
    "    assumes L is a list, f a function\n",
    "    mutates L by replacing each element, e, of L by f(e).\n",
    "    \"\"\"\n",
    "    for i in range(len(L)):\n",
    "        L[i] = f(L[i])\n",
    "\n",
    "applyToEach(L, int)\n",
    "print(L)"
   ]
  },
  {
   "cell_type": "code",
   "execution_count": 293,
   "metadata": {},
   "outputs": [
    {
     "name": "stdout",
     "output_type": "stream",
     "text": [
      "4\n",
      "4\n",
      "5\n"
     ]
    }
   ],
   "source": [
    "def applyFuns(L, x):\n",
    "    for f in L:\n",
    "        print(f(x))\n",
    "    \n",
    "applyFuns([abs, int, fib], 4)  # Input is a list of functions.\n",
    "                               # abs(4), int(4), fib(4) is printed."
   ]
  },
  {
   "cell_type": "code",
   "execution_count": 294,
   "metadata": {},
   "outputs": [
    {
     "name": "stdout",
     "output_type": "stream",
     "text": [
      "1\n",
      "2\n",
      "3\n",
      "4\n",
      "<class 'map'>\n"
     ]
    }
   ],
   "source": [
    "for element in map(abs, [1, -2, 3, -4]):  # map method calls the function of each element in the list and outputs a list with corresponding outputs.\n",
    "    print(element)\n",
    "    \n",
    "print(type(map(abs, [1, -2, 3, -4])))  # It is a map type object."
   ]
  },
  {
   "cell_type": "code",
   "execution_count": 295,
   "metadata": {},
   "outputs": [
    {
     "name": "stdout",
     "output_type": "stream",
     "text": [
      "1\n",
      "28\n",
      "9\n"
     ]
    }
   ],
   "source": [
    "L1 = [1, 28, 36]\n",
    "L2 = [2, 57, 9]\n",
    "for element in map(min, L1, L2):\n",
    "    print(element)\n",
    "\n",
    "# Here map method in this for loop first checks the [0]'th elementh in each list \n",
    "# and applies the min function to both of them. returns min(L1[0], L2[0]). \n",
    "# Then returns min(L1[1], L2[1]) and so on and so on."
   ]
  },
  {
   "cell_type": "code",
   "execution_count": 296,
   "metadata": {},
   "outputs": [
    {
     "name": "stdout",
     "output_type": "stream",
     "text": [
      "1\n",
      "28\n",
      "9\n",
      "<map object at 0x7f87105295a0>\n"
     ]
    }
   ],
   "source": [
    "a, b, c = map(min, L1, L2)  # With multiple assignment:\n",
    "print(a)\n",
    "print(b)\n",
    "print(c)\n",
    "print(map(min, L1, L2))"
   ]
  },
  {
   "cell_type": "code",
   "execution_count": 297,
   "metadata": {},
   "outputs": [],
   "source": [
    "testList = [1, -4, 8, -9]\n",
    "\n",
    "def applyToEach(L, f):\n",
    "    for i in range(len(L)):\n",
    "        L[i] = f(L[i])\n",
    "    return L\n"
   ]
  },
  {
   "cell_type": "code",
   "execution_count": 298,
   "metadata": {},
   "outputs": [
    {
     "name": "stdout",
     "output_type": "stream",
     "text": [
      "[1, 4, 8, 9]\n"
     ]
    }
   ],
   "source": [
    "testList = [1, -4, 8, -9]\n",
    "applyToEach(testList, abs)\n",
    "print(testList)"
   ]
  },
  {
   "cell_type": "code",
   "execution_count": 299,
   "metadata": {},
   "outputs": [
    {
     "name": "stdout",
     "output_type": "stream",
     "text": [
      "[2, -3, 9, -8]\n"
     ]
    }
   ],
   "source": [
    "testList = [1, -4, 8, -9]\n",
    "def plus_1(x):\n",
    "    return x + 1\n",
    "\n",
    "applyToEach(testList, plus_1)\n",
    "print(testList)\n"
   ]
  },
  {
   "cell_type": "code",
   "execution_count": 300,
   "metadata": {},
   "outputs": [
    {
     "name": "stdout",
     "output_type": "stream",
     "text": [
      "[1, 16, 64, 81]\n"
     ]
    }
   ],
   "source": [
    "testList = [1, -4, 8, -9]\n",
    "def square_it(x):\n",
    "    return x ** 2\n",
    "\n",
    "applyToEach(testList, square_it)\n",
    "print(testList)"
   ]
  },
  {
   "cell_type": "code",
   "execution_count": 301,
   "metadata": {},
   "outputs": [],
   "source": [
    "# DICTIONARIES"
   ]
  },
  {
   "cell_type": "code",
   "execution_count": 302,
   "metadata": {},
   "outputs": [
    {
     "data": {
      "text/plain": [
       "'A+'"
      ]
     },
     "execution_count": 302,
     "metadata": {},
     "output_type": "execute_result"
    }
   ],
   "source": [
    "# -*- coding: utf-8 -*-\n",
    "\"\"\"\n",
    "Created on Wed Jun  8 19:26:05 2016\n",
    "\n",
    "@author: ericgrimson\n",
    "\"\"\"\n",
    "\n",
    "grades = {'Ana':'B', 'John':'A+', 'Denise':'A', 'Katy':'A'}\n",
    "\n",
    "grades[\"John\"]"
   ]
  },
  {
   "cell_type": "code",
   "execution_count": 303,
   "metadata": {},
   "outputs": [],
   "source": [
    "# grades[\"Sylvan\"]  # raises error."
   ]
  },
  {
   "cell_type": "code",
   "execution_count": 304,
   "metadata": {},
   "outputs": [
    {
     "name": "stdout",
     "output_type": "stream",
     "text": [
      "A\n",
      "{'Ana': 'B', 'John': 'A+', 'Denise': 'A', 'Katy': 'A', 'Sylvan': 'A'}\n"
     ]
    }
   ],
   "source": [
    "grades[\"Sylvan\"] = \"A\"  # we create a new key:value pair.\n",
    "\n",
    "print(grades[\"Sylvan\"])  # no error now.\n",
    "print(grades)"
   ]
  },
  {
   "cell_type": "code",
   "execution_count": 305,
   "metadata": {},
   "outputs": [
    {
     "name": "stdout",
     "output_type": "stream",
     "text": [
      "True\n",
      "False\n"
     ]
    }
   ],
   "source": [
    "print(\"John\" in grades)  # True\n",
    "print(\"Daniel\" in grades)  # False"
   ]
  },
  {
   "cell_type": "code",
   "execution_count": 306,
   "metadata": {},
   "outputs": [
    {
     "name": "stdout",
     "output_type": "stream",
     "text": [
      "{'John': 'A+', 'Denise': 'A', 'Katy': 'A', 'Sylvan': 'A'}\n"
     ]
    }
   ],
   "source": [
    "# Delete an entry :\n",
    "\n",
    "del(grades[\"Ana\"])\n",
    "print(grades)  # Ana's entry is gone."
   ]
  },
  {
   "cell_type": "code",
   "execution_count": 307,
   "metadata": {},
   "outputs": [
    {
     "name": "stdout",
     "output_type": "stream",
     "text": [
      "John\n",
      "Denise\n",
      "Katy\n",
      "Sylvan\n"
     ]
    }
   ],
   "source": [
    "for i in grades:\n",
    "    print(i)"
   ]
  },
  {
   "cell_type": "code",
   "execution_count": 308,
   "metadata": {},
   "outputs": [
    {
     "name": "stdout",
     "output_type": "stream",
     "text": [
      "John\n",
      "Denise\n",
      "Katy\n",
      "Sylvan\n"
     ]
    }
   ],
   "source": [
    "for key in grades.keys():\n",
    "    print(key)"
   ]
  },
  {
   "cell_type": "code",
   "execution_count": null,
   "metadata": {},
   "outputs": [],
   "source": [
    "# Values can be any type (immutable and mutable), can be duplicates, can be lists or even other dictionaries !\n",
    "# But, keys must be unique and of immutable type (int, float, string, tuple, bool). Careful with float type as a key.\n",
    "# NO order to keys and values !"
   ]
  },
  {
   "cell_type": "code",
   "execution_count": 309,
   "metadata": {},
   "outputs": [
    {
     "name": "stdout",
     "output_type": "stream",
     "text": [
      "[1, 4, 3, 1]\n"
     ]
    }
   ],
   "source": [
    "# Lambda expression:\n",
    "\n",
    "L = []\n",
    "for i in map(lambda x,y: x**y, [1, 2, 3, 4], [3, 2, 1, 0]):\n",
    "    L.append(i)\n",
    "print(L)"
   ]
  },
  {
   "cell_type": "code",
   "execution_count": 316,
   "metadata": {},
   "outputs": [
    {
     "name": "stdout",
     "output_type": "stream",
     "text": [
      "dict_keys(['a', 'b', 'c'])\n",
      "dict_values(['aardvark', 'baboon', 'coati'])\n"
     ]
    }
   ],
   "source": [
    "animals = {'a': 'aardvark', 'b': 'baboon', 'c': 'coati'}\n",
    "x = animals.keys()\n",
    "y = animals.values()\n",
    "\n",
    "print(x)\n",
    "print(y)"
   ]
  },
  {
   "cell_type": "code",
   "execution_count": null,
   "metadata": {},
   "outputs": [],
   "source": [
    "{'a': 'anteater', 'c': 'coati', 'd': 'donkey'}"
   ]
  }
 ],
 "metadata": {
  "kernelspec": {
   "display_name": "Python 3",
   "language": "python",
   "name": "python3"
  },
  "language_info": {
   "codemirror_mode": {
    "name": "ipython",
    "version": 3
   },
   "file_extension": ".py",
   "mimetype": "text/x-python",
   "name": "python",
   "nbconvert_exporter": "python",
   "pygments_lexer": "ipython3",
   "version": "3.10.5"
  },
  "orig_nbformat": 4
 },
 "nbformat": 4,
 "nbformat_minor": 2
}
