{
 "cells": [
  {
   "cell_type": "code",
   "execution_count": 145,
   "metadata": {},
   "outputs": [],
   "source": [
    "def count7(N):\n",
    "    '''\n",
    "    N: a non-negative integer\n",
    "    '''\n",
    "    if N == 0:\n",
    "        return 0\n",
    "    if N%10 == 7:\n",
    "        return count7(N//10) + 1\n",
    "    else:\n",
    "        return count7(N//10)\n",
    "    \n",
    "def testCount7():\n",
    "    count7_tuple = (0, 17, 717, 5757)\n",
    "    for num in count7_tuple:\n",
    "        print(count7(num))\n",
    "    "
   ]
  },
  {
   "cell_type": "code",
   "execution_count": 146,
   "metadata": {},
   "outputs": [
    {
     "name": "stdout",
     "output_type": "stream",
     "text": [
      "0\n",
      "1\n",
      "2\n",
      "2\n"
     ]
    }
   ],
   "source": [
    "testCount7()"
   ]
  },
  {
   "cell_type": "code",
   "execution_count": 147,
   "metadata": {},
   "outputs": [],
   "source": [
    "def dotProduct(listA, listB):\n",
    "    '''\n",
    "    listA: a list of numbers\n",
    "    listB: a list of numbers of the same length as listA\n",
    "    '''\n",
    "    dot_product = 0\n",
    "    for idx in range(0, len(listA)):\n",
    "        dot_product = dot_product + listA[idx] * listB[idx]\n",
    "    return dot_product"
   ]
  },
  {
   "cell_type": "code",
   "execution_count": 148,
   "metadata": {},
   "outputs": [
    {
     "data": {
      "text/plain": [
       "25"
      ]
     },
     "execution_count": 148,
     "metadata": {},
     "output_type": "execute_result"
    }
   ],
   "source": [
    "A = [1, 2, 3]\n",
    "B = [5, 7, 2]\n",
    "\n",
    "dotProduct(A, B)"
   ]
  },
  {
   "cell_type": "code",
   "execution_count": 149,
   "metadata": {},
   "outputs": [],
   "source": [
    "# If d = {4:True, 2:True, 0:True} then dict_invert(d) returns {True: [0, 2, 4]}\n",
    "\n",
    "def dict_invert(d):\n",
    "    '''\n",
    "    d: dict\n",
    "    Returns an inverted dictionary according to the instructions above\n",
    "    '''\n",
    "    inverse_d = {}\n",
    "    for key, value in d.items():\n",
    "        try:\n",
    "            inverse_d[value].append(key)\n",
    "            inverse_d[value].sort()\n",
    "        except:\n",
    "            inverse_d[value] = [key]\n",
    "    return inverse_d"
   ]
  },
  {
   "cell_type": "code",
   "execution_count": 150,
   "metadata": {},
   "outputs": [
    {
     "data": {
      "text/plain": [
       "{True: [0, 2, 4]}"
      ]
     },
     "execution_count": 150,
     "metadata": {},
     "output_type": "execute_result"
    }
   ],
   "source": [
    "d = {4:True, 2:True, 0:True}\n",
    "dict_invert(d)"
   ]
  },
  {
   "cell_type": "code",
   "execution_count": 151,
   "metadata": {},
   "outputs": [],
   "source": [
    "\"\"\"\n",
    "max_val((5, (1,2), [[1],[2]])) returns 5.\n",
    "max_val((5, (1,2), [[1],[9]])) returns 9.\n",
    "\n",
    "(1, 2) return 2\n",
    "(1, (2, 3)) returns 3\n",
    "\"\"\"\n",
    "import math\n",
    "def max_val(t): \n",
    "    \"\"\" \n",
    "    t, tuple or list\n",
    "    Each element of t is either an int, a tuple, or a list\n",
    "    No tuple or list is empty\n",
    "    Returns the maximum int in t or (recursively) in an element of t\n",
    "    \"\"\"\n",
    "    maximum = -math.inf\n",
    "    for element in t:\n",
    "        if type(element) == int:\n",
    "            if element > maximum:\n",
    "                maximum = element\n",
    "        else:\n",
    "            maximum = max(max_val(element), maximum)\n",
    "    return maximum"
   ]
  },
  {
   "cell_type": "code",
   "execution_count": 152,
   "metadata": {},
   "outputs": [
    {
     "name": "stdout",
     "output_type": "stream",
     "text": [
      "5\n",
      "9\n",
      "2\n",
      "3\n",
      "7\n"
     ]
    }
   ],
   "source": [
    "maxval_testtuple = ((5, (1,2), [[1],[2]]), (5, (1,2), [[1],[9]]), [2], (3,), [1, 2, (3, 4), 5, [6, 7], []])\n",
    "def testMaxVal():\n",
    "    for element in maxval_testtuple:\n",
    "        print(max_val(element))\n",
    "testMaxVal()"
   ]
  },
  {
   "cell_type": "code",
   "execution_count": 170,
   "metadata": {},
   "outputs": [],
   "source": [
    "def applyF_filterG(L, f, g):\n",
    "    \"\"\"\n",
    "    Assumes L is a list of integers\n",
    "    Assume functions f and g are defined for you. \n",
    "    f takes in an integer, applies a function, returns another integer \n",
    "    g takes in an integer, applies a Boolean function, \n",
    "        returns either True or False\n",
    "    Mutates L such that, for each element i originally in L, L contains  \n",
    "        i if g(f(i)) returns True, and no other elements\n",
    "    Returns the largest element in the mutated L or -1 if the list is empty\n",
    "    \"\"\"\n",
    "    for i in L[:]:\n",
    "        if not g(f(i)):\n",
    "            L.remove(i)\n",
    "    if L == []:\n",
    "        return -1\n",
    "    else:\n",
    "        return max(L)"
   ]
  },
  {
   "cell_type": "code",
   "execution_count": 171,
   "metadata": {},
   "outputs": [
    {
     "name": "stdout",
     "output_type": "stream",
     "text": [
      "-1\n",
      "-1\n",
      "-1\n",
      "-1\n",
      "-1\n",
      "5\n",
      "100\n",
      "7\n",
      "15\n"
     ]
    }
   ],
   "source": [
    "def f(i):\n",
    "    return i + 2\n",
    "def g(i):\n",
    "    return i > 5\n",
    "\n",
    "testtuple = ([], [1, 2, 3], [0], [-1], [-2, -1, 1, -3], [5], [5, 6, -10, 100], [3, 5, 7], [1, 10, 15, 2])\n",
    "def testApplyffilterg():\n",
    "    for element in testtuple:\n",
    "        print(applyF_filterG(element, f, g))\n",
    "\n",
    "testApplyffilterg()"
   ]
  },
  {
   "cell_type": "code",
   "execution_count": null,
   "metadata": {},
   "outputs": [],
   "source": []
  }
 ],
 "metadata": {
  "kernelspec": {
   "display_name": ".env",
   "language": "python",
   "name": ".env"
  },
  "language_info": {
   "codemirror_mode": {
    "name": "ipython",
    "version": 3
   },
   "file_extension": ".py",
   "mimetype": "text/x-python",
   "name": "python",
   "nbconvert_exporter": "python",
   "pygments_lexer": "ipython3",
   "version": "3.10.5"
  },
  "orig_nbformat": 4
 },
 "nbformat": 4,
 "nbformat_minor": 2
}
