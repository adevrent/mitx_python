{
 "cells": [
  {
   "cell_type": "code",
   "execution_count": 2,
   "metadata": {},
   "outputs": [
    {
     "data": {
      "text/plain": [
       "type"
      ]
     },
     "execution_count": 2,
     "metadata": {},
     "output_type": "execute_result"
    }
   ],
   "source": [
    "class myClass(object):\n",
    "    pass\n",
    "\n",
    "type(myClass)"
   ]
  },
  {
   "cell_type": "code",
   "execution_count": null,
   "metadata": {},
   "outputs": [],
   "source": [
    "def f(n):\n",
    "    def g(m):\n",
    "        m = 0\n",
    "        for i in range(m):\n",
    "            print(m)\n",
    "    for i in range(n):\n",
    "        g(n)"
   ]
  },
  {
   "cell_type": "code",
   "execution_count": 13,
   "metadata": {},
   "outputs": [],
   "source": [
    "def sum_digits(s):\n",
    "    \"\"\" assumes s a string\n",
    "        Returns an int that is the sum of all of the digits in s.\n",
    "          If there are no digits in s it raises a ValueError exception. \"\"\"\n",
    "    sum = 0\n",
    "    digit_count = 0\n",
    "    for char in s:\n",
    "        if char in \"0123456789\":\n",
    "            sum += int(char)\n",
    "            digit_count += 1\n",
    "    if digit_count == 0:\n",
    "        raise ValueError\n",
    "    return sum"
   ]
  },
  {
   "cell_type": "code",
   "execution_count": 21,
   "metadata": {},
   "outputs": [
    {
     "data": {
      "text/plain": [
       "12"
      ]
     },
     "execution_count": 21,
     "metadata": {},
     "output_type": "execute_result"
    }
   ],
   "source": [
    "sum_digits(\"a;35d4\")"
   ]
  },
  {
   "cell_type": "code",
   "execution_count": 35,
   "metadata": {},
   "outputs": [],
   "source": [
    "def is_list_permutation(L1, L2):\n",
    "    '''\n",
    "    L1 and L2: lists containing integers and strings\n",
    "    Returns False if L1 and L2 are not permutations of each other. \n",
    "            If they are permutations of each other, returns a \n",
    "            tuple of 3 items in this order: \n",
    "            the element occurring most, how many times it occurs, and its type\n",
    "    '''\n",
    "    if len(L1) == 0 and len(L2) == 0:\n",
    "        return (None, None, None)\n",
    "    count_dict_L1 = {}\n",
    "    count_dict_L2 = {}\n",
    "    if len(L1) == len(L2):\n",
    "        for element_L1 in L1:\n",
    "            count_dict_L1[element_L1] = count_dict_L1.get(element_L1, 0) + 1\n",
    "        for element_L2 in L2:\n",
    "            count_dict_L2[element_L2] = count_dict_L2.get(element_L2, 0) + 1\n",
    "        for key in count_dict_L1:\n",
    "            if count_dict_L1[key] != count_dict_L2[key]:\n",
    "                return False\n",
    "        max_occurance = max(count_dict_L1.values())\n",
    "        max_key = max(count_dict_L1, key = count_dict_L1.get)\n",
    "        return (max_key, max_occurance, type(max_key))\n",
    "    return False"
   ]
  },
  {
   "cell_type": "code",
   "execution_count": 36,
   "metadata": {},
   "outputs": [
    {
     "data": {
      "text/plain": [
       "(1, 3, int)"
      ]
     },
     "execution_count": 36,
     "metadata": {},
     "output_type": "execute_result"
    }
   ],
   "source": [
    "L1 = [1, 'b', 1, 'c', 'c', 1]\n",
    "L2 = ['c', 1, 'b', 1, 1, 'c']\n",
    "is_list_permutation(L1, L2)"
   ]
  },
  {
   "cell_type": "code",
   "execution_count": 37,
   "metadata": {},
   "outputs": [
    {
     "data": {
      "text/plain": [
       "(None, None, None)"
      ]
     },
     "execution_count": 37,
     "metadata": {},
     "output_type": "execute_result"
    }
   ],
   "source": [
    "is_list_permutation([], [])"
   ]
  },
  {
   "cell_type": "code",
   "execution_count": 44,
   "metadata": {},
   "outputs": [],
   "source": [
    "def cipher(map_from, map_to, code):\n",
    "    \"\"\" map_from, map_to: strings where each contain \n",
    "                          N unique lowercase letters. \n",
    "        code: string (assume it only contains letters also in map_from)\n",
    "        \n",
    "        *Returns a tuple of (key_code, decoded).\n",
    "        \n",
    "        key_code is a dictionary with N keys mapping str to str where \n",
    "        each key is a letter in map_from at index i and the corresponding \n",
    "        value is the letter in map_to at index i. \n",
    "        decoded is a string that contains the decoded version \n",
    "        of code using the key_code mapping. \"\"\"\n",
    "    assert len(map_from) == len(map_to)\n",
    "    \n",
    "    key_code = {}\n",
    "    i = 0\n",
    "    for char in map_from:\n",
    "        key_code[char] = map_to[i]\n",
    "        i += 1\n",
    "    \n",
    "    decoded_list = []\n",
    "    for letter in code:\n",
    "        decoded_list.append(key_code[letter])\n",
    "    \n",
    "    decoded = \"\"\n",
    "    for element in decoded_list:\n",
    "        decoded += element\n",
    "    \n",
    "    return (key_code, decoded)"
   ]
  },
  {
   "cell_type": "code",
   "execution_count": 45,
   "metadata": {},
   "outputs": [
    {
     "data": {
      "text/plain": [
       "({'a': 'd', 'b': 'c', 'c': 'b', 'd': 'a'}, 'adc')"
      ]
     },
     "execution_count": 45,
     "metadata": {},
     "output_type": "execute_result"
    }
   ],
   "source": [
    "cipher(\"abcd\", \"dcba\", \"dab\")"
   ]
  },
  {
   "cell_type": "code",
   "execution_count": 86,
   "metadata": {},
   "outputs": [],
   "source": [
    "class Person(object):     \n",
    "    def __init__(self, name):         \n",
    "        self.name = name     \n",
    "    def say(self, stuff):         \n",
    "        return self.name + ' says: ' + stuff     \n",
    "    def __str__(self):         \n",
    "        return self.name  \n",
    "\n",
    "class Lecturer(Person):     \n",
    "    def lecture(self, stuff):         \n",
    "        return 'I believe that ' + Person.say(self, stuff)  \n",
    "\n",
    "class Professor(Lecturer): \n",
    "    def say(self, stuff): \n",
    "        return self.name + ' says: ' + self.lecture(stuff)\n",
    "\n",
    "class ArrogantProfessor(Professor): \n",
    "    def say(self, stuff): \n",
    "        return self.name + \" says: It is obvious that \" + Person.say(self, stuff)\n",
    "    def lecture(self, stuff):\n",
    "        return \"It is obvious that \" + Person.say(self, stuff)"
   ]
  },
  {
   "cell_type": "code",
   "execution_count": 87,
   "metadata": {},
   "outputs": [
    {
     "name": "stdout",
     "output_type": "stream",
     "text": [
      "eric says: the sky is blue\n",
      "eric says: the sky is blue\n",
      "I believe that eric says: the sky is blue\n",
      "eric says: I believe that eric says: the sky is blue\n",
      "I believe that eric says: the sky is blue\n"
     ]
    }
   ],
   "source": [
    "e = Person('eric') \n",
    "le = Lecturer('eric') \n",
    "pe = Professor('eric') \n",
    "ae = ArrogantProfessor('eric')\n",
    "\n",
    "print(e.say('the sky is blue'))\n",
    "print(le.say('the sky is blue'))\n",
    "print(le.lecture('the sky is blue'))\n",
    "print(pe.say('the sky is blue'))\n",
    "print(pe.lecture('the sky is blue'))"
   ]
  },
  {
   "cell_type": "code",
   "execution_count": 88,
   "metadata": {},
   "outputs": [
    {
     "name": "stdout",
     "output_type": "stream",
     "text": [
      "eric says: It is obvious that eric says: the sky is blue\n"
     ]
    }
   ],
   "source": [
    "print(ae.say('the sky is blue'))"
   ]
  },
  {
   "cell_type": "code",
   "execution_count": 89,
   "metadata": {},
   "outputs": [
    {
     "name": "stdout",
     "output_type": "stream",
     "text": [
      "It is obvious that eric says: the sky is blue\n"
     ]
    }
   ],
   "source": [
    "print(ae.lecture('the sky is blue'))"
   ]
  },
  {
   "cell_type": "code",
   "execution_count": 125,
   "metadata": {},
   "outputs": [],
   "source": [
    "class myDict(object):\n",
    "    \"\"\" Implements a dictionary without using a dictionary \"\"\"\n",
    "    def __init__(self):\n",
    "        \"\"\" initialization of your representation \"\"\"\n",
    "        self._data = []\n",
    "        \n",
    "    def assign(self, k, v):\n",
    "        \"\"\" k (the key) and v (the value), immutable objects  \"\"\"\n",
    "        for element in self._data:\n",
    "            if k == element[0]:\n",
    "                element[1] = v\n",
    "                return None\n",
    "        self._data.append([k, v])\n",
    "        \n",
    "    def getval(self, k):\n",
    "        \"\"\" k, immutable object  \"\"\"\n",
    "        for element in self._data[:]:\n",
    "            if element[0] == k:\n",
    "                return element[1]\n",
    "        raise KeyError(str(k) + \" is not a key.\")\n",
    "        \n",
    "    def delete(self, k):\n",
    "        \"\"\" k, immutable object \"\"\"   \n",
    "        for element in self._data[:]:\n",
    "            if element[0] == k:\n",
    "                self._data.remove(element)\n",
    "                return None\n",
    "        raise KeyError(str(k) + \" is not a key.\")"
   ]
  },
  {
   "cell_type": "code",
   "execution_count": 126,
   "metadata": {},
   "outputs": [
    {
     "name": "stdout",
     "output_type": "stream",
     "text": [
      "2\n"
     ]
    }
   ],
   "source": [
    "md = myDict()\n",
    "md.assign(1, 2)\n",
    "print(md.getval(1))"
   ]
  },
  {
   "cell_type": "code",
   "execution_count": 127,
   "metadata": {},
   "outputs": [],
   "source": [
    "d1 = myDict()\n",
    "d1.assign(1, 2)\n",
    "d1.delete(1)"
   ]
  },
  {
   "cell_type": "code",
   "execution_count": 128,
   "metadata": {},
   "outputs": [
    {
     "data": {
      "text/plain": [
       "type"
      ]
     },
     "execution_count": 128,
     "metadata": {},
     "output_type": "execute_result"
    }
   ],
   "source": [
    "type(myDict)"
   ]
  }
 ],
 "metadata": {
  "kernelspec": {
   "display_name": "Python 3",
   "language": "python",
   "name": "python3"
  },
  "language_info": {
   "codemirror_mode": {
    "name": "ipython",
    "version": 3
   },
   "file_extension": ".py",
   "mimetype": "text/x-python",
   "name": "python",
   "nbconvert_exporter": "python",
   "pygments_lexer": "ipython3",
   "version": "3.10.5"
  },
  "orig_nbformat": 4
 },
 "nbformat": 4,
 "nbformat_minor": 2
}
