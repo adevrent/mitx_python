{
 "cells": [
  {
   "cell_type": "code",
   "execution_count": 37,
   "metadata": {},
   "outputs": [],
   "source": [
    "\"\"\"\n",
    "Write a program to calculate the credit card balance after one year \n",
    "if a person only pays the minimum monthly payment required by the \n",
    "credit card company each month.\n",
    "\"\"\"\n",
    "\n",
    "def ccbalance(balance, annualInterestRate, monthlyPaymentRate):\n",
    "    r_monthly = annualInterestRate / 12\n",
    "    for month in range(13):\n",
    "        if month == 0:\n",
    "            print(\"Balance at the beginning of month\", month, \"is\", round(balance, 2))\n",
    "            balance = balance*(1 - monthlyPaymentRate)\n",
    "            #print(\"Balance at the end of month\", month, \"is\", round(balance, 2))\n",
    "        else:\n",
    "            balance = balance*(1 + r_monthly)\n",
    "            print(\"Balance at the beginning of month\", month, \"is\", round(balance, 2))\n",
    "            balance = balance*(1 - monthlyPaymentRate)\n",
    "            #print(\"Balance at the end of month\", month, \"is\", round(balance, 2))\n",
    "    return balance"
   ]
  },
  {
   "cell_type": "code",
   "execution_count": 52,
   "metadata": {},
   "outputs": [
    {
     "name": "stdout",
     "output_type": "stream",
     "text": [
      "Remaining balance: 361.61\n"
     ]
    }
   ],
   "source": [
    "\"\"\"\n",
    "Write a program to calculate the credit card balance after one year \n",
    "if a person only pays the minimum monthly payment required by the \n",
    "credit card company each month.\n",
    "\"\"\"\n",
    "\n",
    "\n",
    "r_monthly = annualInterestRate / 12\n",
    "for month in range(13):\n",
    "    if month == 0:\n",
    "        balance = balance*(1 - monthlyPaymentRate)\n",
    "        #print(\"Balance at the end of month\", month - 1, \"is\", round(balance, 2))\n",
    "    elif month == 12:\n",
    "        balance = balance*(1 + r_monthly)\n",
    "        #print(\"Month\", month, \"remaining balance:\", round(balance, 2))\n",
    "        break\n",
    "    else:\n",
    "        balance = balance*(1 + r_monthly)\n",
    "        #print(\"Month\", month, \"remaining balance:\", round(balance, 2))\n",
    "        balance = balance*(1 - monthlyPaymentRate)\n",
    "        #print(\"Balance at the end of month\", month - 1, \"is\", round(balance, 2))\n",
    "print(\"Remaining balance:\", round(balance, 2))"
   ]
  },
  {
   "cell_type": "code",
   "execution_count": null,
   "metadata": {},
   "outputs": [],
   "source": [
    "\"\"\"\n",
    "Now write a program that calculates the minimum fixed monthly payment needed in order \n",
    "pay off a credit card balance within 12 months. By a fixed monthly payment, we mean a \n",
    "single number which does not change each month, but instead is a constant amount that \n",
    "will be paid each month.\n",
    "\"\"\"\n",
    "#balance = 3926\n",
    "#annualInterestRate = 0.2\n",
    "\n",
    "r_monthly = annualInterestRate / 12\n",
    "guess = 0\n",
    "bal = balance\n",
    "while bal > 0:\n",
    "    bal = balance\n",
    "    guess += 10\n",
    "    #print(\"Guess for monthly payment is\", round(guess, 2))\n",
    "    for month in range(12):\n",
    "        if month == 11:\n",
    "            bal = bal - guess\n",
    "            #print(\"Balance at the start of the month\", month + 1, \"=\", round(bal, 2))\n",
    "        else:\n",
    "            bal = bal - guess\n",
    "            bal = bal*(1 + r_monthly)\n",
    "            #print(\"Balance at the start of the month\", month + 1, \"=\", round(bal, 2))\n",
    "print(\"Lowest Payment:\", guess)"
   ]
  },
  {
   "cell_type": "code",
   "execution_count": 102,
   "metadata": {},
   "outputs": [
    {
     "name": "stdout",
     "output_type": "stream",
     "text": [
      "Lowest Payment: 90325.03\n"
     ]
    }
   ],
   "source": [
    "\"\"\"\n",
    "Well then, how can we calculate a more accurate fixed monthly payment than we \n",
    "did in Problem 2 without running into the problem of slow code? We can make this \n",
    "program run faster using a technique introduced in lecture - bisection search!\n",
    "\"\"\"\n",
    "#balance = 999999\n",
    "#annualInterestRate = 0.18\n",
    "\n",
    "r_monthly = annualInterestRate / 12\n",
    "epsilon = 0.01\n",
    "\n",
    "low = balance / 12\n",
    "high = balance*(1 + r_monthly)**12\n",
    "guess = (low + high) / 2\n",
    "bal = balance\n",
    "#print(\"Starting low =\", low)\n",
    "#print(\"Starting high =\", high)\n",
    "while True:\n",
    "    #print(\"Guess for monthly payment is\", round(guess, 2))\n",
    "    bal = balance\n",
    "    for month in range(12):\n",
    "        if month == 11:\n",
    "            bal = bal - guess\n",
    "            #print(\"Balance at the start of the month\", month + 1, \"=\", round(bal, 2))\n",
    "        else:\n",
    "            bal = bal - guess\n",
    "            bal = bal*(1 + r_monthly)\n",
    "            #print(\"Balance at the start of the month\", month + 1, \"=\", round(bal, 2))\n",
    "    if bal < 0:\n",
    "        if abs(bal) <= epsilon:\n",
    "            break\n",
    "        else:\n",
    "            high = guess\n",
    "            guess = (low + high) / 2\n",
    "    else:\n",
    "        low = guess\n",
    "        guess = (low + high) / 2\n",
    "    \n",
    "print(\"Lowest Payment:\", round(guess, 2))"
   ]
  }
 ],
 "metadata": {
  "kernelspec": {
   "display_name": ".env",
   "language": "python",
   "name": ".env"
  },
  "language_info": {
   "codemirror_mode": {
    "name": "ipython",
    "version": 3
   },
   "file_extension": ".py",
   "mimetype": "text/x-python",
   "name": "python",
   "nbconvert_exporter": "python",
   "pygments_lexer": "ipython3",
   "version": "3.10.5"
  },
  "orig_nbformat": 4
 },
 "nbformat": 4,
 "nbformat_minor": 2
}
