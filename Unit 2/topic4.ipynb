{
 "cells": [
  {
   "cell_type": "code",
   "execution_count": 187,
   "metadata": {},
   "outputs": [
    {
     "data": {
      "text/plain": [
       "bool"
      ]
     },
     "execution_count": 187,
     "metadata": {},
     "output_type": "execute_result"
    }
   ],
   "source": [
    "'''\n",
    "Write a function that accepts two strings as arguments and returns True if either string occurs anywhere in the other, and False otherwise.\n",
    "'''\n",
    "\n",
    "def contains_other(x, y):\n",
    "    if x in y or y in x:\n",
    "        return True\n",
    "    else:\n",
    "        return False\n",
    "\n",
    "contains_other('a56', '3')\n",
    "type(contains_other('a56', '3'))\n",
    "\n",
    "# Observe that value of the function is a boolean because of the \"return\" statements."
   ]
  },
  {
   "cell_type": "code",
   "execution_count": 188,
   "metadata": {},
   "outputs": [
    {
     "name": "stdout",
     "output_type": "stream",
     "text": [
      "Olga Puchmajerova\n",
      "Olga Puchmajerova\n"
     ]
    },
    {
     "data": {
      "text/plain": [
       "NoneType"
      ]
     },
     "execution_count": 188,
     "metadata": {},
     "output_type": "execute_result"
    }
   ],
   "source": [
    "def printName(firstName, lastName, reverse):\n",
    "    if reverse:\n",
    "        print(lastName + ', ' + firstName)\n",
    "    else:\n",
    "        print(firstName, lastName)\n",
    "\n",
    "printName('Olga', 'Puchmajerova', False)\n",
    "type(printName('Olga', 'Puchmajerova', False))\n",
    "\n",
    "# Observe that function has no value (and its type is therefore NoneType) because there are no \"return\" statements.\n",
    "# Here we only use function's so-called \"side effect\" that is printing strings."
   ]
  },
  {
   "cell_type": "code",
   "execution_count": 189,
   "metadata": {},
   "outputs": [],
   "source": [
    "# printName('Olga', lastName = 'Puchmajerova', False)\n",
    "# It is not legal to follow a keyword argument with a non-keyword argument. Therefore this code gives the error:\n",
    "# SyntaxError: positional argument follows keyword argument"
   ]
  },
  {
   "cell_type": "code",
   "execution_count": 190,
   "metadata": {},
   "outputs": [
    {
     "name": "stdout",
     "output_type": "stream",
     "text": [
      "Puchmajerova, Olga\n",
      "Puchmajerova, Olga\n"
     ]
    }
   ],
   "source": [
    "# Default values allow programmers to call a function with fewer than the specified number of arguments:\n",
    "\n",
    "# printName('Olga', 'Puchmajerova') > textbook seems to be wrong on this one at current Python version. This gives \n",
    "# TypeError: printName() missing 1 required positional argument: 'reverse'\n",
    "\n",
    "printName('Olga', 'Puchmajerova', True)\n",
    "printName('Olga', 'Puchmajerova', reverse = True)\n",
    "# The last two invocations of printName are semantically equivalent."
   ]
  },
  {
   "cell_type": "code",
   "execution_count": 191,
   "metadata": {},
   "outputs": [
    {
     "name": "stdout",
     "output_type": "stream",
     "text": [
      "x = 4\n",
      "z = 4\n",
      "x=  abc\n",
      "x = 4\n",
      "x = 3\n",
      "z = <function f.<locals>.g at 0x7fa9c53cf640>\n",
      "x=  abc\n"
     ]
    }
   ],
   "source": [
    "def f(x):\n",
    "    def g():\n",
    "        x = 'abc'\n",
    "        print(\"x= \", x)\n",
    "    def h():\n",
    "        z = x\n",
    "        print(\"z =\", z)\n",
    "    x = x + 1\n",
    "    print(\"x =\", x)\n",
    "    h()\n",
    "    g()\n",
    "    print(\"x =\", x)\n",
    "    return g\n",
    "\n",
    "# Real action starts after here:\n",
    "x = 3\n",
    "z = f(x)  # assignment operation invokes f(x). at the time of invokation x is equal to 3. so f(3) is invoked and after that z is bound to f(3).\n",
    "print(\"x =\", x)\n",
    "print(\"z =\", z)\n",
    "z()"
   ]
  },
  {
   "cell_type": "code",
   "execution_count": 192,
   "metadata": {},
   "outputs": [
    {
     "data": {
      "text/plain": [
       "\"\\nMy print guess:\\n\\nx = 4\\nz = 4\\nx = 'abc'\\nx = 4\\nx = 3\\nz = function at 0x12345\\nx = 'abc'\\n\""
      ]
     },
     "execution_count": 192,
     "metadata": {},
     "output_type": "execute_result"
    }
   ],
   "source": [
    "'''\n",
    "My print guess:\n",
    "\n",
    "x = 4\n",
    "z = 4\n",
    "x = 'abc'\n",
    "x = 4\n",
    "x = 3\n",
    "z = function at 0x12345\n",
    "x = 'abc'\n",
    "'''"
   ]
  },
  {
   "cell_type": "code",
   "execution_count": 193,
   "metadata": {},
   "outputs": [],
   "source": [
    "# Let's split the code and observe.\n",
    "\n",
    "def f(x):\n",
    "    def g():\n",
    "        x = 'abc'\n",
    "        print(\"x =\", x)  # This is NOT printed when f() is invoked. (it will print only when g() is invoked.)\n",
    "    def h():\n",
    "        z = x  # z is assigned to the x which is in f()'s stack frame which is equal to 4.\n",
    "        print(\"z =\", z)  # This is NOT printed when f() is invoked. (it will print only when g() is invoked.)\n",
    "    x = x + 1  # Here the x which is in f()'s stack frame is bound to 4. We call this local x.\n",
    "    print(\"x =\", x)  # This is printed when f() is invoked. Here the local x (which is in f()'s stack frame) is equal to 4. So it prints \"4\".\n",
    "    h()\n",
    "    g()\n",
    "    print(\"x =\", x)\n",
    "    return g\n",
    "\n",
    "# No prints happening in the def f(x) phase."
   ]
  },
  {
   "cell_type": "code",
   "execution_count": 194,
   "metadata": {},
   "outputs": [
    {
     "name": "stdout",
     "output_type": "stream",
     "text": [
      "x = 4\n",
      "z = 4\n",
      "x = abc\n",
      "x = 4\n",
      "x = 3\n",
      "z = <function f.<locals>.g at 0x7fa9c53ce290>\n",
      "x = abc\n"
     ]
    }
   ],
   "source": [
    "x = 3\n",
    "z = f(x)\n",
    "print(\"x =\", x)\n",
    "print(\"z =\", z)\n",
    "z()\n",
    "\n",
    "# Prints inside f() (including nested ones) happen when f() is INVOKED\n",
    "# by assigning z = f(x)"
   ]
  },
  {
   "cell_type": "code",
   "execution_count": 195,
   "metadata": {},
   "outputs": [],
   "source": [
    "# 4.2 Specifications:"
   ]
  },
  {
   "cell_type": "code",
   "execution_count": 196,
   "metadata": {},
   "outputs": [],
   "source": [
    "def findRoot(x, power, epsilon):\n",
    "    '''\n",
    "    Assumes x and epsilon int or float, power an int, epsilon > 0 & power >= 1\n",
    "    Returns float y such that y**power is within epsilon of x.\n",
    "    If such a float does not exist, it returns None.\n",
    "    '''\n",
    "    if x < 0 and power%2 == 0:  # Negative number has no even-powered roots.\n",
    "        return None\n",
    "    low = min(-1.0, x)\n",
    "    high = max(1.0, x)\n",
    "    ans = (high + low) / 2.0\n",
    "    while abs(ans**power - x) >= epsilon:\n",
    "        if ans**power < x:\n",
    "            low = ans\n",
    "        else:\n",
    "            high = ans\n",
    "        ans = (high + low) / 2.0\n",
    "    return ans\n",
    "\n",
    "def testFindRoot():\n",
    "    epsilon = 0.0001\n",
    "    for x in [0.25, -0.25, 2, -2, 8, -8]:\n",
    "        for power in range(1, 4):\n",
    "            print(\"Testing x =\", str(x), \"and power =\", power)\n",
    "            result = findRoot(x, power, epsilon)\n",
    "            if result == None:\n",
    "                print(' No root')\n",
    "            else:\n",
    "                print('  ', result**power, '~=', x)\n",
    "    \n",
    "    "
   ]
  },
  {
   "cell_type": "code",
   "execution_count": 197,
   "metadata": {},
   "outputs": [
    {
     "name": "stdout",
     "output_type": "stream",
     "text": [
      "Help on function findRoot in module __main__:\n",
      "\n",
      "findRoot(x, power, epsilon)\n",
      "    Assumes x and epsilon int or float, power an int, epsilon > 0 & power >= 1\n",
      "    Returns float y such that y**power is within epsilon of x.\n",
      "    If such a float does not exist, it returns None.\n",
      "\n"
     ]
    }
   ],
   "source": [
    "help(findRoot)"
   ]
  },
  {
   "cell_type": "code",
   "execution_count": 198,
   "metadata": {},
   "outputs": [
    {
     "name": "stdout",
     "output_type": "stream",
     "text": [
      "Testing x = 0.25 and power = 1\n",
      "   0.25 ~= 0.25\n",
      "Testing x = 0.25 and power = 2\n",
      "   0.25 ~= 0.25\n",
      "Testing x = 0.25 and power = 3\n",
      "   0.24990749079734087 ~= 0.25\n",
      "Testing x = -0.25 and power = 1\n",
      "   -0.25 ~= -0.25\n",
      "Testing x = -0.25 and power = 2\n",
      " No root\n",
      "Testing x = -0.25 and power = 3\n",
      "   -0.24990749079734087 ~= -0.25\n",
      "Testing x = 2 and power = 1\n",
      "   1.999908447265625 ~= 2\n",
      "Testing x = 2 and power = 2\n",
      "   2.0000906325876713 ~= 2\n",
      "Testing x = 2 and power = 3\n",
      "   2.000059155646067 ~= 2\n",
      "Testing x = -2 and power = 1\n",
      "   -1.999908447265625 ~= -2\n",
      "Testing x = -2 and power = 2\n",
      " No root\n",
      "Testing x = -2 and power = 3\n",
      "   -2.000059155646067 ~= -2\n",
      "Testing x = 8 and power = 1\n",
      "   7.999931335449219 ~= 8\n",
      "Testing x = 8 and power = 2\n",
      "   7.99999568007479 ~= 8\n",
      "Testing x = 8 and power = 3\n",
      "   8.000068664747232 ~= 8\n",
      "Testing x = -8 and power = 1\n",
      "   -7.999931335449219 ~= -8\n",
      "Testing x = -8 and power = 2\n",
      " No root\n",
      "Testing x = -8 and power = 3\n",
      "   -8.000068664747232 ~= -8\n"
     ]
    }
   ],
   "source": [
    "testFindRoot()"
   ]
  },
  {
   "cell_type": "code",
   "execution_count": 199,
   "metadata": {},
   "outputs": [],
   "source": [
    "# n is the n'th number in fibonacci sequence we'd like to know\n",
    "def fib(n):\n",
    "    \"\"\"\n",
    "    Assumes n int >= 0\n",
    "    Returns Fibonacci of n\n",
    "    \"\"\"\n",
    "    op_count = 1\n",
    "    if n == 0 or n == 1:\n",
    "        return 1\n",
    "    else:\n",
    "        return fib(n - 1) + fib(n - 2)\n",
    "    \n",
    "def testFib(n):\n",
    "    for i in range(n + 1):\n",
    "        print(\"fib of\", i, \"=\", fib(i))"
   ]
  },
  {
   "cell_type": "code",
   "execution_count": 200,
   "metadata": {},
   "outputs": [
    {
     "name": "stdout",
     "output_type": "stream",
     "text": [
      "fib of 0 = 1\n",
      "fib of 1 = 1\n",
      "fib of 2 = 2\n",
      "fib of 3 = 3\n",
      "fib of 4 = 5\n",
      "fib of 5 = 8\n"
     ]
    }
   ],
   "source": [
    "testFib(5)"
   ]
  },
  {
   "cell_type": "code",
   "execution_count": 201,
   "metadata": {},
   "outputs": [],
   "source": [
    "def isPalindrome(s):\n",
    "    \"\"\"\n",
    "    Assumes s is a str\n",
    "    Returns True if s is a palindrome; False otherwise.\n",
    "    Punctuation marks, blanks and capitalization are ignored.\n",
    "    \"\"\"\n",
    "    \n",
    "    def toChars(s):\n",
    "        s = s.lower()\n",
    "        letters = \"\"\n",
    "        for c in s:\n",
    "            if c in \"abcdefghijklmnopqrstuvwxyz\":\n",
    "                letters += c\n",
    "        return letters\n",
    "    \n",
    "    def isPal(s):\n",
    "        print(' isPal called with', s)\n",
    "        if len(s) <= 1:\n",
    "            print('  About to return True from base case')\n",
    "            return True\n",
    "        else:\n",
    "            answer = s[0] == s[-1] and isPal(s[1:-1])\n",
    "            print('  About to return', answer, 'for', s)\n",
    "            return answer\n",
    "            \n",
    "    return isPal(toChars(s))\n",
    "\n",
    "def testIsPalindrome():\n",
    "    print('Try dogGod')\n",
    "    print(isPalindrome('dogGod'))\n",
    "    print('Try doGood')\n",
    "    print(isPalindrome('doGood'))"
   ]
  },
  {
   "cell_type": "code",
   "execution_count": 202,
   "metadata": {},
   "outputs": [
    {
     "name": "stdout",
     "output_type": "stream",
     "text": [
      "Try dogGod\n",
      " isPal called with doggod\n",
      " isPal called with oggo\n",
      " isPal called with gg\n",
      " isPal called with \n",
      "  About to return True from base case\n",
      "  About to return True for gg\n",
      "  About to return True for oggo\n",
      "  About to return True for doggod\n",
      "True\n",
      "Try doGood\n",
      " isPal called with dogood\n",
      " isPal called with ogoo\n",
      " isPal called with go\n",
      "  About to return False for go\n",
      "  About to return False for ogoo\n",
      "  About to return False for dogood\n",
      "False\n"
     ]
    }
   ],
   "source": [
    "testIsPalindrome()"
   ]
  },
  {
   "cell_type": "code",
   "execution_count": 203,
   "metadata": {},
   "outputs": [],
   "source": [
    "def func_a():\n",
    "    print('inside func_a')\n",
    "def func_b(y):\n",
    "    print('inside func_b')\n",
    "    return y\n",
    "def func_c(z):\n",
    "    print('inside func_c')\n",
    "    return z()"
   ]
  },
  {
   "cell_type": "code",
   "execution_count": 204,
   "metadata": {},
   "outputs": [
    {
     "name": "stdout",
     "output_type": "stream",
     "text": [
      "inside func_a\n",
      "None\n",
      "inside func_b\n",
      "7\n",
      "inside func_c\n",
      "inside func_a\n",
      "None\n"
     ]
    }
   ],
   "source": [
    "print(func_a())\n",
    "print(5 + func_b(2))\n",
    "print(func_c(func_a))"
   ]
  },
  {
   "cell_type": "code",
   "execution_count": 205,
   "metadata": {},
   "outputs": [
    {
     "data": {
      "text/plain": [
       "'\\nMy guess for the print output:\\n\\ninside func_a\\nNone\\ninside func_b\\n7\\ninside func_c\\ninside func_a\\nNone\\n\\nYES, ALL TRUE!!\\n'"
      ]
     },
     "execution_count": 205,
     "metadata": {},
     "output_type": "execute_result"
    }
   ],
   "source": [
    "\"\"\"\n",
    "My guess for the print output:\n",
    "\n",
    "inside func_a\n",
    "None\n",
    "inside func_b\n",
    "7\n",
    "inside func_c\n",
    "inside func_a\n",
    "None\n",
    "\n",
    "YES, ALL TRUE!!\n",
    "\"\"\""
   ]
  },
  {
   "cell_type": "code",
   "execution_count": 206,
   "metadata": {},
   "outputs": [],
   "source": [
    "\"\"\"\n",
    "Try writing a recursive factorial function.\n",
    "\"\"\"\n",
    "\n",
    "def factorial(n):\n",
    "    \"\"\"\n",
    "    Input: n is a nonnegative integer.\n",
    "    Returns n!\n",
    "    \"\"\"\n",
    "    if n == 0:\n",
    "        return 1\n",
    "    else:\n",
    "        return n * factorial(n-1)\n",
    "\n",
    "def testFactorial():\n",
    "    for i in range(6):\n",
    "        print(str(i) + \"!\", \"=\", factorial(i))"
   ]
  },
  {
   "cell_type": "code",
   "execution_count": 207,
   "metadata": {},
   "outputs": [
    {
     "name": "stdout",
     "output_type": "stream",
     "text": [
      "0! = 1\n",
      "1! = 1\n",
      "2! = 2\n",
      "3! = 6\n",
      "4! = 24\n",
      "5! = 120\n"
     ]
    }
   ],
   "source": [
    "testFactorial()"
   ]
  },
  {
   "cell_type": "code",
   "execution_count": 208,
   "metadata": {},
   "outputs": [],
   "source": [
    "def iterPower(base, exp):\n",
    "    '''\n",
    "    base: int or float.\n",
    "    exp: int >= 0\n",
    " \n",
    "    returns: int or float, base^exp\n",
    "    '''\n",
    "    answer = 1\n",
    "    for i in range(1, exp + 1):\n",
    "        answer *= base\n",
    "    return answer\n",
    "\n",
    "def testIterPower():\n",
    "    testlist = [0, -1.25, 17, 20.0, -5.798123, 3.77]\n",
    "    for i in testlist:\n",
    "        for power in range(4):\n",
    "            print(\"Power\", power, \"of\", i, \"is\", iterPower(i, power))"
   ]
  },
  {
   "cell_type": "code",
   "execution_count": 209,
   "metadata": {},
   "outputs": [
    {
     "name": "stdout",
     "output_type": "stream",
     "text": [
      "Power 0 of 0 is 1\n",
      "Power 1 of 0 is 0\n",
      "Power 2 of 0 is 0\n",
      "Power 3 of 0 is 0\n",
      "Power 0 of -1.25 is 1\n",
      "Power 1 of -1.25 is -1.25\n",
      "Power 2 of -1.25 is 1.5625\n",
      "Power 3 of -1.25 is -1.953125\n",
      "Power 0 of 17 is 1\n",
      "Power 1 of 17 is 17\n",
      "Power 2 of 17 is 289\n",
      "Power 3 of 17 is 4913\n",
      "Power 0 of 20.0 is 1\n",
      "Power 1 of 20.0 is 20.0\n",
      "Power 2 of 20.0 is 400.0\n",
      "Power 3 of 20.0 is 8000.0\n",
      "Power 0 of -5.798123 is 1\n",
      "Power 1 of -5.798123 is -5.798123\n",
      "Power 2 of -5.798123 is 33.618230323129005\n",
      "Power 3 of -5.798123 is -194.92263445583174\n",
      "Power 0 of 3.77 is 1\n",
      "Power 1 of 3.77 is 3.77\n",
      "Power 2 of 3.77 is 14.2129\n",
      "Power 3 of 3.77 is 53.582633\n"
     ]
    }
   ],
   "source": [
    "testIterPower()"
   ]
  },
  {
   "cell_type": "code",
   "execution_count": 210,
   "metadata": {},
   "outputs": [],
   "source": [
    "def recurPower(base, exp):\n",
    "    '''\n",
    "    base: int or float.\n",
    "    exp: int >= 0\n",
    " \n",
    "    returns: int or float, base^exp\n",
    "    '''\n",
    "    if exp == 0:\n",
    "        return 1\n",
    "    else:\n",
    "        return base * recurPower(base, exp - 1)\n",
    "    \n",
    "def testRecurPower():\n",
    "    testlist = [0, -1.25, 17, 20.0, -5.798123, 3.77]\n",
    "    for i in testlist:\n",
    "        for power in range(4):\n",
    "            print(\"Power\", power, \"of\", i, \"is\", recurPower(i, power))"
   ]
  },
  {
   "cell_type": "code",
   "execution_count": 211,
   "metadata": {},
   "outputs": [
    {
     "name": "stdout",
     "output_type": "stream",
     "text": [
      "Power 0 of 0 is 1\n",
      "Power 1 of 0 is 0\n",
      "Power 2 of 0 is 0\n",
      "Power 3 of 0 is 0\n",
      "Power 0 of -1.25 is 1\n",
      "Power 1 of -1.25 is -1.25\n",
      "Power 2 of -1.25 is 1.5625\n",
      "Power 3 of -1.25 is -1.953125\n",
      "Power 0 of 17 is 1\n",
      "Power 1 of 17 is 17\n",
      "Power 2 of 17 is 289\n",
      "Power 3 of 17 is 4913\n",
      "Power 0 of 20.0 is 1\n",
      "Power 1 of 20.0 is 20.0\n",
      "Power 2 of 20.0 is 400.0\n",
      "Power 3 of 20.0 is 8000.0\n",
      "Power 0 of -5.798123 is 1\n",
      "Power 1 of -5.798123 is -5.798123\n",
      "Power 2 of -5.798123 is 33.618230323129005\n",
      "Power 3 of -5.798123 is -194.92263445583174\n",
      "Power 0 of 3.77 is 1\n",
      "Power 1 of 3.77 is 3.77\n",
      "Power 2 of 3.77 is 14.2129\n",
      "Power 3 of 3.77 is 53.582633\n"
     ]
    }
   ],
   "source": [
    "testRecurPower()"
   ]
  },
  {
   "cell_type": "code",
   "execution_count": 212,
   "metadata": {},
   "outputs": [],
   "source": [
    "def gcdIter(a, b):\n",
    "    '''\n",
    "    a, b: positive integers\n",
    "    \n",
    "    returns: a positive integer, the greatest common divisor of a & b.\n",
    "    '''\n",
    "    ans = min(a, b)\n",
    "    while not (a % ans == 0 and b % ans == 0):\n",
    "        ans -= 1\n",
    "    return ans\n",
    "\n",
    "def testGcdIter():\n",
    "    for a in range(20, 31, 3):\n",
    "        for b in range(60, 71, 5):\n",
    "            print(\"The greatest common divisor of\", a, \"and\", b, \"is\", gcdIter(a, b))"
   ]
  },
  {
   "cell_type": "code",
   "execution_count": 213,
   "metadata": {},
   "outputs": [
    {
     "name": "stdout",
     "output_type": "stream",
     "text": [
      "The greatest common divisor of 20 and 60 is 20\n",
      "The greatest common divisor of 20 and 65 is 5\n",
      "The greatest common divisor of 20 and 70 is 10\n",
      "The greatest common divisor of 23 and 60 is 1\n",
      "The greatest common divisor of 23 and 65 is 1\n",
      "The greatest common divisor of 23 and 70 is 1\n",
      "The greatest common divisor of 26 and 60 is 2\n",
      "The greatest common divisor of 26 and 65 is 13\n",
      "The greatest common divisor of 26 and 70 is 2\n",
      "The greatest common divisor of 29 and 60 is 1\n",
      "The greatest common divisor of 29 and 65 is 1\n",
      "The greatest common divisor of 29 and 70 is 1\n"
     ]
    }
   ],
   "source": [
    "testGcdIter()"
   ]
  },
  {
   "cell_type": "code",
   "execution_count": 214,
   "metadata": {},
   "outputs": [],
   "source": [
    "def gcdRecur(a, b):\n",
    "    '''\n",
    "    a, b: positive integers\n",
    "    \n",
    "    returns: a positive integer, the greatest common divisor of a & b.\n",
    "    '''\n",
    "    if b == 0:\n",
    "        return a\n",
    "    else:\n",
    "        return gcdRecur(b, a%b)\n",
    "    \n",
    "def testGcdRecur():\n",
    "    for a in range(20, 31, 3):\n",
    "        for b in range(60, 71, 5):\n",
    "            print(\"The greatest common divisor of\", a, \"and\", b, \"is\", gcdRecur(a, b))"
   ]
  },
  {
   "cell_type": "code",
   "execution_count": 215,
   "metadata": {},
   "outputs": [
    {
     "name": "stdout",
     "output_type": "stream",
     "text": [
      "The greatest common divisor of 20 and 60 is 20\n",
      "The greatest common divisor of 20 and 65 is 5\n",
      "The greatest common divisor of 20 and 70 is 10\n",
      "The greatest common divisor of 23 and 60 is 1\n",
      "The greatest common divisor of 23 and 65 is 1\n",
      "The greatest common divisor of 23 and 70 is 1\n",
      "The greatest common divisor of 26 and 60 is 2\n",
      "The greatest common divisor of 26 and 65 is 13\n",
      "The greatest common divisor of 26 and 70 is 2\n",
      "The greatest common divisor of 29 and 60 is 1\n",
      "The greatest common divisor of 29 and 65 is 1\n",
      "The greatest common divisor of 29 and 70 is 1\n"
     ]
    }
   ],
   "source": [
    "testGcdRecur()"
   ]
  },
  {
   "cell_type": "code",
   "execution_count": 216,
   "metadata": {},
   "outputs": [],
   "source": [
    "def isIn(char, aStr):\n",
    "    '''\n",
    "    char: a single character\n",
    "    aStr: an alphabetized string\n",
    "    \n",
    "    returns: True if char is in aStr; False otherwise\n",
    "    '''\n",
    "    if len(aStr) == 0:\n",
    "        return False\n",
    "    elif len(aStr) == 1:\n",
    "        midchar = aStr[len(aStr)//2]\n",
    "        if char == midchar:\n",
    "            return True\n",
    "        else:\n",
    "            return False\n",
    "    else:\n",
    "        midchar = aStr[len(aStr)//2]\n",
    "        if char == midchar:\n",
    "            return True\n",
    "        elif char > midchar:\n",
    "            #print(\"searching in\", aStr[len(aStr)//2:])\n",
    "            return isIn(char, aStr[len(aStr)//2:])\n",
    "        else:\n",
    "            #print(\"searching in\", aStr[0:len(aStr)//2])\n",
    "            return isIn(char, aStr[0:len(aStr)//2])\n",
    "\n",
    "def testIsIn():\n",
    "    testlist = [\"abcde\", \"fiklx\", \"c\", \"tz\", \"opu\", \"bcdefghlmnoxyz\", \"\"]\n",
    "    charlist = [\"a\", \"g\", \"i\", \"x\", \"z\", \"o\", \"f\"]\n",
    "    for aStr in testlist:\n",
    "        for char in charlist:\n",
    "            print(\"Is\", char, \"in\", aStr, \"? :\", isIn(char, aStr))"
   ]
  },
  {
   "cell_type": "code",
   "execution_count": 217,
   "metadata": {},
   "outputs": [
    {
     "name": "stdout",
     "output_type": "stream",
     "text": [
      "Is a in abcde ? : True\n",
      "Is g in abcde ? : False\n",
      "Is i in abcde ? : False\n",
      "Is x in abcde ? : False\n",
      "Is z in abcde ? : False\n",
      "Is o in abcde ? : False\n",
      "Is f in abcde ? : False\n",
      "Is a in fiklx ? : False\n",
      "Is g in fiklx ? : False\n",
      "Is i in fiklx ? : True\n",
      "Is x in fiklx ? : True\n",
      "Is z in fiklx ? : False\n",
      "Is o in fiklx ? : False\n",
      "Is f in fiklx ? : True\n",
      "Is a in c ? : False\n",
      "Is g in c ? : False\n",
      "Is i in c ? : False\n",
      "Is x in c ? : False\n",
      "Is z in c ? : False\n",
      "Is o in c ? : False\n",
      "Is f in c ? : False\n",
      "Is a in tz ? : False\n",
      "Is g in tz ? : False\n",
      "Is i in tz ? : False\n",
      "Is x in tz ? : False\n",
      "Is z in tz ? : True\n",
      "Is o in tz ? : False\n",
      "Is f in tz ? : False\n",
      "Is a in opu ? : False\n",
      "Is g in opu ? : False\n",
      "Is i in opu ? : False\n",
      "Is x in opu ? : False\n",
      "Is z in opu ? : False\n",
      "Is o in opu ? : True\n",
      "Is f in opu ? : False\n",
      "Is a in bcdefghlmnoxyz ? : False\n",
      "Is g in bcdefghlmnoxyz ? : True\n",
      "Is i in bcdefghlmnoxyz ? : False\n",
      "Is x in bcdefghlmnoxyz ? : True\n",
      "Is z in bcdefghlmnoxyz ? : True\n",
      "Is o in bcdefghlmnoxyz ? : True\n",
      "Is f in bcdefghlmnoxyz ? : True\n",
      "Is a in  ? : False\n",
      "Is g in  ? : False\n",
      "Is i in  ? : False\n",
      "Is x in  ? : False\n",
      "Is z in  ? : False\n",
      "Is o in  ? : False\n",
      "Is f in  ? : False\n"
     ]
    }
   ],
   "source": [
    "testIsIn()"
   ]
  },
  {
   "cell_type": "code",
   "execution_count": 223,
   "metadata": {},
   "outputs": [],
   "source": [
    "\"\"\"\n",
    "Write a function called polysum that takes 2 arguments, n and s. \n",
    "This function should sum the area and square of the perimeter of the regular polygon. \n",
    "The function returns the sum, rounded to 4 decimal places.\n",
    "\"\"\"\n",
    "import numpy as np\n",
    "\n",
    "def polysum(n, s):\n",
    "    \"\"\"\n",
    "    n : int, n > 2\n",
    "    s : int or float, s > 0\n",
    "    \"\"\"\n",
    "    area = (0.25*n*s**2) / np.tan(np.pi / n)\n",
    "    perimeter = n*s\n",
    "    ans = area + perimeter**2\n",
    "    ans = round(ans, 4)\n",
    "    return ans\n",
    "\n",
    "def testPolysum():\n",
    "    testlist_s = [1, 3.15, 28, 0.00175, 1.27895, 2.0]\n",
    "    for n in range(5, 10):\n",
    "        for s in testlist_s:\n",
    "            print(\"Polysum is\", polysum(n, s), \"for n =\", n, \"and s =\", s)"
   ]
  },
  {
   "cell_type": "code",
   "execution_count": 224,
   "metadata": {},
   "outputs": [
    {
     "name": "stdout",
     "output_type": "stream",
     "text": [
      "Polysum is 26.7205 for n = 5 and s = 1\n",
      "Polysum is 265.1339 for n = 5 and s = 3.15\n",
      "Polysum is 20948.8543 for n = 5 and s = 28\n",
      "Polysum is 0.0001 for n = 5 and s = 0.00175\n",
      "Polysum is 43.707 for n = 5 and s = 1.27895\n",
      "Polysum is 106.8819 for n = 5 and s = 2.0\n",
      "Polysum is 38.5981 for n = 6 and s = 1\n",
      "Polysum is 382.9894 for n = 6 and s = 3.15\n",
      "Polysum is 30260.8917 for n = 6 and s = 28\n",
      "Polysum is 0.0001 for n = 6 and s = 0.00175\n",
      "Polysum is 63.1354 for n = 6 and s = 1.27895\n",
      "Polysum is 154.3923 for n = 6 and s = 2.0\n",
      "Polysum is 52.6339 for n = 7 and s = 1\n",
      "Polysum is 522.26 for n = 7 and s = 3.15\n",
      "Polysum is 41264.9874 for n = 7 and s = 28\n",
      "Polysum is 0.0002 for n = 7 and s = 0.00175\n",
      "Polysum is 86.094 for n = 7 and s = 1.27895\n",
      "Polysum is 210.5356 for n = 7 and s = 2.0\n",
      "Polysum is 68.8284 for n = 8 and s = 1\n",
      "Polysum is 682.9501 for n = 8 and s = 3.15\n",
      "Polysum is 53961.4869 for n = 8 and s = 28\n",
      "Polysum is 0.0002 for n = 8 and s = 0.00175\n",
      "Polysum is 112.5836 for n = 8 and s = 1.27895\n",
      "Polysum is 275.3137 for n = 8 and s = 2.0\n",
      "Polysum is 87.1818 for n = 9 and s = 1\n",
      "Polysum is 865.0617 for n = 9 and s = 3.15\n",
      "Polysum is 68350.5502 for n = 9 and s = 28\n",
      "Polysum is 0.0003 for n = 9 and s = 0.00175\n",
      "Polysum is 142.6045 for n = 9 and s = 1.27895\n",
      "Polysum is 348.7273 for n = 9 and s = 2.0\n"
     ]
    }
   ],
   "source": [
    "testPolysum()"
   ]
  },
  {
   "cell_type": "code",
   "execution_count": 225,
   "metadata": {},
   "outputs": [
    {
     "name": "stdout",
     "output_type": "stream",
     "text": [
      "880181.6919\n",
      "40830558.3725\n",
      "1055818.8549\n"
     ]
    }
   ],
   "source": [
    "print(polysum(43, 21))\n",
    "print(polysum(75, 82))\n",
    "print(polysum(43, 23))"
   ]
  },
  {
   "cell_type": "code",
   "execution_count": null,
   "metadata": {},
   "outputs": [],
   "source": []
  }
 ],
 "metadata": {
  "kernelspec": {
   "display_name": ".env",
   "language": "python",
   "name": ".env"
  },
  "language_info": {
   "codemirror_mode": {
    "name": "ipython",
    "version": 3
   },
   "file_extension": ".py",
   "mimetype": "text/x-python",
   "name": "python",
   "nbconvert_exporter": "python",
   "pygments_lexer": "ipython3",
   "version": "3.10.5"
  },
  "orig_nbformat": 4
 },
 "nbformat": 4,
 "nbformat_minor": 2
}
