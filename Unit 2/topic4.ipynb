{
 "cells": [
  {
   "cell_type": "code",
   "execution_count": 41,
   "metadata": {},
   "outputs": [
    {
     "data": {
      "text/plain": [
       "bool"
      ]
     },
     "execution_count": 41,
     "metadata": {},
     "output_type": "execute_result"
    }
   ],
   "source": [
    "'''\n",
    "Write a function that accepts two strings as arguments and returns True if either string occurs anywhere in the other, and False otherwise.\n",
    "'''\n",
    "\n",
    "def contains_other(x, y):\n",
    "    if x in y or y in x:\n",
    "        return True\n",
    "    else:\n",
    "        return False\n",
    "\n",
    "contains_other('a56', '3')\n",
    "type(contains_other('a56', '3'))\n",
    "\n",
    "# Observe that value of the function is a boolean because of the \"return\" statements."
   ]
  },
  {
   "cell_type": "code",
   "execution_count": 42,
   "metadata": {},
   "outputs": [
    {
     "name": "stdout",
     "output_type": "stream",
     "text": [
      "Olga Puchmajerova\n",
      "Olga Puchmajerova\n"
     ]
    },
    {
     "data": {
      "text/plain": [
       "NoneType"
      ]
     },
     "execution_count": 42,
     "metadata": {},
     "output_type": "execute_result"
    }
   ],
   "source": [
    "def printName(firstName, lastName, reverse):\n",
    "    if reverse:\n",
    "        print(lastName + ', ' + firstName)\n",
    "    else:\n",
    "        print(firstName, lastName)\n",
    "\n",
    "printName('Olga', 'Puchmajerova', False)\n",
    "type(printName('Olga', 'Puchmajerova', False))\n",
    "\n",
    "# Observe that function has no value (and its type is therefore NoneType) because there are no \"return\" statements.\n",
    "# Here we only use function's so-called \"side effect\" that is printing strings."
   ]
  },
  {
   "cell_type": "code",
   "execution_count": 43,
   "metadata": {},
   "outputs": [
    {
     "ename": "SyntaxError",
     "evalue": "positional argument follows keyword argument (1736013800.py, line 1)",
     "output_type": "error",
     "traceback": [
      "\u001b[0;36m  Cell \u001b[0;32mIn [43], line 1\u001b[0;36m\u001b[0m\n\u001b[0;31m    printName('Olga', lastName = 'Puchmajerova', False)\u001b[0m\n\u001b[0m                                                      ^\u001b[0m\n\u001b[0;31mSyntaxError\u001b[0m\u001b[0;31m:\u001b[0m positional argument follows keyword argument\n"
     ]
    }
   ],
   "source": [
    "printName('Olga', lastName = 'Puchmajerova', False)\n",
    "# It is not legal to follow a keyword argument with a non-keyword argument. Therefore this code gives the error:\n",
    "# SyntaxError: positional argument follows keyword argument"
   ]
  },
  {
   "cell_type": "code",
   "execution_count": null,
   "metadata": {},
   "outputs": [
    {
     "name": "stdout",
     "output_type": "stream",
     "text": [
      "Puchmajerova, Olga\n",
      "Puchmajerova, Olga\n"
     ]
    }
   ],
   "source": [
    "# Default values allow programmers to call a function with fewer than the specified number of arguments:\n",
    "\n",
    "# printName('Olga', 'Puchmajerova') > textbook seems to be wrong on this one at current Python version. This gives \n",
    "# TypeError: printName() missing 1 required positional argument: 'reverse'\n",
    "\n",
    "printName('Olga', 'Puchmajerova', True)\n",
    "printName('Olga', 'Puchmajerova', reverse = True)\n",
    "# The last two invocations of printName are semantically equivalent."
   ]
  },
  {
   "cell_type": "code",
   "execution_count": null,
   "metadata": {},
   "outputs": [
    {
     "name": "stdout",
     "output_type": "stream",
     "text": [
      "x = 4\n",
      "z = 4\n",
      "x=  abc\n",
      "x = 4\n",
      "x = 3\n",
      "z = <function f.<locals>.g at 0x7f2d5862bb50>\n",
      "x=  abc\n"
     ]
    }
   ],
   "source": [
    "def f(x):\n",
    "    def g():\n",
    "        x = 'abc'\n",
    "        print(\"x= \", x)\n",
    "    def h():\n",
    "        z = x\n",
    "        print(\"z =\", z)\n",
    "    x = x + 1\n",
    "    print(\"x =\", x)\n",
    "    h()\n",
    "    g()\n",
    "    print(\"x =\", x)\n",
    "    return g\n",
    "\n",
    "# Real action starts after here:\n",
    "x = 3\n",
    "z = f(x)  # assignment operation invokes f(x). at the time of invokation x is equal to 3. so f(3) is invoked and after that z is bound to f(3).\n",
    "print(\"x =\", x)\n",
    "print(\"z =\", z)\n",
    "z()"
   ]
  },
  {
   "cell_type": "code",
   "execution_count": null,
   "metadata": {},
   "outputs": [],
   "source": [
    "'''\n",
    "My print guess:\n",
    "\n",
    "x = 4\n",
    "z = 4\n",
    "x = 'abc'\n",
    "x = 4\n",
    "x = 3\n",
    "z = function at 0x12345\n",
    "x = 'abc'\n",
    "'''"
   ]
  },
  {
   "cell_type": "code",
   "execution_count": null,
   "metadata": {},
   "outputs": [],
   "source": [
    "# Let's split the code and observe.\n",
    "\n",
    "def f(x):\n",
    "    def g():\n",
    "        x = 'abc'\n",
    "        print(\"x =\", x)  # This is NOT printed when f() is invoked. (it will print only when g() is invoked.)\n",
    "    def h():\n",
    "        z = x  # z is assigned to the x which is in f()'s stack frame which is equal to 4.\n",
    "        print(\"z =\", z)  # This is NOT printed when f() is invoked. (it will print only when g() is invoked.)\n",
    "    x = x + 1  # Here the x which is in f()'s stack frame is bound to 4. We call this local x.\n",
    "    print(\"x =\", x)  # This is printed when f() is invoked. Here the local x (which is in f()'s stack frame) is equal to 4. So it prints \"4\".\n",
    "    h()\n",
    "    g()\n",
    "    print(\"x =\", x)\n",
    "    return g\n",
    "\n",
    "# No prints happening in the def f(x) phase."
   ]
  },
  {
   "cell_type": "code",
   "execution_count": null,
   "metadata": {},
   "outputs": [
    {
     "name": "stdout",
     "output_type": "stream",
     "text": [
      "x = 4\n",
      "z = 4\n",
      "x = abc\n",
      "x = 4\n",
      "x = 3\n",
      "z = <function f.<locals>.g at 0x7f2d488ce050>\n",
      "x = abc\n"
     ]
    }
   ],
   "source": [
    "x = 3\n",
    "z = f(x)\n",
    "print(\"x =\", x)\n",
    "print(\"z =\", z)\n",
    "z()\n",
    "\n",
    "# Prints inside f() (including nested ones) happen when f() is INVOKED\n",
    "# by assigning z = f(x)"
   ]
  },
  {
   "cell_type": "code",
   "execution_count": null,
   "metadata": {},
   "outputs": [],
   "source": [
    "# 4.2 Specifications:"
   ]
  },
  {
   "cell_type": "code",
   "execution_count": 44,
   "metadata": {},
   "outputs": [],
   "source": [
    "def findRoot(x, power, epsilon):\n",
    "    '''\n",
    "    Assumes x and epsilon int or float, power an int, epsilon > 0 & power >= 1\n",
    "    Returns float y such that y**power is within epsilon of x.\n",
    "    If such a float does not exist, it returns None.\n",
    "    '''\n",
    "    if x < 0 and power%2 == 0:  # Negative number has no even-powered roots.\n",
    "        return None\n",
    "    low = min(-1.0, x)\n",
    "    high = max(1.0, x)\n",
    "    ans = (high + low) / 2.0\n",
    "    while abs(ans**power - x) >= epsilon:\n",
    "        if ans**power < x:\n",
    "            low = ans\n",
    "        else:\n",
    "            high = ans\n",
    "        ans = (high + low) / 2.0\n",
    "    return ans\n",
    "\n",
    "def testFindRoot():\n",
    "    epsilon = 0.0001\n",
    "    for x in [0.25, -0.25, 2, -2, 8, -8]:\n",
    "        for power in range(1, 4):\n",
    "            print(\"Testing x =\", str(x), \"and power =\", power)\n",
    "            result = findRoot(x, power, epsilon)\n",
    "            if result == None:\n",
    "                print(' No root')\n",
    "            else:\n",
    "                print('  ', result**power, '~=', x)\n",
    "    \n",
    "    "
   ]
  },
  {
   "cell_type": "code",
   "execution_count": 46,
   "metadata": {},
   "outputs": [
    {
     "name": "stdout",
     "output_type": "stream",
     "text": [
      "Help on function findRoot in module __main__:\n",
      "\n",
      "findRoot(x, power, epsilon)\n",
      "    Assumes x and epsilon int or float, power an int, epsilon > 0 & power >= 1\n",
      "    Returns float y such that y**power is within epsilon of x.\n",
      "    If such a float does not exist, it returns None.\n",
      "\n"
     ]
    }
   ],
   "source": [
    "help(findRoot)"
   ]
  },
  {
   "cell_type": "code",
   "execution_count": 45,
   "metadata": {},
   "outputs": [
    {
     "name": "stdout",
     "output_type": "stream",
     "text": [
      "Testing x = 0.25 and power = 1\n",
      "   0.25 ~= 0.25\n",
      "Testing x = 0.25 and power = 2\n",
      "   0.25 ~= 0.25\n",
      "Testing x = 0.25 and power = 3\n",
      "   0.24990749079734087 ~= 0.25\n",
      "Testing x = -0.25 and power = 1\n",
      "   -0.25 ~= -0.25\n",
      "Testing x = -0.25 and power = 2\n",
      " No root\n",
      "Testing x = -0.25 and power = 3\n",
      "   -0.24990749079734087 ~= -0.25\n",
      "Testing x = 2 and power = 1\n",
      "   1.999908447265625 ~= 2\n",
      "Testing x = 2 and power = 2\n",
      "   2.0000906325876713 ~= 2\n",
      "Testing x = 2 and power = 3\n",
      "   2.000059155646067 ~= 2\n",
      "Testing x = -2 and power = 1\n",
      "   -1.999908447265625 ~= -2\n",
      "Testing x = -2 and power = 2\n",
      " No root\n",
      "Testing x = -2 and power = 3\n",
      "   -2.000059155646067 ~= -2\n",
      "Testing x = 8 and power = 1\n",
      "   7.999931335449219 ~= 8\n",
      "Testing x = 8 and power = 2\n",
      "   7.99999568007479 ~= 8\n",
      "Testing x = 8 and power = 3\n",
      "   8.000068664747232 ~= 8\n",
      "Testing x = -8 and power = 1\n",
      "   -7.999931335449219 ~= -8\n",
      "Testing x = -8 and power = 2\n",
      " No root\n",
      "Testing x = -8 and power = 3\n",
      "   -8.000068664747232 ~= -8\n"
     ]
    }
   ],
   "source": [
    "testFindRoot()"
   ]
  }
 ],
 "metadata": {
  "kernelspec": {
   "display_name": ".env",
   "language": "python",
   "name": ".env"
  },
  "language_info": {
   "codemirror_mode": {
    "name": "ipython",
    "version": 3
   },
   "file_extension": ".py",
   "mimetype": "text/x-python",
   "name": "python",
   "nbconvert_exporter": "python",
   "pygments_lexer": "ipython3",
   "version": "3.10.5"
  },
  "orig_nbformat": 4
 },
 "nbformat": 4,
 "nbformat_minor": 2
}
