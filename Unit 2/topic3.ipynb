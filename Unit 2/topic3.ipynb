{
 "cells": [
  {
   "cell_type": "code",
   "execution_count": 87,
   "metadata": {},
   "outputs": [],
   "source": [
    "import numpy as np"
   ]
  },
  {
   "cell_type": "code",
   "execution_count": 88,
   "metadata": {},
   "outputs": [
    {
     "name": "stdout",
     "output_type": "stream",
     "text": [
      "numGuesses = 3513631\n",
      "Failed on square root of 123456\n"
     ]
    }
   ],
   "source": [
    "# Approximating square root using exhaustive enumeration:\n",
    "\n",
    "x = 123456\n",
    "epsilon = 0.01\n",
    "step = epsilon**2\n",
    "numGuesses = 0\n",
    "ans = 0.0\n",
    "while abs(ans**2 - x) >= epsilon and ans**2 <= x:\n",
    "    ans += step\n",
    "    numGuesses += 1\n",
    "print('numGuesses =', numGuesses)\n",
    "if abs(ans**2 - x) >= epsilon:\n",
    "    print('Failed on square root of', x)\n",
    "else:\n",
    "    print(round(ans, 4), 'is close to square root of', x)"
   ]
  },
  {
   "cell_type": "code",
   "execution_count": 89,
   "metadata": {},
   "outputs": [
    {
     "name": "stdout",
     "output_type": "stream",
     "text": [
      "Square root of 25 is 5.00030517578125\n",
      "Number of guesses: 13\n"
     ]
    }
   ],
   "source": [
    "# Using bisection search to approximate square root (my try):\n",
    "\n",
    "x = 25\n",
    "\n",
    "epsilon = 0.01\n",
    "range_low = 0\n",
    "range_high = x\n",
    "ans = x / 2\n",
    "guess_number = 0\n",
    "while abs(ans**2 - x) >= epsilon:\n",
    "    guess_number += 1\n",
    "    if ans**2 < x:\n",
    "        range_low = ans\n",
    "        ans = (range_low + range_high) / 2\n",
    "    else:\n",
    "        range_high = ans\n",
    "        ans = (range_low + range_high) / 2\n",
    "print(\"Square root of\", x, \"is\", ans)\n",
    "print(\"Number of guesses:\", guess_number)"
   ]
  },
  {
   "cell_type": "code",
   "execution_count": 90,
   "metadata": {},
   "outputs": [
    {
     "data": {
      "text/plain": [
       "'\\nFinger exercise:\\n\\nWhat would the code do if the statement x = 25 were replaced by x = -25?\\n'"
      ]
     },
     "execution_count": 90,
     "metadata": {},
     "output_type": "execute_result"
    }
   ],
   "source": [
    "'''\n",
    "Finger exercise:\n",
    "\n",
    "What would the code do if the statement x = 25 were replaced by x = -25?\n",
    "'''\n",
    "\n",
    "# It is iterating ans from -25 to 0, running forever."
   ]
  },
  {
   "cell_type": "code",
   "execution_count": 101,
   "metadata": {},
   "outputs": [
    {
     "name": "stdout",
     "output_type": "stream",
     "text": [
      "low = -13.5 high = 0 guess = -6.75\n",
      "low = -6.75 high = 0 guess = -3.375\n",
      "low = -3.375 high = 0 guess = -1.6875\n",
      "low = -3.375 high = -1.6875 guess = -2.53125\n",
      "low = -3.375 high = -2.53125 guess = -2.953125\n",
      "low = -3.375 high = -2.953125 guess = -3.1640625\n",
      "low = -3.1640625 high = -2.953125 guess = -3.05859375\n",
      "low = -3.05859375 high = -2.953125 guess = -3.005859375\n",
      "low = -3.005859375 high = -2.953125 guess = -2.9794921875\n",
      "low = -3.005859375 high = -2.9794921875 guess = -2.99267578125\n",
      "low = -3.005859375 high = -2.99267578125 guess = -2.999267578125\n",
      "low = -3.005859375 high = -2.999267578125 guess = -3.0025634765625\n",
      "low = -3.0025634765625 high = -2.999267578125 guess = -3.00091552734375\n",
      "low = -3.00091552734375 high = -2.999267578125 guess = -3.000091552734375\n",
      "Cube root of -27 is -3.000091552734375\n",
      "Number of guesses: 14\n"
     ]
    }
   ],
   "source": [
    "'''\n",
    "Finger exercise:\n",
    "\n",
    "What would have to be changed to make the code in Figure 3.4 work for finding an approximation to the cube root of both negative\n",
    "and positive numbers? (Hint: think about changing low to ensure that the answer lies within the region being searched.)\n",
    "'''\n",
    "\n",
    "x = -27\n",
    "\n",
    "epsilon = 0.01\n",
    "range_low = 0\n",
    "range_high = x\n",
    "ans = (range_high + range_low) / 2\n",
    "guess_number = 0\n",
    "\n",
    "if x >= 0:\n",
    "    range_low = 0\n",
    "    range_high = x\n",
    "    while abs(ans**3 - x) >= epsilon:\n",
    "        guess_number += 1\n",
    "        if ans**3 < x:\n",
    "            range_low = ans\n",
    "            ans = (range_low + range_high) / 2\n",
    "        elif ans**3 > x:\n",
    "            range_high = ans\n",
    "            ans = (range_low + range_high) / 2\n",
    "        print(\"low =\", range_low, \"high =\", range_high, \"guess =\", ans)\n",
    "else:\n",
    "    range_low = x\n",
    "    range_high = 0\n",
    "    while abs(ans**3 - x) >= epsilon:\n",
    "        guess_number += 1\n",
    "        if ans**3 < x:\n",
    "            range_low = ans\n",
    "            ans = (range_low + range_high) / 2\n",
    "        elif ans**3 > x:\n",
    "            range_high = ans\n",
    "            ans = (range_low + range_high) / 2\n",
    "        print(\"low =\", range_low, \"high =\", range_high, \"guess =\", ans)\n",
    "    \n",
    "print(\"Cube root of\", x, \"is\", ans)\n",
    "print(\"Number of guesses:\", guess_number)"
   ]
  },
  {
   "cell_type": "code",
   "execution_count": null,
   "metadata": {},
   "outputs": [],
   "source": []
  }
 ],
 "metadata": {
  "kernelspec": {
   "display_name": ".env",
   "language": "python",
   "name": ".env"
  },
  "language_info": {
   "codemirror_mode": {
    "name": "ipython",
    "version": 3
   },
   "file_extension": ".py",
   "mimetype": "text/x-python",
   "name": "python",
   "nbconvert_exporter": "python",
   "pygments_lexer": "ipython3",
   "version": "3.10.5"
  },
  "orig_nbformat": 4
 },
 "nbformat": 4,
 "nbformat_minor": 2
}
