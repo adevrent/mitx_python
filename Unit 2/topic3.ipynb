{
 "cells": [
  {
   "cell_type": "code",
   "execution_count": 87,
   "metadata": {},
   "outputs": [],
   "source": [
    "import numpy as np"
   ]
  },
  {
   "cell_type": "code",
   "execution_count": 88,
   "metadata": {},
   "outputs": [
    {
     "name": "stdout",
     "output_type": "stream",
     "text": [
      "numGuesses = 3513631\n",
      "Failed on square root of 123456\n"
     ]
    }
   ],
   "source": [
    "# Approximating square root using exhaustive enumeration:\n",
    "\n",
    "x = 123456\n",
    "epsilon = 0.01\n",
    "step = epsilon**2\n",
    "numGuesses = 0\n",
    "ans = 0.0\n",
    "while abs(ans**2 - x) >= epsilon and ans**2 <= x:\n",
    "    ans += step\n",
    "    numGuesses += 1\n",
    "print('numGuesses =', numGuesses)\n",
    "if abs(ans**2 - x) >= epsilon:\n",
    "    print('Failed on square root of', x)\n",
    "else:\n",
    "    print(round(ans, 4), 'is close to square root of', x)"
   ]
  },
  {
   "cell_type": "code",
   "execution_count": 5,
   "metadata": {},
   "outputs": [
    {
     "name": "stdout",
     "output_type": "stream",
     "text": [
      "Square root of 25 is 5.00030517578125\n",
      "Number of guesses: 13\n"
     ]
    }
   ],
   "source": [
    "# Using bisection search to approximate square root (my try):\n",
    "\n",
    "x = 25\n",
    "\n",
    "epsilon = 0.01\n",
    "range_low = 0\n",
    "range_high = x\n",
    "ans = (range_high + range_low) / 2\n",
    "guess_number = 0\n",
    "while abs(ans**2 - x) >= epsilon:\n",
    "    guess_number += 1\n",
    "    if ans**2 < x:\n",
    "        range_low = ans\n",
    "        ans = (range_low + range_high) / 2\n",
    "    else:\n",
    "        range_high = ans\n",
    "        ans = (range_low + range_high) / 2\n",
    "print(\"Square root of\", x, \"is\", ans)\n",
    "print(\"Number of guesses:\", guess_number)"
   ]
  },
  {
   "cell_type": "code",
   "execution_count": 90,
   "metadata": {},
   "outputs": [
    {
     "data": {
      "text/plain": [
       "'\\nFinger exercise:\\n\\nWhat would the code do if the statement x = 25 were replaced by x = -25?\\n'"
      ]
     },
     "execution_count": 90,
     "metadata": {},
     "output_type": "execute_result"
    }
   ],
   "source": [
    "'''\n",
    "Finger exercise:\n",
    "\n",
    "What would the code do if the statement x = 25 were replaced by x = -25?\n",
    "'''\n",
    "\n",
    "# It is iterating ans from -25 to 0, running forever."
   ]
  },
  {
   "cell_type": "code",
   "execution_count": 101,
   "metadata": {},
   "outputs": [
    {
     "name": "stdout",
     "output_type": "stream",
     "text": [
      "low = -13.5 high = 0 guess = -6.75\n",
      "low = -6.75 high = 0 guess = -3.375\n",
      "low = -3.375 high = 0 guess = -1.6875\n",
      "low = -3.375 high = -1.6875 guess = -2.53125\n",
      "low = -3.375 high = -2.53125 guess = -2.953125\n",
      "low = -3.375 high = -2.953125 guess = -3.1640625\n",
      "low = -3.1640625 high = -2.953125 guess = -3.05859375\n",
      "low = -3.05859375 high = -2.953125 guess = -3.005859375\n",
      "low = -3.005859375 high = -2.953125 guess = -2.9794921875\n",
      "low = -3.005859375 high = -2.9794921875 guess = -2.99267578125\n",
      "low = -3.005859375 high = -2.99267578125 guess = -2.999267578125\n",
      "low = -3.005859375 high = -2.999267578125 guess = -3.0025634765625\n",
      "low = -3.0025634765625 high = -2.999267578125 guess = -3.00091552734375\n",
      "low = -3.00091552734375 high = -2.999267578125 guess = -3.000091552734375\n",
      "Cube root of -27 is -3.000091552734375\n",
      "Number of guesses: 14\n"
     ]
    }
   ],
   "source": [
    "'''\n",
    "Finger exercise:\n",
    "\n",
    "What would have to be changed to make the code in Figure 3.4 work for finding an approximation to the cube root of both negative\n",
    "and positive numbers? (Hint: think about changing low to ensure that the answer lies within the region being searched.)\n",
    "'''\n",
    "\n",
    "x = -27\n",
    "\n",
    "epsilon = 0.01\n",
    "range_low = 0\n",
    "range_high = x\n",
    "ans = (range_high + range_low) / 2\n",
    "guess_number = 0\n",
    "\n",
    "if x >= 0:\n",
    "    range_low = 0\n",
    "    range_high = x\n",
    "    while abs(ans**3 - x) >= epsilon:\n",
    "        guess_number += 1\n",
    "        if ans**3 < x:\n",
    "            range_low = ans\n",
    "            ans = (range_low + range_high) / 2\n",
    "        elif ans**3 > x:\n",
    "            range_high = ans\n",
    "            ans = (range_low + range_high) / 2\n",
    "        print(\"low =\", range_low, \"high =\", range_high, \"guess =\", ans)\n",
    "else:\n",
    "    range_low = x\n",
    "    range_high = 0\n",
    "    while abs(ans**3 - x) >= epsilon:\n",
    "        guess_number += 1\n",
    "        if ans**3 < x:\n",
    "            range_low = ans\n",
    "            ans = (range_low + range_high) / 2\n",
    "        elif ans**3 > x:\n",
    "            range_high = ans\n",
    "            ans = (range_low + range_high) / 2\n",
    "        print(\"low =\", range_low, \"high =\", range_high, \"guess =\", ans)\n",
    "    \n",
    "print(\"Cube root of\", x, \"is\", ans)\n",
    "print(\"Number of guesses:\", guess_number)"
   ]
  },
  {
   "cell_type": "code",
   "execution_count": 10,
   "metadata": {},
   "outputs": [
    {
     "name": "stdout",
     "output_type": "stream",
     "text": [
      "low = -1 high = -0.25 guess = -0.625\n",
      "low = -1 high = -0.625 guess = -0.8125\n",
      "low = -0.8125 high = -0.625 guess = -0.71875\n",
      "low = -0.8125 high = -0.71875 guess = -0.765625\n",
      "low = -0.8125 high = -0.765625 guess = -0.7890625\n",
      "low = -0.8125 high = -0.7890625 guess = -0.80078125\n",
      "low = -0.80078125 high = -0.7890625 guess = -0.794921875\n",
      "low = -0.794921875 high = -0.7890625 guess = -0.7919921875\n",
      "low = -0.794921875 high = -0.7919921875 guess = -0.79345703125\n",
      "Cube root of -0.5 is -0.79345703125\n",
      "Number of guesses: 9\n"
     ]
    }
   ],
   "source": [
    "'''\n",
    "Modify to also work with x < 1\n",
    "'''\n",
    "\n",
    "x = -0.5\n",
    "\n",
    "epsilon = 0.001\n",
    "range_low = 0\n",
    "range_high = x\n",
    "ans = (range_high + range_low) / 2\n",
    "guess_number = 0\n",
    "\n",
    "if x >= 1:\n",
    "    range_low = 0\n",
    "    range_high = x\n",
    "    while abs(ans**3 - x) >= epsilon:\n",
    "        guess_number += 1\n",
    "        if ans**3 < x:\n",
    "            range_low = ans\n",
    "            ans = (range_low + range_high) / 2\n",
    "        elif ans**3 > x:\n",
    "            range_high = ans\n",
    "            ans = (range_low + range_high) / 2\n",
    "        print(\"low =\", range_low, \"high =\", range_high, \"guess =\", ans)\n",
    "elif abs(x) > 0 and abs(x) < 1:\n",
    "    range_low = x\n",
    "    range_high = 1\n",
    "    if x > 0:\n",
    "        range_low = x\n",
    "        range_high = 1\n",
    "        while abs(ans**3 - x) >= epsilon:\n",
    "            guess_number += 1\n",
    "            if ans**3 < x:\n",
    "                range_low = ans\n",
    "                ans = (range_low + range_high) / 2\n",
    "            elif ans**3 > x:\n",
    "                range_high = ans\n",
    "                ans = (range_low + range_high) / 2\n",
    "            print(\"low =\", range_low, \"high =\", range_high, \"guess =\", ans)\n",
    "    else:\n",
    "        range_low = -1\n",
    "        range_high = x\n",
    "        while abs(ans**3 - x) >= epsilon:\n",
    "            guess_number += 1\n",
    "            if ans**3 < x:\n",
    "                range_low = ans\n",
    "                ans = (range_low + range_high) / 2\n",
    "            elif ans**3 > x:\n",
    "                range_high = ans\n",
    "                ans = (range_low + range_high) / 2\n",
    "            print(\"low =\", range_low, \"high =\", range_high, \"guess =\", ans)\n",
    "        \n",
    "else:\n",
    "    range_low = x\n",
    "    range_high = 0\n",
    "    while abs(ans**3 - x) >= epsilon:\n",
    "        guess_number += 1\n",
    "        if ans**3 < x:\n",
    "            range_low = ans\n",
    "            ans = (range_low + range_high) / 2\n",
    "        elif ans**3 > x:\n",
    "            range_high = ans\n",
    "            ans = (range_low + range_high) / 2\n",
    "        print(\"low =\", range_low, \"high =\", range_high, \"guess =\", ans)\n",
    "    \n",
    "print(\"Cube root of\", x, \"is\", ans)\n",
    "print(\"Number of guesses:\", guess_number)\n",
    "\n",
    "# very messy code. let's clean it :"
   ]
  },
  {
   "cell_type": "code",
   "execution_count": 14,
   "metadata": {},
   "outputs": [
    {
     "name": "stdout",
     "output_type": "stream",
     "text": [
      "low = -13.5 high = 0 guess = -6.75\n",
      "low = -6.75 high = 0 guess = -3.375\n",
      "low = -3.375 high = 0 guess = -1.6875\n",
      "low = -3.375 high = -1.6875 guess = -2.53125\n",
      "low = -3.375 high = -2.53125 guess = -2.953125\n",
      "low = -3.375 high = -2.953125 guess = -3.1640625\n",
      "low = -3.1640625 high = -2.953125 guess = -3.05859375\n",
      "low = -3.05859375 high = -2.953125 guess = -3.005859375\n",
      "low = -3.005859375 high = -2.953125 guess = -2.9794921875\n",
      "low = -3.005859375 high = -2.9794921875 guess = -2.99267578125\n",
      "low = -3.005859375 high = -2.99267578125 guess = -2.999267578125\n",
      "low = -3.005859375 high = -2.999267578125 guess = -3.0025634765625\n",
      "low = -3.0025634765625 high = -2.999267578125 guess = -3.00091552734375\n",
      "low = -3.00091552734375 high = -2.999267578125 guess = -3.000091552734375\n",
      "low = -3.000091552734375 high = -2.999267578125 guess = -2.9996795654296875\n",
      "low = -3.000091552734375 high = -2.9996795654296875 guess = -2.9998855590820312\n",
      "low = -3.000091552734375 high = -2.9998855590820312 guess = -2.999988555908203\n",
      "Cube root of -27 is -2.999988555908203\n",
      "Number of guesses: 17\n"
     ]
    }
   ],
   "source": [
    "# Now this is a good code :)\n",
    "x = -27\n",
    "epsilon = 0.001\n",
    "range_low = 0\n",
    "range_high = x\n",
    "ans = (range_high + range_low) / 2\n",
    "guess_number = 0\n",
    "\n",
    "if x >= 1:\n",
    "    range_low = 0\n",
    "    range_high = x\n",
    "elif abs(x) > 0 and abs(x) < 1:\n",
    "    if x > 0:\n",
    "        range_low = x\n",
    "        range_high = 1\n",
    "    else:\n",
    "        range_low = -1\n",
    "        range_high = x\n",
    "else:\n",
    "    range_low = x\n",
    "    range_high = 0\n",
    "while abs(ans**3 - x) >= epsilon:\n",
    "        guess_number += 1\n",
    "        if ans**3 < x:\n",
    "            range_low = ans\n",
    "            ans = (range_low + range_high) / 2\n",
    "        elif ans**3 > x:\n",
    "            range_high = ans\n",
    "            ans = (range_low + range_high) / 2\n",
    "        print(\"low =\", range_low, \"high =\", range_high, \"guess =\", ans)\n",
    "print(\"Cube root of\", x, \"is\", ans)\n",
    "print(\"Number of guesses:\", guess_number)"
   ]
  },
  {
   "cell_type": "code",
   "execution_count": 3,
   "metadata": {},
   "outputs": [
    {
     "name": "stdout",
     "output_type": "stream",
     "text": [
      "0.1\n",
      "0.2\n",
      "0.30000000000000004\n",
      "0.4\n",
      "0.5\n",
      "0.6\n",
      "0.7\n",
      "0.7999999999999999\n",
      "0.8999999999999999\n",
      "0.9999999999999999\n",
      "1.0999999999999999\n",
      "1.2\n",
      "1.3\n",
      "1.4000000000000001\n",
      "1.5000000000000002\n",
      "1.6000000000000003\n",
      "1.7000000000000004\n",
      "1.8000000000000005\n",
      "1.9000000000000006\n",
      "2.0000000000000004\n",
      "2.1000000000000005\n",
      "2.2000000000000006\n",
      "2.3000000000000007\n",
      "2.400000000000001\n",
      "2.500000000000001\n",
      "2.600000000000001\n",
      "2.700000000000001\n",
      "2.800000000000001\n",
      "2.9000000000000012\n",
      "3.0000000000000013\n",
      "3.1000000000000014\n",
      "3.2000000000000015\n",
      "3.3000000000000016\n",
      "3.4000000000000017\n",
      "3.5000000000000018\n",
      "3.600000000000002\n",
      "3.700000000000002\n",
      "3.800000000000002\n",
      "3.900000000000002\n",
      "4.000000000000002\n",
      "4.100000000000001\n",
      "4.200000000000001\n",
      "4.300000000000001\n",
      "4.4\n",
      "4.5\n",
      "4.6\n",
      "4.699999999999999\n",
      "4.799999999999999\n",
      "4.899999999999999\n",
      "4.999999999999998\n"
     ]
    },
    {
     "ename": "KeyboardInterrupt",
     "evalue": "",
     "output_type": "error",
     "traceback": [
      "\u001b[0;31m---------------------------------------------------------------------------\u001b[0m",
      "\u001b[0;31mKeyboardInterrupt\u001b[0m                         Traceback (most recent call last)",
      "\u001b[1;32m/home/sscf/mitx_python/Unit 2/topic3.ipynb Cell 6\u001b[0m in \u001b[0;36m<cell line: 6>\u001b[0;34m()\u001b[0m\n\u001b[1;32m      <a href='vscode-notebook-cell://wsl%2Bubuntu-20.04/home/sscf/mitx_python/Unit%202/topic3.ipynb#W5sdnNjb2RlLXJlbW90ZQ%3D%3D?line=3'>4</a>\u001b[0m guess \u001b[39m=\u001b[39m \u001b[39m0.0\u001b[39m\n\u001b[1;32m      <a href='vscode-notebook-cell://wsl%2Bubuntu-20.04/home/sscf/mitx_python/Unit%202/topic3.ipynb#W5sdnNjb2RlLXJlbW90ZQ%3D%3D?line=5'>6</a>\u001b[0m \u001b[39mwhile\u001b[39;00m guess \u001b[39m<\u001b[39m\u001b[39m=\u001b[39m x:\n\u001b[0;32m----> <a href='vscode-notebook-cell://wsl%2Bubuntu-20.04/home/sscf/mitx_python/Unit%202/topic3.ipynb#W5sdnNjb2RlLXJlbW90ZQ%3D%3D?line=6'>7</a>\u001b[0m     \u001b[39mif\u001b[39;00m \u001b[39mabs\u001b[39m(guess\u001b[39m*\u001b[39m\u001b[39m*\u001b[39m\u001b[39m2\u001b[39m \u001b[39m-\u001b[39mx) \u001b[39m>\u001b[39m\u001b[39m=\u001b[39m epsilon:\n\u001b[1;32m      <a href='vscode-notebook-cell://wsl%2Bubuntu-20.04/home/sscf/mitx_python/Unit%202/topic3.ipynb#W5sdnNjb2RlLXJlbW90ZQ%3D%3D?line=7'>8</a>\u001b[0m         guess \u001b[39m+\u001b[39m\u001b[39m=\u001b[39m step\n\u001b[1;32m      <a href='vscode-notebook-cell://wsl%2Bubuntu-20.04/home/sscf/mitx_python/Unit%202/topic3.ipynb#W5sdnNjb2RlLXJlbW90ZQ%3D%3D?line=8'>9</a>\u001b[0m         \u001b[39mprint\u001b[39m(guess)\n",
      "\u001b[0;31mKeyboardInterrupt\u001b[0m: "
     ]
    }
   ],
   "source": [
    "# Edx Exercise: 2\n",
    "\n",
    "x = 25\n",
    "epsilon = 0.01\n",
    "step = 0.1\n",
    "guess = 0.0\n",
    "\n",
    "while guess <= x:\n",
    "    if abs(guess**2 -x) >= epsilon:\n",
    "        guess += step\n",
    "        # No code to get out of the loop although the guess is correctly 4,9999..\n",
    "\n",
    "if abs(guess**2 - x) >= epsilon:\n",
    "    print('failed')\n",
    "else:\n",
    "    print('succeeded: ' + str(guess))\n",
    "\n",
    "# This loop runs forever."
   ]
  },
  {
   "cell_type": "code",
   "execution_count": 4,
   "metadata": {},
   "outputs": [
    {
     "name": "stdout",
     "output_type": "stream",
     "text": [
      "succeeded: 4.999999999999998\n"
     ]
    }
   ],
   "source": [
    "x = 25\n",
    "epsilon = 0.01\n",
    "step = 0.1\n",
    "guess = 0.0\n",
    "\n",
    "while abs(guess**2-x) >= epsilon:\n",
    "    if guess <= x:\n",
    "        guess += step\n",
    "    else:\n",
    "        break  # This break element correctly exits the loop.\n",
    "\n",
    "if abs(guess**2 - x) >= epsilon:\n",
    "    print('failed')\n",
    "else:\n",
    "    print('succeeded: ' + str(guess))\n",
    "    \n",
    "# This will print : succeeded: 4.99999999.."
   ]
  },
  {
   "cell_type": "code",
   "execution_count": null,
   "metadata": {},
   "outputs": [],
   "source": [
    "# Finally, let's use the same code as immediately above, but change the first line to x = 23. Note that the square root of 23 is roughly 4.7958.\n",
    "\n",
    "x = 23\n",
    "epsilon = 0.01\n",
    "step = 0.1\n",
    "guess = 0.0\n",
    "\n",
    "while abs(guess**2-x) >= epsilon:\n",
    "    if guess <= x:\n",
    "        guess += step\n",
    "    else:\n",
    "        break  # This break element correctly exits the loop.\n",
    "\n",
    "if abs(guess**2 - x) >= epsilon:\n",
    "    print('failed')\n",
    "else:\n",
    "    print('succeeded: ' + str(guess))\n",
    "\n",
    "# guess will jump from 4.7 straight to 4.8 and guess**2 will be greater than x.\n",
    "# it will then print failed. because 4.8**2 is 23,04 so abs(23.04 - 23) == 0.4 >= epsilon"
   ]
  },
  {
   "cell_type": "code",
   "execution_count": 15,
   "metadata": {},
   "outputs": [
    {
     "name": "stdout",
     "output_type": "stream",
     "text": [
      "Hithere\n",
      "Hi*there\n"
     ]
    }
   ],
   "source": [
    "# The output will place the subsequent string on the same line\n",
    "# and will connect the two prints with the character given by end\n",
    "\n",
    "print(\"Hi\",end='')\n",
    "print(\"there\")\n",
    "print(\"Hi\",end='*')\n",
    "print(\"there\")"
   ]
  },
  {
   "cell_type": "code",
   "execution_count": 43,
   "metadata": {},
   "outputs": [
    {
     "name": "stdout",
     "output_type": "stream",
     "text": [
      "Game over. Your secret number was: 47\n"
     ]
    }
   ],
   "source": [
    "while True:\n",
    "    try:\n",
    "        x = int(input(\"Please think of a number between 0 and 100!\"))\n",
    "        break\n",
    "    except ValueError:\n",
    "        print(\"Sorry, I did not understand your input.\")\n",
    "        continue\n",
    "low = 1\n",
    "high = 100\n",
    "guess = int(high / 2)\n",
    "\n",
    "while True:\n",
    "    answer = input(\"Is your secret number\" + \" \" + str(guess) + \" \" + \"? Enter 'h' to indicate the guess is too high. Enter 'l' to indicate the guess is too low. Enter 'c' to indicate I guessed correctly.\")\n",
    "    if answer == 'c':\n",
    "        print(\"Game over. Your secret number was:\", guess)\n",
    "        break\n",
    "    elif answer == 'h':\n",
    "        high = guess\n",
    "        guess = int((high + low) / 2)\n",
    "    elif answer == 'l':\n",
    "        low = guess\n",
    "        guess = int((high + low) / 2)\n",
    "    else:\n",
    "        print(\"Sorry, I did not understand your input.\")\n",
    "        \n",
    "# This code works but Edx does not accept it. 2nd try:"
   ]
  },
  {
   "cell_type": "code",
   "execution_count": 45,
   "metadata": {},
   "outputs": [
    {
     "name": "stdout",
     "output_type": "stream",
     "text": [
      "Please think of a number between 0 and 100!\n",
      "Is your secret number 50?\n",
      "Sorry, I did not understand your input.\n",
      "Is your secret number 50?\n",
      "Game over. Your secret number was: 50\n"
     ]
    }
   ],
   "source": [
    "print(\"Please think of a number between 0 and 100!\")\n",
    "low = 0\n",
    "high = 100\n",
    "\n",
    "while True:\n",
    "    guess = (low + high) // 2\n",
    "    print(\"Is your secret number \" + str(guess) + \"?\")\n",
    "    answer = input(\"Enter 'h' to indicate the guess is too high. Enter 'l' to indicate the guess is too low. Enter 'c' to indicate I guessed correctly. \")\n",
    "    if answer == 'c':\n",
    "        break\n",
    "    elif answer == 'h':\n",
    "        high = guess\n",
    "    elif answer == 'l':\n",
    "        low = guess\n",
    "    else:\n",
    "        print(\"Sorry, I did not understand your input.\")\n",
    "print(\"Game over. Your secret number was:\", guess)"
   ]
  }
 ],
 "metadata": {
  "kernelspec": {
   "display_name": "Python 3",
   "language": "python",
   "name": "python3"
  },
  "language_info": {
   "codemirror_mode": {
    "name": "ipython",
    "version": 3
   },
   "file_extension": ".py",
   "mimetype": "text/x-python",
   "name": "python",
   "nbconvert_exporter": "python",
   "pygments_lexer": "ipython3",
   "version": "3.10.5"
  },
  "orig_nbformat": 4
 },
 "nbformat": 4,
 "nbformat_minor": 2
}
