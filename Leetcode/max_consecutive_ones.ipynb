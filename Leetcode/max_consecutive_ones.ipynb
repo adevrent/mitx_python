{
 "cells": [
  {
   "cell_type": "code",
   "execution_count": null,
   "metadata": {},
   "outputs": [],
   "source": [
    "# Given a binary array nums, return the maximum number of consecutive 1's in the array."
   ]
  },
  {
   "cell_type": "code",
   "execution_count": 10,
   "metadata": {},
   "outputs": [
    {
     "name": "stdout",
     "output_type": "stream",
     "text": [
      "count = 1\n",
      "count = 2\n",
      "count = 3\n",
      "count = 4\n",
      "count = 5\n",
      "count = 0\n",
      "count = 1\n",
      "count = 2\n",
      "count = 3\n",
      "count = 4\n"
     ]
    },
    {
     "data": {
      "text/plain": [
       "5"
      ]
     },
     "execution_count": 10,
     "metadata": {},
     "output_type": "execute_result"
    }
   ],
   "source": [
    "nums = [1,1,1,1,1,0,1,1,1,1]\n",
    "\n",
    "def cons_ones(nums):\n",
    "    count = 0\n",
    "    max_count = 0\n",
    "    for num in nums:\n",
    "        if num == 1:\n",
    "            count += 1\n",
    "        else:\n",
    "            if count > max_count :\n",
    "                max_count = count\n",
    "            #print(\"  max_count =\", max_count)\n",
    "            count = 0\n",
    "        print(\"count =\", count)\n",
    "    if count > max_count :\n",
    "        max_count = count\n",
    "        #print(\"  max_count =\", max_count)\n",
    "    return max_count\n",
    "\n",
    "cons_ones(nums)"
   ]
  }
 ],
 "metadata": {
  "kernelspec": {
   "display_name": "Python 3",
   "language": "python",
   "name": "python3"
  },
  "language_info": {
   "codemirror_mode": {
    "name": "ipython",
    "version": 3
   },
   "file_extension": ".py",
   "mimetype": "text/x-python",
   "name": "python",
   "nbconvert_exporter": "python",
   "pygments_lexer": "ipython3",
   "version": "3.10.5"
  },
  "orig_nbformat": 4
 },
 "nbformat": 4,
 "nbformat_minor": 2
}
