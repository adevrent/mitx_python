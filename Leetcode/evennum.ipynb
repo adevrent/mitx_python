{
 "cells": [
  {
   "cell_type": "code",
   "execution_count": 10,
   "metadata": {},
   "outputs": [],
   "source": [
    "import random"
   ]
  },
  {
   "cell_type": "code",
   "execution_count": 11,
   "metadata": {},
   "outputs": [],
   "source": [
    "# Given an array nums of integers, return how many of them contain an even number of digits."
   ]
  },
  {
   "cell_type": "code",
   "execution_count": 12,
   "metadata": {},
   "outputs": [
    {
     "name": "stdout",
     "output_type": "stream",
     "text": [
      "['12', '345', '2', '6', '7896']\n"
     ]
    }
   ],
   "source": [
    "nums = [12,345,2,6,7896]\n",
    "def inttostr(nums):\n",
    "    for idx in range(len(nums)):\n",
    "        nums[idx] = str(nums[idx])\n",
    "    return None\n",
    "        \n",
    "inttostr(nums)\n",
    "print(nums)"
   ]
  },
  {
   "cell_type": "code",
   "execution_count": 13,
   "metadata": {},
   "outputs": [
    {
     "name": "stdout",
     "output_type": "stream",
     "text": [
      "2\n"
     ]
    }
   ],
   "source": [
    "count = 0\n",
    "for char in nums:\n",
    "    if len(char)%2 == 0:\n",
    "        count += 1\n",
    "print(count)"
   ]
  },
  {
   "cell_type": "code",
   "execution_count": 42,
   "metadata": {},
   "outputs": [
    {
     "name": "stdout",
     "output_type": "stream",
     "text": [
      "[489, 39, 110, 356, 84, 337, 301, 176, 20, 388, 296, 179, 448, 190, 69, 275, 194, 37, 24, 90, 65, 337]\n"
     ]
    }
   ],
   "source": [
    "def findNumbers(nums):\n",
    "    for idx in range(len(nums)):\n",
    "        nums[idx] = str(nums[idx])  # Convert all ints to str.\n",
    "    count = 0\n",
    "    for char in nums:\n",
    "        if len(char)%2 == 0:\n",
    "            count += 1  # If length of string is even, count += 1.\n",
    "    return count\n",
    "\n",
    "testlist = [random.randint(1, 500) for iter in range(random.randint(0, 50))]\n",
    "def testFindNumbers():\n",
    "    print(\"For the list\", testlist)\n",
    "    print(\"There are\",findNumbers(testlist), \"even digit numbers.\")"
   ]
  },
  {
   "cell_type": "code",
   "execution_count": 43,
   "metadata": {},
   "outputs": [
    {
     "name": "stdout",
     "output_type": "stream",
     "text": [
      "For the list [489, 39, 110, 356, 84, 337, 301, 176, 20, 388, 296, 179, 448, 190, 69, 275, 194, 37, 24, 90, 65, 337]\n",
      "There are 8 even digit numbers.\n"
     ]
    }
   ],
   "source": [
    "testFindNumbers()"
   ]
  }
 ],
 "metadata": {
  "kernelspec": {
   "display_name": "Python 3",
   "language": "python",
   "name": "python3"
  },
  "language_info": {
   "codemirror_mode": {
    "name": "ipython",
    "version": 3
   },
   "file_extension": ".py",
   "mimetype": "text/x-python",
   "name": "python",
   "nbconvert_exporter": "python",
   "pygments_lexer": "ipython3",
   "version": "3.10.5"
  },
  "orig_nbformat": 4
 },
 "nbformat": 4,
 "nbformat_minor": 2
}
