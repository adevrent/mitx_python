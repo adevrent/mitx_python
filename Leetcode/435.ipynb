{
 "cells": [
  {
   "cell_type": "code",
   "execution_count": null,
   "metadata": {},
   "outputs": [],
   "source": [
    "def selSort(L):\n",
    "    print(\"List at start:\", L)\n",
    "    for i in range(len(L)):\n",
    "        for j in range(i+1, len(L)):\n",
    "            print(\"  checking if\", L[j][0], \"<\", L[i][0])\n",
    "            if L[j][0] < L[i][0]:\n",
    "                print(\"    True!\")\n",
    "                L[i], L[j] = L[j], L[i]\n",
    "            else:\n",
    "                print(\"    False!\")\n",
    "    print(\"List at end:\", L)\n",
    "\n",
    "L = [[1,2],[2,3],[3,4],[1,3]]\n",
    "selSort(L)"
   ]
  }
 ],
 "metadata": {
  "kernelspec": {
   "display_name": "Python 3",
   "language": "python",
   "name": "python3"
  },
  "language_info": {
   "name": "python",
   "version": "3.10.5"
  },
  "orig_nbformat": 4
 },
 "nbformat": 4,
 "nbformat_minor": 2
}
