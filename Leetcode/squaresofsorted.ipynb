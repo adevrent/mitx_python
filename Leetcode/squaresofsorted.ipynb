{
 "cells": [
  {
   "cell_type": "code",
   "execution_count": null,
   "metadata": {},
   "outputs": [],
   "source": [
    "# Given an integer array nums sorted in non-decreasing order, return an array of the squares of each number sorted in non-decreasing order."
   ]
  },
  {
   "cell_type": "code",
   "execution_count": 25,
   "metadata": {},
   "outputs": [],
   "source": [
    "nums = [-4,-1,0,3,10]\n",
    "\n",
    "# Version with manual sort, complexity O(n^2).\n",
    "def sortedSquaresManual(nums):\n",
    "    squared_nums = [x**2 for x in nums]\n",
    "    # Selection sort:\n",
    "    def selSort(nums):\n",
    "        for i in range(len(nums)):\n",
    "            for j in range(i+1, len(nums)):\n",
    "                if nums[j] < nums[i]:\n",
    "                    nums[i], nums[j] = nums[j], nums[i]  # if higher index lesser than small index, swap.\n",
    "    selSort(squared_nums)\n",
    "    return squared_nums"
   ]
  },
  {
   "cell_type": "code",
   "execution_count": 35,
   "metadata": {},
   "outputs": [],
   "source": [
    "# Version with built in sort.\n",
    "def sortedSquares(nums):\n",
    "    squared_nums = [x**2 for x in nums]\n",
    "    squared_nums.sort()\n",
    "    return squared_nums"
   ]
  },
  {
   "cell_type": "code",
   "execution_count": 36,
   "metadata": {},
   "outputs": [
    {
     "name": "stdout",
     "output_type": "stream",
     "text": [
      "[16, 1, 0, 9, 100]\n",
      "[0, 1, 9, 16, 100]\n"
     ]
    }
   ],
   "source": [
    "nums = [-4,-1,0,3,10]\n",
    "squared_nums = [x**2 for x in nums]\n",
    "print(squared_nums)\n",
    "def selSort(nums):\n",
    "    for i in range(len(nums)):\n",
    "        for j in range(i+1, len(nums)):\n",
    "            if nums[j] < nums[i]:\n",
    "                nums[i], nums[j] = nums[j], nums[i]  # if higher index lesser than small index, swap.\n",
    "selSort(squared_nums)\n",
    "print(squared_nums)"
   ]
  },
  {
   "cell_type": "code",
   "execution_count": 37,
   "metadata": {},
   "outputs": [
    {
     "data": {
      "text/plain": [
       "[0, 1, 9, 16, 100]"
      ]
     },
     "execution_count": 37,
     "metadata": {},
     "output_type": "execute_result"
    }
   ],
   "source": [
    "sortedSquares(nums)"
   ]
  },
  {
   "cell_type": "code",
   "execution_count": 44,
   "metadata": {},
   "outputs": [
    {
     "name": "stdout",
     "output_type": "stream",
     "text": [
      "Before: [-402, 372, -135, -490, -217, 30, 495, 167, -22, 199, 491]\n",
      "After: [484, 900, 18225, 27889, 39601, 47089, 138384, 161604, 240100, 241081, 245025]\n"
     ]
    }
   ],
   "source": [
    "import random\n",
    "testlist = [random.randint(-500, 500) for iter in range(random.randint(0, 50))]\n",
    "print(\"Before:\", testlist)\n",
    "sortedSquares(testlist)\n",
    "print(\"After:\", sortedSquares(testlist))"
   ]
  }
 ],
 "metadata": {
  "kernelspec": {
   "display_name": "Python 3",
   "language": "python",
   "name": "python3"
  },
  "language_info": {
   "codemirror_mode": {
    "name": "ipython",
    "version": 3
   },
   "file_extension": ".py",
   "mimetype": "text/x-python",
   "name": "python",
   "nbconvert_exporter": "python",
   "pygments_lexer": "ipython3",
   "version": "3.10.5"
  },
  "orig_nbformat": 4
 },
 "nbformat": 4,
 "nbformat_minor": 2
}
