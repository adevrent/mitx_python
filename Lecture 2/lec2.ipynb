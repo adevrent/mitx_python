{
 "cells": [
  {
   "cell_type": "code",
   "execution_count": 13,
   "metadata": {},
   "outputs": [
    {
     "name": "stdout",
     "output_type": "stream",
     "text": [
      "18 is divisible by 2 and 3.\n"
     ]
    }
   ],
   "source": [
    "x = 18\n",
    "\n",
    "if x%2 == 0:\n",
    "    if x%3 == 0:\n",
    "        print(x, \"is divisible by 2 and 3.\")\n",
    "    else:\n",
    "        print(x, \"is divisible by 2 but not 3.\")\n",
    "elif x%3 == 0:\n",
    "    print(x, \"is divisible by 3 but not 2.\")\n",
    "else:\n",
    "    print(x, \"is not divisible by 2 or 3.\")"
   ]
  },
  {
   "cell_type": "code",
   "execution_count": 17,
   "metadata": {},
   "outputs": [
    {
     "name": "stdout",
     "output_type": "stream",
     "text": [
      "7 is the largest odd number.\n"
     ]
    }
   ],
   "source": [
    "'''\n",
    "Write a program that examines three variables - x, y and z - and prints the largest odd number among them.\n",
    "If none of them are odd, it should print a message to that effect.\n",
    "'''\n",
    "\n",
    "x = 0\n",
    "y = 0\n",
    "z = 0\n",
    "\n",
    "if x > y and x > z:\n",
    "    if x%2 != 0:\n",
    "        print(x, \"is the largest odd number.\")\n",
    "    elif y > z:\n",
    "        if y%2 != 0:\n",
    "            print(y, \"is the largest odd number.\")\n",
    "        else:\n",
    "            if z%2 != 0:\n",
    "                print(z, \"is the largest odd number.\")\n",
    "            else:\n",
    "                print(\"There are no odd numbers here.\")\n",
    "elif y > z:\n",
    "    if y%2 != 0:\n",
    "        print(y, \"is the largest odd number.\")\n",
    "    else:\n",
    "        if z%2 != 0:\n",
    "            print(z, \"is the largest odd number.\")\n",
    "        else:\n",
    "            print(\"There are no odd numbers here.\")\n",
    "else:\n",
    "    if z%2 != 0:\n",
    "        print(z, \"is the largest odd number.\")\n",
    "    else:\n",
    "        print(\"There are no odd numbers here.\")"
   ]
  }
 ],
 "metadata": {
  "kernelspec": {
   "display_name": ".env",
   "language": "python",
   "name": ".env"
  },
  "language_info": {
   "codemirror_mode": {
    "name": "ipython",
    "version": 3
   },
   "file_extension": ".py",
   "mimetype": "text/x-python",
   "name": "python",
   "nbconvert_exporter": "python",
   "pygments_lexer": "ipython3",
   "version": "3.10.5"
  },
  "orig_nbformat": 4
 },
 "nbformat": 4,
 "nbformat_minor": 2
}
