{
 "cells": [
  {
   "cell_type": "code",
   "execution_count": 2,
   "metadata": {},
   "outputs": [],
   "source": [
    "def search(L, e):\n",
    "    \"\"\"Assumes L is a list, the elements of which are in\n",
    "    ascending order.\n",
    "    Returns True if e is in L and False otherwise\"\"\"\n",
    "\n",
    "    def bSearch(L, e, low, high):\n",
    "        #Decrements high - low\n",
    "        if high == low:\n",
    "            return L[low] == e\n",
    "        mid = (low + high)//2\n",
    "        if L[mid] == e:\n",
    "            return True\n",
    "        elif L[mid] > e:\n",
    "            if low == mid: #nothing left to search\n",
    "                return False\n",
    "            else:\n",
    "                return bSearch(L, e, low, mid - 1)\n",
    "        else:\n",
    "            return bSearch(L, e, mid + 1, high)\n",
    "\n",
    "    if len(L) == 0:\n",
    "        return False\n",
    "    else:\n",
    "        return bSearch(L, e, 0, len(L) - 1)"
   ]
  },
  {
   "cell_type": "code",
   "execution_count": 6,
   "metadata": {},
   "outputs": [
    {
     "data": {
      "text/plain": [
       "True"
      ]
     },
     "execution_count": 6,
     "metadata": {},
     "output_type": "execute_result"
    }
   ],
   "source": [
    "search([10, 20, 30, 40, 50], 20)"
   ]
  },
  {
   "cell_type": "code",
   "execution_count": 8,
   "metadata": {},
   "outputs": [],
   "source": [
    "# Selection sort algorithm.\n",
    "def selSort(L):\n",
    "    \"\"\"Assumes that L is a list of elements that can be\n",
    "    compared using >.\n",
    "    Sorts L in ascending order\"\"\"\n",
    "    suffixStart = 0\n",
    "    while suffixStart != len(L):\n",
    "        #look at each element in suffix\n",
    "        for i in range(suffixStart, len(L)):\n",
    "            if L[i] < L[suffixStart]:\n",
    "                #swap position of elements\n",
    "                L[suffixStart], L[i] = L[i], L[suffixStart]\n",
    "        suffixStart += 1\n",
    "        print(\"Updated list:\", L)"
   ]
  },
  {
   "cell_type": "code",
   "execution_count": 10,
   "metadata": {},
   "outputs": [
    {
     "name": "stdout",
     "output_type": "stream",
     "text": [
      "Updated list: [1, 4, 10, 3, 6, 2, 3]\n",
      "Updated list: [1, 2, 10, 4, 6, 3, 3]\n",
      "Updated list: [1, 2, 3, 10, 6, 4, 3]\n",
      "Updated list: [1, 2, 3, 3, 10, 6, 4]\n",
      "Updated list: [1, 2, 3, 3, 4, 10, 6]\n",
      "Updated list: [1, 2, 3, 3, 4, 6, 10]\n",
      "Updated list: [1, 2, 3, 3, 4, 6, 10]\n"
     ]
    }
   ],
   "source": [
    "testlist = [3, 4, 10, 1, 6, 2, 3]\n",
    "selSort(testlist)\n",
    "# Complexity is quadratic. O(len(L)^2)"
   ]
  },
  {
   "cell_type": "code",
   "execution_count": 7,
   "metadata": {},
   "outputs": [
    {
     "data": {
      "text/plain": [
       "[]"
      ]
     },
     "execution_count": 7,
     "metadata": {},
     "output_type": "execute_result"
    }
   ],
   "source": [
    "L = [5]\n",
    "L[1:]"
   ]
  },
  {
   "cell_type": "code",
   "execution_count": 9,
   "metadata": {},
   "outputs": [],
   "source": [
    "def search3(L, e):\n",
    "    if len(L) == 0:\n",
    "        return False\n",
    "    print(\"List L: \" + str(L))\n",
    "    if L[0] == e:\n",
    "        return True\n",
    "    elif L[0] > e:\n",
    "        return False\n",
    "    else:\n",
    "        return search3(L[1:], e)"
   ]
  },
  {
   "cell_type": "code",
   "execution_count": 11,
   "metadata": {},
   "outputs": [
    {
     "name": "stdout",
     "output_type": "stream",
     "text": [
      "List L: [1, 2, 3]\n",
      "List L: [2, 3]\n",
      "List L: [3]\n"
     ]
    },
    {
     "data": {
      "text/plain": [
       "False"
      ]
     },
     "execution_count": 11,
     "metadata": {},
     "output_type": "execute_result"
    }
   ],
   "source": [
    "L = [1, 2, 3]\n",
    "search3(L, 4)"
   ]
  },
  {
   "cell_type": "code",
   "execution_count": 19,
   "metadata": {},
   "outputs": [
    {
     "name": "stdout",
     "output_type": "stream",
     "text": [
      "[0, 1, 2, 3, 4, 5, 6]\n"
     ]
    }
   ],
   "source": [
    "def mySort(L):\n",
    "    \"\"\" L, list with unique elements \"\"\"\n",
    "    clear = False\n",
    "    while not clear:\n",
    "        clear = True\n",
    "        for j in range(1, len(L)):\n",
    "            if L[j-1] > L[j]:\n",
    "                clear = False\n",
    "                temp = L[j]\n",
    "                L[j] = L[j-1]\n",
    "                L[j-1] = temp\n",
    "                \n",
    "L = [10, 8, 1, 4, 5, 2, 3]\n",
    "\n",
    "mySort(L)\n",
    "print(L)"
   ]
  },
  {
   "cell_type": "code",
   "execution_count": 16,
   "metadata": {},
   "outputs": [],
   "source": [
    "def newSort(L):\n",
    "    \"\"\" L, list with unique elements \"\"\"\n",
    "    for i in range(len(L) - 1):\n",
    "        j=i+1\n",
    "        while j < len(L):\n",
    "            if L[i] > L[j]:\n",
    "                temp = L[i]\n",
    "                L[i] = L[j]\n",
    "                L[j] = temp\n",
    "            j += 1"
   ]
  },
  {
   "cell_type": "code",
   "execution_count": null,
   "metadata": {},
   "outputs": [],
   "source": []
  }
 ],
 "metadata": {
  "kernelspec": {
   "display_name": ".env",
   "language": "python",
   "name": ".env"
  },
  "language_info": {
   "codemirror_mode": {
    "name": "ipython",
    "version": 3
   },
   "file_extension": ".py",
   "mimetype": "text/x-python",
   "name": "python",
   "nbconvert_exporter": "python",
   "pygments_lexer": "ipython3",
   "version": "3.10.5"
  },
  "orig_nbformat": 4
 },
 "nbformat": 4,
 "nbformat_minor": 2
}
