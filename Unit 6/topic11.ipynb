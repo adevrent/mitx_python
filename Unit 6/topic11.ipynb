{
 "cells": [
  {
   "cell_type": "code",
   "execution_count": 1,
   "metadata": {},
   "outputs": [],
   "source": [
    "def intToStr(i):\n",
    "    \"\"\"Assumes i is a nonnegative int\n",
    "    Returns a decimal string representation of i\"\"\"\n",
    "    digits = '0123456789'\n",
    "    if i == 0:\n",
    "        return '0'\n",
    "    result = ''\n",
    "    while i > 0:\n",
    "        result = digits[i%10] + result\n",
    "        i = i//10\n",
    "    return result\n",
    "\n",
    "def addDigits(n):\n",
    "    \"\"\"Assumes n is a nonnegative int\n",
    "    Returns the sum of the digits in n\"\"\"\n",
    "    stringRep = intToStr(n)\n",
    "    val = 0\n",
    "    for c in stringRep:\n",
    "        val += int(c)\n",
    "    return val\n",
    "\n",
    "# Complexity of addDigits(n) is log(n) + log(n)"
   ]
  },
  {
   "cell_type": "code",
   "execution_count": 2,
   "metadata": {},
   "outputs": [],
   "source": [
    "def isSubset(L1, L2):\n",
    "    \"\"\"Assumes L1 and L2 are lists.\n",
    "    Returns True if each element in L1 is also in L2\n",
    "    and False otherwise.\"\"\"\n",
    "    for e1 in L1:\n",
    "        matched = False\n",
    "        for e2 in L2:\n",
    "            if e1 == e2:\n",
    "                matched = True\n",
    "                break\n",
    "        if not matched:\n",
    "            return False\n",
    "    return True"
   ]
  },
  {
   "cell_type": "code",
   "execution_count": 2,
   "metadata": {},
   "outputs": [
    {
     "name": "stdout",
     "output_type": "stream",
     "text": [
      "2 20\n",
      "4 10.0\n",
      "16 5.0\n",
      "16 4.0\n",
      "256 2.0\n",
      "65536 1.0\n",
      "65536 0.0\n"
     ]
    },
    {
     "data": {
      "text/plain": [
       "1048576"
      ]
     },
     "execution_count": 2,
     "metadata": {},
     "output_type": "execute_result"
    }
   ],
   "source": [
    "def recurPowerNew(a, b):\n",
    "    print(a, b)\n",
    "    if b == 0:\n",
    "        return 1\n",
    "    elif b%2 == 0:\n",
    "        return recurPowerNew(a*a, b/2)\n",
    "    else:\n",
    "        return a * recurPowerNew(a, b-1)  # -> a * a*a * 1 for a^3\n",
    "    \n",
    "recurPowerNew(2, 6)"
   ]
  }
 ],
 "metadata": {
  "kernelspec": {
   "display_name": ".env",
   "language": "python",
   "name": ".env"
  },
  "language_info": {
   "codemirror_mode": {
    "name": "ipython",
    "version": 3
   },
   "file_extension": ".py",
   "mimetype": "text/x-python",
   "name": "python",
   "nbconvert_exporter": "python",
   "pygments_lexer": "ipython3",
   "version": "3.10.5"
  },
  "orig_nbformat": 4
 },
 "nbformat": 4,
 "nbformat_minor": 2
}
